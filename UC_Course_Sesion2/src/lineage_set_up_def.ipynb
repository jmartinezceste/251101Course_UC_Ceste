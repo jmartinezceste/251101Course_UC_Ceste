{
 "cells": [
  {
   "cell_type": "code",
   "execution_count": 0,
   "metadata": {
    "application/vnd.databricks.v1+cell": {
     "cellMetadata": {
      "byteLimit": 2048000,
      "implicitDf": true,
      "rowLimit": 10000
     },
     "inputWidgets": {},
     "nuid": "ba3381b3-6ee8-4432-8488-9b6035915f55",
     "showTitle": false,
     "tableResultSettingsMap": {},
     "title": ""
    }
   },
   "outputs": [],
   "source": [
    "%sql\n",
    "drop catalog if exists mi_restaurante cascade"
   ]
  },
  {
   "cell_type": "code",
   "execution_count": 0,
   "metadata": {
    "application/vnd.databricks.v1+cell": {
     "cellMetadata": {
      "byteLimit": 2048000,
      "implicitDf": true,
      "rowLimit": 10000
     },
     "inputWidgets": {},
     "nuid": "69868d51-d4bd-4f46-a40d-d311d5c5bd31",
     "showTitle": false,
     "tableResultSettingsMap": {},
     "title": ""
    }
   },
   "outputs": [],
   "source": [
    "%sql\n",
    "CREATE CATALOG IF NOT EXISTS mi_restaurante;\n",
    "\n",
    "-- 02 · Bronze\n",
    "CREATE SCHEMA IF NOT EXISTS mi_restaurante.layer20_bronze;\n",
    "\n",
    "-- 03 · Silver\n",
    "CREATE SCHEMA IF NOT EXISTS mi_restaurante.layer30_silver;\n",
    "\n",
    "-- 04 · Gold\n",
    "CREATE SCHEMA IF NOT EXISTS mi_restaurante.layer40_gold;\n",
    "\n",
    "-- 99 · Operaciones / Configuración\n",
    "CREATE SCHEMA IF NOT EXISTS mi_restaurante.layer99_ops;\n",
    "CREATE VOLUME IF NOT EXISTS mi_restaurante.layer99_ops.configs;"
   ]
  },
  {
   "cell_type": "code",
   "execution_count": 0,
   "metadata": {
    "application/vnd.databricks.v1+cell": {
     "cellMetadata": {
      "byteLimit": 2048000,
      "rowLimit": 10000
     },
     "inputWidgets": {},
     "nuid": "df94f1a3-3f84-4bac-9779-0abcd522063c",
     "showTitle": false,
     "tableResultSettingsMap": {},
     "title": ""
    }
   },
   "outputs": [],
   "source": [
    "catalog = \"mi_restaurante\"\n",
    "schema = \"layer20_bronze\"\n",
    "prefix = f\"{catalog}.{schema}\"\n"
   ]
  },
  {
   "cell_type": "code",
   "execution_count": 0,
   "metadata": {
    "application/vnd.databricks.v1+cell": {
     "cellMetadata": {
      "byteLimit": 2048000,
      "rowLimit": 10000
     },
     "inputWidgets": {},
     "nuid": "4a8a5b5d-41a9-4f3b-8cbe-4af14f1f34de",
     "showTitle": false,
     "tableResultSettingsMap": {},
     "title": ""
    }
   },
   "outputs": [
    {
     "output_type": "execute_result",
     "data": {
      "text/plain": [
       "DataFrame[num_affected_rows: bigint, num_inserted_rows: bigint]"
      ]
     },
     "execution_count": 5,
     "metadata": {},
     "output_type": "execute_result"
    }
   ],
   "source": [
    "\n",
    "spark.sql(f\"\"\"\n",
    "CREATE OR REPLACE TABLE {prefix}.menu_abril (\n",
    "  plato_id STRING,\n",
    "  restaurante STRING,\n",
    "  plato_descripcion STRING,\n",
    "  tipo STRING,\n",
    "  coste DOUBLE,\n",
    "  precio DOUBLE,\n",
    "  ventas INT\n",
    ")\n",
    "\"\"\")\n",
    "\n",
    "spark.sql(f\"\"\"\n",
    "INSERT INTO {prefix}.menu_abril VALUES\n",
    "  ('1435ab', 'Restaurante Poblenou','Espaguetis con albóndigas', 'principal', 14.9, 19.9, 320),\n",
    "  ('9247bc', 'Restaurante Poblenou','Ensalada César', 'entrante', 6.5, 11.9, 410),\n",
    "  ('6721kl', 'Restaurante Poblenou','Tarta de queso', 'postre', 4.9, 9.9, 390),\n",
    "  ('3388rt', 'Restaurante Poblenou','Solomillo con foie', 'segundo', 11.2, 17.9, 280)\n",
    "\"\"\")\n",
    "\n",
    "spark.sql(f\"\"\"\n",
    "INSERT INTO {prefix}.menu_abril VALUES\n",
    "  ('1435ab', 'Restaurante Sants','Espaguetis con albóndigas', 'principal', 14.9, 20.9, 320),\n",
    "  ('9247bc', 'Restaurante Sants','Ensalada César', 'entrante', 6.5, 13.9, 410),\n",
    "  ('6721kl', 'Restaurante Sants','Tarta de queso', 'postre', 4.9, 11.9, 390),\n",
    "  ('3388rt', 'Restaurante Sants','Solomillo con foie', 'segundo', 13.2, 17.9, 280)\n",
    "\"\"\")\n",
    "\n",
    "spark.sql(f\"\"\"\n",
    "CREATE OR REPLACE TABLE {prefix}.menu_mayo (\n",
    "  plato_id STRING,\n",
    "  restaurante STRING,\n",
    "  plato_descripcion STRING,\n",
    "  tipo STRING,\n",
    "  coste DOUBLE,\n",
    "  precio DOUBLE,\n",
    "  ventas INT\n",
    ")\n",
    "\"\"\")\n",
    "\n",
    "spark.sql(f\"\"\"\n",
    "INSERT INTO {prefix}.menu_mayo VALUES\n",
    "  ('8135zx', 'Restaurante Poblenou','Croquetas de jamón', 'entrante', 5.9, 9.9, 310),\n",
    "  ('5432ty', 'Restaurante Poblenou','Pollo al curry', 'principal', 10.0, 15.5, 280),\n",
    "  ('1122qp', 'Restaurante Poblenou','Brownie de chocolate', 'postre', 6.5, 12.0, 450),\n",
    "  ('9988dd', 'Restaurante Poblenou','Lubina al horno', 'segundo', 12.1, 18.8, 270)\n",
    "\"\"\")\n",
    "\n",
    "spark.sql(f\"\"\"\n",
    "INSERT INTO {prefix}.menu_mayo VALUES\n",
    "  ('8135zx', 'Restaurante Sants','Croquetas de jamón', 'entrante', 5.9, 12.9, 310),\n",
    "  ('5432ty', 'Restaurante Sants','Pollo al curry', 'principal', 10.0, 17.5, 280),\n",
    "  ('1122qp', 'Restaurante Sants','Brownie de chocolate', 'postre', 6.5, 19.0, 450),\n",
    "  ('9988dd', 'Restaurante Sants','Lubina al horno', 'segundo', 12.1, 21.8, 270)\n",
    "\"\"\")\n",
    "\n",
    "\n",
    "spark.sql(f\"\"\"\n",
    "CREATE OR REPLACE TABLE {prefix}.menu_junio (\n",
    "  plato_id STRING,\n",
    "  restaurante STRING,\n",
    "  plato_descripcion STRING,\n",
    "  tipo STRING,\n",
    "  coste DOUBLE,\n",
    "  precio DOUBLE,\n",
    "  ventas INT\n",
    ")\n",
    "\"\"\")\n",
    "\n",
    "spark.sql(f\"\"\"\n",
    "INSERT INTO {prefix}.menu_junio VALUES\n",
    "  ('7412mw', 'Restaurante Poblenou','Empanada gallega', 'entrante', 6.9, 11.5, 370),\n",
    "  ('3625re', 'Restaurante Poblenou','Pisto manchego', 'principal', 10.2, 16.7, 410),\n",
    "  ('2299ff', 'Restaurante Poblenou','Flan de huevo', 'postre', 4.7, 9.5, 400),\n",
    "  ('4011tt', 'Restaurante Poblenou','Entrecot de ternera', 'segundo', 13.9, 20.0, 290)\n",
    "\"\"\")\n",
    "\n",
    "spark.sql(f\"\"\"\n",
    "INSERT INTO {prefix}.menu_junio VALUES\n",
    "  ('7412mw', 'Restaurante Sants','Empanada gallega', 'entrante', 6.9, 16.5, 370),\n",
    "  ('3625re', 'Restaurante Sants','Pisto manchego', 'principal', 10.2, 19.7, 410),\n",
    "  ('2299ff', 'Restaurante Sants','Flan de huevo', 'postre', 4.7, 9.5, 400),\n",
    "  ('4011tt', 'Restaurante Sants','Entrecot de ternera', 'segundo', 15.9, 20.0, 290)\n",
    "\"\"\")"
   ]
  },
  {
   "cell_type": "code",
   "execution_count": 0,
   "metadata": {
    "application/vnd.databricks.v1+cell": {
     "cellMetadata": {
      "byteLimit": 2048000,
      "rowLimit": 10000
     },
     "inputWidgets": {},
     "nuid": "656d7ac1-da9c-4a04-be5d-e7822a6ae1a4",
     "showTitle": false,
     "tableResultSettingsMap": {},
     "title": ""
    }
   },
   "outputs": [
    {
     "output_type": "execute_result",
     "data": {
      "text/plain": [
       "DataFrame[num_affected_rows: bigint, num_inserted_rows: bigint]"
      ]
     },
     "execution_count": 6,
     "metadata": {},
     "output_type": "execute_result"
    }
   ],
   "source": [
    "spark.sql(f\"\"\"\n",
    "CREATE OR REPLACE TABLE {prefix}.dim_restaurants (\n",
    "  restaurante STRING,\n",
    "  ciudad STRING,\n",
    "  direccion STRING,\n",
    "  trabajadores INT,\n",
    "  presupuesto_mensual double,\n",
    "  kind_cuisine STRING\n",
    ")\n",
    "\"\"\")\n",
    "\n",
    "spark.sql(f\"\"\"\n",
    "INSERT INTO {prefix}.dim_restaurants VALUES\n",
    "  ('Restaurante Poblenou', 'Barcelona','Carrer de València 9-7', 19,30000,'italiana'),\n",
    "  ('Restaurante Sants', 'Barcelona','Pujades - Roc Boronat 08005', 6,19000,'mediterranea')\n",
    "\"\"\")"
   ]
  },
  {
   "cell_type": "code",
   "execution_count": 0,
   "metadata": {
    "application/vnd.databricks.v1+cell": {
     "cellMetadata": {
      "byteLimit": 2048000,
      "rowLimit": 10000
     },
     "inputWidgets": {},
     "nuid": "e6b333ff-b147-4c6f-9e18-256194c91d68",
     "showTitle": false,
     "tableResultSettingsMap": {},
     "title": ""
    }
   },
   "outputs": [
    {
     "output_type": "execute_result",
     "data": {
      "text/plain": [
       "DataFrame[num_affected_rows: bigint, num_inserted_rows: bigint]"
      ]
     },
     "execution_count": 7,
     "metadata": {},
     "output_type": "execute_result"
    }
   ],
   "source": [
    "spark.sql(f\"\"\"\n",
    "CREATE OR REPLACE TABLE {prefix}.menu_julio (\n",
    "  plato_id STRING,\n",
    "  restaurante STRING,\n",
    "  plato_descripcion STRING,\n",
    "  tipo STRING,\n",
    "  coste DOUBLE,\n",
    "  precio DOUBLE,\n",
    "  ventas INT\n",
    ")\"\"\")\n",
    "\n",
    "spark.sql(f\"\"\"\n",
    "INSERT INTO {prefix}.menu_julio VALUES\n",
    "  ('7777aa', 'Restaurante Poblenou','Fideuà', 'principal', 11.0, 17.0, 310),\n",
    "  ('8888bb', 'Restaurante Poblenou','Melón con jamón', 'entrante', 4.0, 7.5, 370),\n",
    "  ('9999cc', 'Restaurante Poblenou','Helado artesanal', 'postre', 3.9, 8.5, 420),\n",
    "  ('aaaa11', 'Restaurante Poblenou','Chuletón', 'segundo', 14.5, 22.0, 280)\n",
    "\"\"\")\n",
    "\n",
    "spark.sql(f\"\"\"\n",
    "INSERT INTO {prefix}.menu_julio VALUES\n",
    "  ('7777aa', 'Restaurante Sants','Fideuà', 'principal', 11.0, 19.0, 310),\n",
    "  ('8888bb', 'Restaurante Sants','Melón con jamón', 'entrante', 4.0, 10.5, 370),\n",
    "  ('9999cc', 'Restaurante Sants','Helado artesanal', 'postre', 3.9, 9.5, 420),\n",
    "  ('aaaa11', 'Restaurante Sants','Chuletón', 'segundo', 14.5, 20.0, 280)\n",
    "\"\"\")\n",
    "\n",
    "spark.sql(f\"\"\"\n",
    "CREATE OR REPLACE TABLE {prefix}.menu_agosto (\n",
    "  plato_id STRING,\n",
    "  restaurante STRING,\n",
    "  plato_descripcion STRING,\n",
    "  tipo STRING,\n",
    "  coste DOUBLE,\n",
    "  precio DOUBLE,\n",
    "  ventas INT\n",
    ")\"\"\")\n",
    "\n",
    "spark.sql(f\"\"\"\n",
    "INSERT INTO {prefix}.menu_agosto VALUES\n",
    "  ('bbbb22', 'Restaurante Poblenou','Gazpacho', 'entrante', 5.5, 10.0, 300),\n",
    "  ('cccc33', 'Restaurante Poblenou','Arroz al horno', 'principal', 9.8, 15.9, 390),\n",
    "  ('dddd44', 'Restaurante Poblenou','Tarta de limón', 'postre', 5.4, 10.9, 340),\n",
    "  ('eeee55', 'Restaurante Poblenou','Bacalao gratinado', 'segundo', 13.2, 19.8, 310)\n",
    "\"\"\")\n",
    "\n",
    "spark.sql(f\"\"\"\n",
    "INSERT INTO {prefix}.menu_agosto VALUES\n",
    "  ('bbbb22', 'Restaurante Sants','Gazpacho', 'entrante', 5.5, 13.0, 300),\n",
    "  ('cccc33', 'Restaurante Sants','Arroz al horno', 'principal', 10.8, 15.9, 390),\n",
    "  ('dddd44', 'Restaurante Sants','Tarta de limón', 'postre', 5.4, 12.9, 340),\n",
    "  ('eeee55', 'Restaurante Sants','Bacalao gratinado', 'segundo', 13.2, 20.8, 310)\n",
    "\"\"\")\n",
    "\n",
    "spark.sql(f\"\"\"\n",
    "CREATE OR REPLACE TABLE {prefix}.menu_septiembre (\n",
    "  plato_id STRING,\n",
    "  restaurante STRING,\n",
    "  plato_descripcion STRING,\n",
    "  tipo STRING,\n",
    "  coste DOUBLE,\n",
    "  precio DOUBLE,\n",
    "  ventas INT\n",
    ")\"\"\")\n",
    "\n",
    "spark.sql(f\"\"\"\n",
    "INSERT INTO {prefix}.menu_septiembre VALUES\n",
    "  ('ffff66', 'Restaurante Poblenou','Huevos rotos', 'entrante', 6.0, 10.5, 330),\n",
    "  ('gggg77', 'Restaurante Poblenou','Rabo de toro', 'principal', 12.3, 18.7, 370),\n",
    "  ('hhhh88', 'Restaurante Poblenou','Flan casero', 'postre', 4.3, 9.0, 410),\n",
    "  ('iiii99', 'Restaurante Poblenou','Cordero asado', 'segundo', 13.7, 20.5, 290)\n",
    "\"\"\")\n",
    "\n",
    "spark.sql(f\"\"\"\n",
    "INSERT INTO {prefix}.menu_septiembre VALUES\n",
    "  ('ffff66', 'Restaurante Sants','Huevos rotos', 'entrante', 6.0, 12.5, 330),\n",
    "  ('gggg77', 'Restaurante Sants','Rabo de toro', 'principal', 12.3, 19.7, 370),\n",
    "  ('hhhh88', 'Restaurante Sants','Flan casero', 'postre', 4.3, 9.0, 410),\n",
    "  ('iiii99', 'Restaurante Sants','Cordero asado', 'segundo', 13.7, 21.5, 290)\n",
    "\"\"\")"
   ]
  },
  {
   "cell_type": "code",
   "execution_count": 0,
   "metadata": {
    "application/vnd.databricks.v1+cell": {
     "cellMetadata": {
      "byteLimit": 2048000,
      "rowLimit": 10000
     },
     "inputWidgets": {},
     "nuid": "716a9006-9051-4d73-be7b-6ffa5208d7ee",
     "showTitle": false,
     "tableResultSettingsMap": {},
     "title": ""
    }
   },
   "outputs": [],
   "source": [
    "catalog = \"Mi_Restaurante\"\n",
    "schema2 = \"layer30_silver\"\n",
    "prefix2 = f\"{catalog}.{schema2}\""
   ]
  },
  {
   "cell_type": "code",
   "execution_count": 0,
   "metadata": {
    "application/vnd.databricks.v1+cell": {
     "cellMetadata": {
      "byteLimit": 2048000,
      "rowLimit": 10000
     },
     "inputWidgets": {},
     "nuid": "7b76ee92-34f5-42a0-ac06-63038dd6fdaf",
     "showTitle": false,
     "tableResultSettingsMap": {},
     "title": ""
    }
   },
   "outputs": [
    {
     "output_type": "execute_result",
     "data": {
      "text/plain": [
       "DataFrame[num_affected_rows: bigint, num_inserted_rows: bigint]"
      ]
     },
     "execution_count": 9,
     "metadata": {},
     "output_type": "execute_result"
    }
   ],
   "source": [
    "spark.sql(f\"\"\"\n",
    "CREATE OR REPLACE TABLE {prefix2}.menu_completo_v2 AS\n",
    "SELECT plato_id,restaurante, plato_descripcion, tipo, ventas, coste, precio, 'Julio' AS mes FROM {prefix}.menu_julio\n",
    "UNION ALL\n",
    "SELECT plato_id,restaurante, plato_descripcion, tipo, ventas, coste, precio, 'Agosto' AS mes FROM {prefix}.menu_agosto\n",
    "UNION ALL\n",
    "SELECT plato_id,restaurante, plato_descripcion, tipo, ventas, coste, precio, 'Septiembre' AS mes FROM {prefix}.menu_septiembre;\n",
    "\"\"\")"
   ]
  },
  {
   "cell_type": "code",
   "execution_count": 0,
   "metadata": {
    "application/vnd.databricks.v1+cell": {
     "cellMetadata": {
      "byteLimit": 2048000,
      "rowLimit": 10000
     },
     "inputWidgets": {},
     "nuid": "a64d46e8-6909-4bd9-bbe1-fcbeac4e63e9",
     "showTitle": false,
     "tableResultSettingsMap": {},
     "title": ""
    }
   },
   "outputs": [
    {
     "output_type": "execute_result",
     "data": {
      "text/plain": [
       "DataFrame[num_affected_rows: bigint, num_inserted_rows: bigint]"
      ]
     },
     "execution_count": 10,
     "metadata": {},
     "output_type": "execute_result"
    }
   ],
   "source": [
    "spark.sql(f\"\"\"\n",
    "CREATE OR REPLACE TABLE {prefix2}.menu_completo_v1 AS\n",
    "SELECT plato_id,restaurante, plato_descripcion, tipo, ventas, coste, precio, 'Abril' AS mes FROM {prefix}.menu_abril\n",
    "UNION ALL\n",
    "SELECT plato_id,restaurante, plato_descripcion, tipo, ventas, coste, precio, 'Mayo' AS mes FROM {prefix}.menu_mayo\n",
    "UNION ALL\n",
    "SELECT plato_id,restaurante, plato_descripcion, tipo, ventas, coste, precio, 'Junio' AS mes FROM {prefix}.menu_junio;\n",
    "\"\"\")"
   ]
  },
  {
   "cell_type": "code",
   "execution_count": 0,
   "metadata": {
    "application/vnd.databricks.v1+cell": {
     "cellMetadata": {
      "byteLimit": 2048000,
      "implicitDf": true,
      "rowLimit": 10000
     },
     "inputWidgets": {},
     "nuid": "2b26a45b-9991-4fea-916f-4070e70b9127",
     "showTitle": false,
     "tableResultSettingsMap": {},
     "title": ""
    }
   },
   "outputs": [
    {
     "output_type": "execute_result",
     "data": {
      "text/plain": [
       "DataFrame[num_affected_rows: bigint, num_inserted_rows: bigint]"
      ]
     },
     "execution_count": 11,
     "metadata": {},
     "output_type": "execute_result"
    }
   ],
   "source": [
    "spark.sql(f\"\"\"\n",
    "create or replace table {prefix2}.menu_completo_all AS\n",
    "select * from {prefix2}.menu_completo_v1\n",
    "UNION ALL\n",
    "select * from {prefix2}.menu_completo_v2\n",
    "\"\"\")"
   ]
  },
  {
   "cell_type": "code",
   "execution_count": 0,
   "metadata": {
    "application/vnd.databricks.v1+cell": {
     "cellMetadata": {
      "byteLimit": 2048000,
      "rowLimit": 10000
     },
     "inputWidgets": {},
     "nuid": "589636ef-2747-4e0b-914b-226520808182",
     "showTitle": false,
     "tableResultSettingsMap": {},
     "title": ""
    }
   },
   "outputs": [],
   "source": [
    "catalog = \"Mi_Restaurante\"\n",
    "schema3 = \"layer40_gold\"\n",
    "prefix3 = f\"{catalog}.{schema3}\""
   ]
  },
  {
   "cell_type": "code",
   "execution_count": 0,
   "metadata": {
    "application/vnd.databricks.v1+cell": {
     "cellMetadata": {
      "byteLimit": 2048000,
      "rowLimit": 10000
     },
     "inputWidgets": {},
     "nuid": "667372f2-93a0-4c68-abc3-d30ab38f6422",
     "showTitle": false,
     "tableResultSettingsMap": {},
     "title": ""
    }
   },
   "outputs": [],
   "source": [
    "# Importamos funciones de PySpark necesarias\n",
    "from pyspark.sql import functions as F\n",
    "from pyspark.sql.window import Window\n",
    "\n",
    "# Leemos la tabla consolidada que contiene todos los meses (abril a septiembre)\n",
    "df = spark.table(f\"{prefix2}.menu_completo_all\")\n",
    "\n",
    "# Calculamos la nueva columna \"margen\" como la diferencia entre precio y coste, redondeada a 2 decimales\n",
    "df = df.withColumn(\"margen\", F.round(F.col(\"precio\") - F.col(\"coste\"), 2))\n",
    "\n",
    "# Creamos una ventana que agrupa por mes y tipo de plato,\n",
    "# y ordena por número de ventas descendente dentro de cada grupo\n",
    "w = Window.partitionBy(\"mes\", \"tipo\").orderBy(F.desc(\"ventas\"))\n",
    "\n",
    "# Asignamos un ranking por grupo usando row_number()\n",
    "# Luego filtramos para quedarnos solo con el mejor (rank = 1) por cada mes y tipo\n",
    "# Finalmente eliminamos la columna auxiliar \"rank\"\n",
    "best_seller = df.withColumn(\"rank\", F.row_number().over(w)).filter(\"rank = 1\").drop(\"rank\")\n",
    "\n",
    "# Guardamos el resultado como tabla final best_seller, sobrescribiéndola si ya existe\n",
    "best_seller.write.mode(\"overwrite\").saveAsTable(f\"{prefix3}.best_seller\")"
   ]
  },
  {
   "cell_type": "markdown",
   "metadata": {
    "application/vnd.databricks.v1+cell": {
     "cellMetadata": {
      "byteLimit": 2048000,
      "rowLimit": 10000
     },
     "inputWidgets": {},
     "nuid": "f2fc769e-f2a2-4d1f-8237-9d29700df2be",
     "showTitle": false,
     "tableResultSettingsMap": {},
     "title": ""
    }
   },
   "source": [
    "# \uD83D\uDD01 Enriquecimiento Bronze + Silver/Gold (insertado 2025-10-21 14:44:38)\n",
    "\n",
    "- **Bronze**: más `INSERT` a menús y `dim_restaurants` (presupuesto **DOUBLE**).\n",
    "- **Silver**: normalización + **CAST a INT** de `presupuesto_mensual`.\n",
    "- **Gold**: dim + fact con medidas y `best_seller`."
   ]
  },
  {
   "cell_type": "code",
   "execution_count": 0,
   "metadata": {
    "application/vnd.databricks.v1+cell": {
     "cellMetadata": {
      "byteLimit": 2048000,
      "rowLimit": 10000
     },
     "inputWidgets": {},
     "nuid": "3af28097-0662-4859-8bf4-dc819c2eabe5",
     "showTitle": false,
     "tableResultSettingsMap": {},
     "title": ""
    }
   },
   "outputs": [
    {
     "output_type": "execute_result",
     "data": {
      "text/plain": [
       "DataFrame[]"
      ]
     },
     "execution_count": 14,
     "metadata": {},
     "output_type": "execute_result"
    }
   ],
   "source": [
    "\n",
    "catalog_bronze = \"mi_restaurante\"\n",
    "schema_bronze  = \"layer20_bronze\"\n",
    "catalog_silver = \"mi_restaurante\"\n",
    "schema_silver  = \"layer30_silver\"\n",
    "catalog_gold   = \"mi_restaurante\"\n",
    "schema_gold    = \"layer40_gold\"\n",
    "\n",
    "bronze = f\"{catalog_bronze}.{schema_bronze}\"\n",
    "silver = f\"{catalog_silver}.{schema_silver}\"\n",
    "gold   = f\"{catalog_gold}.{schema_gold}\"\n",
    "\n",
    "spark.sql(f\"CREATE CATALOG IF NOT EXISTS {catalog_bronze}\")\n",
    "spark.sql(f\"CREATE SCHEMA  IF NOT EXISTS {bronze}\")\n",
    "spark.sql(f\"CREATE SCHEMA  IF NOT EXISTS {silver}\")\n",
    "spark.sql(f\"CREATE SCHEMA  IF NOT EXISTS {gold}\")\n"
   ]
  },
  {
   "cell_type": "markdown",
   "metadata": {
    "application/vnd.databricks.v1+cell": {
     "cellMetadata": {
      "byteLimit": 2048000,
      "rowLimit": 10000
     },
     "inputWidgets": {},
     "nuid": "71a7e5f7-43b4-473b-80fd-723896392c43",
     "showTitle": false,
     "tableResultSettingsMap": {},
     "title": ""
    }
   },
   "source": [
    "## Bronze · inserts extra"
   ]
  },
  {
   "cell_type": "code",
   "execution_count": 0,
   "metadata": {
    "application/vnd.databricks.v1+cell": {
     "cellMetadata": {
      "byteLimit": 2048000,
      "rowLimit": 10000
     },
     "inputWidgets": {},
     "nuid": "9c051e6f-8202-4f2c-a494-0d7278f4c2ea",
     "showTitle": false,
     "tableResultSettingsMap": {},
     "title": ""
    }
   },
   "outputs": [
    {
     "output_type": "execute_result",
     "data": {
      "text/plain": [
       "DataFrame[num_affected_rows: bigint, num_inserted_rows: bigint]"
      ]
     },
     "execution_count": 15,
     "metadata": {},
     "output_type": "execute_result"
    }
   ],
   "source": [
    "\n",
    "spark.sql(f\"\"\"\n",
    "CREATE TABLE IF NOT EXISTS {bronze}.dim_restaurants (\n",
    "  restaurante           STRING,\n",
    "  ciudad                STRING,\n",
    "  direccion             STRING,\n",
    "  trabajadores          INT,\n",
    "  presupuesto_mensual   DOUBLE,\n",
    "  kind_cuisine          STRING\n",
    ")\"\"\")\n",
    "\n",
    "spark.sql(f\"\"\"\n",
    "INSERT INTO {bronze}.dim_restaurants VALUES\n",
    "  ('Restaurante Poblenou','Barcelona','C/ València 097',19,30000.50,'italiana'),\n",
    "  ('Restaurante  Sants','Barcelona','Pujades - Roc Boronat 08005',6,19000.00,'mediterranea'),\n",
    "  ('Restaurante gracia','Barcelona','Travessera de Gràcia 112',12,22000.75,'fusion'),\n",
    "  ('Restaurante-Sagrada','Barcelona','Marina 253',9,25000.00,'moderna'),\n",
    "  ('Rest  Poblenou','Barcelona','Av. Diagonal 1',10,18000.40,'italiana')\n",
    "\"\"\")\n"
   ]
  },
  {
   "cell_type": "code",
   "execution_count": 0,
   "metadata": {
    "application/vnd.databricks.v1+cell": {
     "cellMetadata": {
      "byteLimit": 2048000,
      "rowLimit": 10000
     },
     "inputWidgets": {},
     "nuid": "063bea48-ef66-48e3-ab57-21266bf6e0e8",
     "showTitle": false,
     "tableResultSettingsMap": {},
     "title": ""
    }
   },
   "outputs": [
    {
     "output_type": "execute_result",
     "data": {
      "text/plain": [
       "DataFrame[num_affected_rows: bigint, num_inserted_rows: bigint]"
      ]
     },
     "execution_count": 16,
     "metadata": {},
     "output_type": "execute_result"
    }
   ],
   "source": [
    "\n",
    "# Asegura tablas de menú (si alguien limpió el entorno)\n",
    "for t in [\"menu_abril\",\"menu_mayo\",\"menu_junio\",\"menu_julio\",\"menu_agosto\",\"menu_septiembre\"]:\n",
    "    spark.sql(f\"\"\"CREATE TABLE IF NOT EXISTS {bronze}.{t} (\n",
    "      plato_id STRING, restaurante STRING, plato_descripcion STRING, tipo STRING,\n",
    "      coste DOUBLE, precio DOUBLE, ventas INT)\"\"\")\n",
    "\n",
    "# Inserts extra por mes\n",
    "spark.sql(f\"\"\"\n",
    "INSERT INTO {bronze}.menu_abril VALUES\n",
    "('A9001','Restaurante Poblenou','Bruschetta clásica','entrante',3.2,6.9,260),\n",
    "('A9002','Restaurante  sants','Risotto de setas','principal',9.9,16.9,300),\n",
    "('A9003','Rest  Poblenou','Pannacotta','postre',2.8,6.5,280),\n",
    "('A9004','Restaurante-Gracia','Merluza a la romana','segundo',7.4,13.9,210)\n",
    "\"\"\")\n",
    "\n",
    "spark.sql(f\"\"\"\n",
    "INSERT INTO {bronze}.menu_mayo VALUES\n",
    "('M9001','Restaurante Poblenou','Ensaladilla rusa','entrante',2.9,6.0,240),\n",
    "('M9002','Restaurante Sants','Pizza diavola','principal',6.5,12.9,350),\n",
    "('M9003','Restaurante gracia','Tiramisú','postre',3.1,6.9,330),\n",
    "('M9004','Restaurante-Sagrada','Calamares a la andaluza','segundo',6.9,12.5,260)\n",
    "\"\"\")\n",
    "\n",
    "spark.sql(f\"\"\"\n",
    "INSERT INTO {bronze}.menu_junio VALUES\n",
    "('J6001','Restaurante Poblenou','Gazpacho sandía','entrante',3.0,7.5,270),\n",
    "('J6002','Restaurante Sants','Canelones','principal',7.2,14.5,320),\n",
    "('J6003','Restaurante Gracia','Mousse de limón','postre',2.5,6.0,310),\n",
    "('J6004','Restaurante Sagrada','Secreto ibérico','segundo',8.9,16.9,220)\n",
    "\"\"\")\n",
    "\n",
    "spark.sql(f\"\"\"\n",
    "INSERT INTO {bronze}.menu_julio VALUES\n",
    "('JL001','Restaurante Poblenou','Vichyssoise','entrante',3.4,7.0,250),\n",
    "('JL002','Restaurante Sants','Paella mixta','principal',9.1,17.8,330),\n",
    "('JL003','Restaurante gracia','Natillas caseras','postre',2.2,5.0,340),\n",
    "('JL004','Restaurante-Sagrada','Dorada a la sal','segundo',9.9,18.5,210)\n",
    "\"\"\")\n",
    "\n",
    "spark.sql(f\"\"\"\n",
    "INSERT INTO {bronze}.menu_agosto VALUES\n",
    "('AG001','Restaurante Poblenou','Salmorejo','entrante',2.8,6.8,280),\n",
    "('AG002','Restaurante  Sants','Parmigiana','principal',7.0,13.9,300),\n",
    "('AG003','Restaurante Gracia','Profiteroles','postre',3.3,7.2,360),\n",
    "('AG004','Restaurante Sagrada','Atún a la plancha','segundo',10.2,19.5,205)\n",
    "\"\"\")\n",
    "\n",
    "spark.sql(f\"\"\"\n",
    "INSERT INTO {bronze}.menu_septiembre VALUES\n",
    "('SE001','Restaurante Poblenou','Crema de calabaza','entrante',3.0,6.9,230),\n",
    "('SE002','Restaurante Sants','Lasaña boloñesa','principal',7.8,14.9,310),\n",
    "('SE003','Restaurante-Gracia','Arroz con leche','postre',2.4,5.9,295),\n",
    "('SE004','Restaurante-Sagrada','Ternera estofada','segundo',9.1,17.2,215)\n",
    "\"\"\")\n"
   ]
  },
  {
   "cell_type": "markdown",
   "metadata": {
    "application/vnd.databricks.v1+cell": {
     "cellMetadata": {
      "byteLimit": 2048000,
      "rowLimit": 10000
     },
     "inputWidgets": {},
     "nuid": "bc388348-0d9b-464f-aa53-c1790b204e7e",
     "showTitle": false,
     "tableResultSettingsMap": {},
     "title": ""
    }
   },
   "source": [
    "## Silver · normalización + cambio de tipo (DOUBLE → INT)"
   ]
  },
  {
   "cell_type": "code",
   "execution_count": 0,
   "metadata": {
    "application/vnd.databricks.v1+cell": {
     "cellMetadata": {
      "byteLimit": 2048000,
      "rowLimit": 10000
     },
     "inputWidgets": {},
     "nuid": "7bc863e1-1f1e-425c-be6e-bb57afb7ae2e",
     "showTitle": false,
     "tableResultSettingsMap": {},
     "title": ""
    }
   },
   "outputs": [
    {
     "output_type": "execute_result",
     "data": {
      "text/plain": [
       "DataFrame[num_affected_rows: bigint, num_inserted_rows: bigint]"
      ]
     },
     "execution_count": 17,
     "metadata": {},
     "output_type": "execute_result"
    }
   ],
   "source": [
    "\n",
    "spark.sql(f\"\"\"\n",
    "CREATE OR REPLACE TABLE {silver}.dim_restaurants AS\n",
    "SELECT\n",
    "  restaurante,\n",
    "  ciudad,\n",
    "  direccion,\n",
    "  trabajadores,\n",
    "  CAST(presupuesto_mensual AS INT) AS presupuesto_mensual,  -- evolución\n",
    "  kind_cuisine,\n",
    "  REGEXP_REPLACE(LOWER(TRIM(regexp_replace(restaurante, '\\\\s+', ' '))), '\\\\s+', ' ') AS restaurant_name_std,\n",
    "  SHA2(REGEXP_REPLACE(LOWER(TRIM(regexp_replace(restaurante, '\\\\s+', ' '))), '\\\\s+', ' '), 256) AS restaurant_id\n",
    "FROM {bronze}.dim_restaurants\n",
    "\"\"\")\n"
   ]
  },
  {
   "cell_type": "markdown",
   "metadata": {
    "application/vnd.databricks.v1+cell": {
     "cellMetadata": {
      "byteLimit": 2048000,
      "rowLimit": 10000
     },
     "inputWidgets": {},
     "nuid": "a96a617b-1c1b-4e8e-9666-bc86ae7e4512",
     "showTitle": false,
     "tableResultSettingsMap": {},
     "title": ""
    }
   },
   "source": [
    "## Silver · `menu_all_enriched` (join por nombre canonizado)"
   ]
  },
  {
   "cell_type": "code",
   "execution_count": 0,
   "metadata": {
    "application/vnd.databricks.v1+cell": {
     "cellMetadata": {
      "byteLimit": 2048000,
      "rowLimit": 10000
     },
     "inputWidgets": {},
     "nuid": "caba86ce-45b5-43d4-9fd8-d028b031b470",
     "showTitle": false,
     "tableResultSettingsMap": {},
     "title": ""
    }
   },
   "outputs": [
    {
     "output_type": "execute_result",
     "data": {
      "text/plain": [
       "DataFrame[num_affected_rows: bigint, num_inserted_rows: bigint]"
      ]
     },
     "execution_count": 18,
     "metadata": {},
     "output_type": "execute_result"
    }
   ],
   "source": [
    "\n",
    "menu_source = f\"{silver}.menu_completo_all\"\n",
    "\n",
    "spark.sql(f\"\"\"\n",
    "CREATE OR REPLACE TEMP VIEW _menu_all_std AS\n",
    "SELECT\n",
    "  plato_id, restaurante,\n",
    "  REGEXP_REPLACE(LOWER(TRIM(regexp_replace(restaurante, '\\\\s+', ' '))), '\\\\s+', ' ') AS restaurant_name_std,\n",
    "  plato_descripcion, tipo, coste, precio, ventas, mes\n",
    "FROM {menu_source}\n",
    "\"\"\")\n",
    "\n",
    "spark.sql(f\"\"\"\n",
    "CREATE OR REPLACE TABLE {silver}.menu_all_enriched AS\n",
    "SELECT\n",
    "  m.plato_id, m.restaurante, d.restaurant_id, d.restaurant_name_std,\n",
    "  d.ciudad, d.trabajadores, d.presupuesto_mensual, d.kind_cuisine,\n",
    "  m.plato_descripcion, m.tipo, m.coste, m.precio, m.ventas, m.mes\n",
    "FROM _menu_all_std m\n",
    "LEFT JOIN {silver}.dim_restaurants d\n",
    "  ON m.restaurant_name_std = d.restaurant_name_std\n",
    "\"\"\")\n"
   ]
  },
  {
   "cell_type": "markdown",
   "metadata": {
    "application/vnd.databricks.v1+cell": {
     "cellMetadata": {
      "byteLimit": 2048000,
      "rowLimit": 10000
     },
     "inputWidgets": {},
     "nuid": "53ec25c2-9f01-4e02-8482-d9dc8a80153d",
     "showTitle": false,
     "tableResultSettingsMap": {},
     "title": ""
    }
   },
   "source": [
    "## Gold · dim + fact + best_seller"
   ]
  },
  {
   "cell_type": "code",
   "execution_count": 0,
   "metadata": {
    "application/vnd.databricks.v1+cell": {
     "cellMetadata": {
      "byteLimit": 2048000,
      "rowLimit": 10000
     },
     "inputWidgets": {},
     "nuid": "4ad9760d-4166-4265-83b1-a6d371ce3ebb",
     "showTitle": false,
     "tableResultSettingsMap": {},
     "title": ""
    }
   },
   "outputs": [
    {
     "output_type": "execute_result",
     "data": {
      "text/plain": [
       "DataFrame[num_affected_rows: bigint, num_inserted_rows: bigint]"
      ]
     },
     "execution_count": 19,
     "metadata": {},
     "output_type": "execute_result"
    }
   ],
   "source": [
    "\n",
    "spark.sql(f\"\"\"\n",
    "CREATE OR REPLACE TABLE {gold}.dim_restaurant AS\n",
    "SELECT\n",
    "  restaurant_id, restaurante, restaurant_name_std, ciudad, direccion,\n",
    "  trabajadores, presupuesto_mensual, kind_cuisine\n",
    "FROM {silver}.dim_restaurants\n",
    "\"\"\")\n"
   ]
  },
  {
   "cell_type": "code",
   "execution_count": 0,
   "metadata": {
    "application/vnd.databricks.v1+cell": {
     "cellMetadata": {
      "byteLimit": 2048000,
      "rowLimit": 10000
     },
     "inputWidgets": {},
     "nuid": "187e2fa7-f866-4124-8a7a-57bfb0438f16",
     "showTitle": false,
     "tableResultSettingsMap": {},
     "title": ""
    }
   },
   "outputs": [
    {
     "output_type": "execute_result",
     "data": {
      "text/plain": [
       "DataFrame[num_affected_rows: bigint, num_inserted_rows: bigint]"
      ]
     },
     "execution_count": 20,
     "metadata": {},
     "output_type": "execute_result"
    }
   ],
   "source": [
    "\n",
    "spark.sql(f\"\"\"\n",
    "CREATE OR REPLACE TABLE {gold}.fact_menu_sales AS\n",
    "WITH base AS (\n",
    "  SELECT\n",
    "    restaurant_id, restaurante, ciudad, kind_cuisine, tipo, mes,\n",
    "    plato_id, plato_descripcion,\n",
    "    CAST(ventas AS BIGINT) AS ventas,\n",
    "    CAST(precio AS DOUBLE) AS precio,\n",
    "    CAST(coste  AS DOUBLE) AS coste,\n",
    "    trabajadores,\n",
    "    CAST(presupuesto_mensual AS INT) AS presupuesto_mensual\n",
    "  FROM {silver}.menu_all_enriched\n",
    ")\n",
    "SELECT\n",
    "  restaurant_id, restaurante, ciudad, kind_cuisine, tipo, mes, plato_id, plato_descripcion,\n",
    "  SUM(ventas) AS ventas_total,\n",
    "  SUM(precio * ventas) AS ingresos,\n",
    "  SUM(coste  * ventas) AS coste_total,\n",
    "  (SUM(precio * ventas) - SUM(coste * ventas)) AS margen,\n",
    "  CASE WHEN SUM(precio * ventas) <> 0\n",
    "       THEN (SUM(precio * ventas) - SUM(coste * ventas)) / SUM(precio * ventas) END AS margen_pct,\n",
    "  AVG(precio) AS precio_medio,\n",
    "  AVG(coste)  AS coste_medio,\n",
    "  CASE WHEN AVG(coste) <> 0 THEN (AVG(precio)/AVG(coste)) - 1 END AS markup,\n",
    "  CASE WHEN SUM(ventas) <> 0 THEN SUM(precio * ventas)/SUM(ventas) END AS ticket_medio,\n",
    "  MAX(trabajadores) AS trabajadores_ref,\n",
    "  MAX(presupuesto_mensual) AS presupuesto_ref,\n",
    "  CASE WHEN COALESCE(MAX(trabajadores),0) <> 0 THEN SUM(precio * ventas)/MAX(trabajadores) END AS ingresos_por_empleado,\n",
    "  CASE WHEN COALESCE(MAX(trabajadores),0) <> 0 THEN (SUM(precio * ventas) - SUM(coste * ventas))/MAX(trabajadores) END AS margen_por_empleado,\n",
    "  CASE WHEN COALESCE(MAX(presupuesto_mensual),0) <> 0 THEN SUM(precio * ventas)/MAX(presupuesto_mensual) END AS utilizacion_presupuesto,\n",
    "  CASE WHEN COALESCE(MAX(presupuesto_mensual),0) <> 0 THEN (SUM(precio * ventas) - SUM(coste * ventas))/MAX(presupuesto_mensual) END AS margen_sobre_presupuesto\n",
    "FROM base\n",
    "GROUP BY restaurant_id, restaurante, ciudad, kind_cuisine, tipo, mes, plato_id, plato_descripcion\n",
    "\"\"\")\n"
   ]
  },
  {
   "cell_type": "code",
   "execution_count": 0,
   "metadata": {
    "application/vnd.databricks.v1+cell": {
     "cellMetadata": {
      "byteLimit": 2048000,
      "rowLimit": 10000
     },
     "inputWidgets": {},
     "nuid": "a5d0da42-c928-4158-b0d3-c0c6e2407d86",
     "showTitle": false,
     "tableResultSettingsMap": {},
     "title": ""
    }
   },
   "outputs": [
    {
     "output_type": "display_data",
     "data": {
      "text/plain": [
       ""
      ]
     },
     "metadata": {
      "application/vnd.databricks.v1+output": {
       "addedWidgets": {},
       "arguments": {},
       "datasetInfos": [],
       "jupyterProps": null,
       "metadata": {
        "errorSummary": "Command skipped"
       },
       "removedWidgets": [],
       "sqlProps": null,
       "stackFrames": [],
       "type": "baseError"
      }
     },
     "output_type": "display_data"
    }
   ],
   "source": [
    "\n",
    "spark.sql(f\"\"\"\n",
    "CREATE OR REPLACE VIEW {silver}.vw_menu_all_enriched_min AS\n",
    "SELECT\n",
    "  restaurant_id, restaurant_name_std, ciudad, kind_cuisine, trabajadores, presupuesto_mensual,\n",
    "  plato_id, plato_descripcion, tipo, coste, precio, ventas, mes\n",
    "FROM {silver}.menu_all_enriched\n",
    "\"\"\")\n"
   ]
  }
 ],
 "metadata": {
  "application/vnd.databricks.v1+notebook": {
   "computePreferences": null,
   "dashboards": [],
   "environmentMetadata": {
    "base_environment": "",
    "environment_version": "4"
   },
   "inputWidgetPreferences": null,
   "language": "python",
   "notebookMetadata": {
    "mostRecentlyExecutedCommandWithImplicitDF": {
     "commandId": 8692223077328919,
     "dataframes": [
      "_sqldf"
     ]
    },
    "pythonIndentUnit": 4
   },
   "notebookName": "lineage_set_up_def",
   "widgets": {}
  },
  "language_info": {
   "name": "python"
  }
 },
 "nbformat": 4,
 "nbformat_minor": 0
}