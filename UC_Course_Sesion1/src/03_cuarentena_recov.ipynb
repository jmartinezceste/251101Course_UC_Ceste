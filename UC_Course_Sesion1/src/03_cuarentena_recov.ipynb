{
 "cells": [
  {
   "cell_type": "markdown",
   "metadata": {
    "application/vnd.databricks.v1+cell": {
     "cellMetadata": {},
     "inputWidgets": {},
     "nuid": "bd7d7557-3418-475e-a52d-10a181da87be",
     "showTitle": false,
     "tableResultSettingsMap": {},
     "title": ""
    }
   },
   "source": [
    "# 1 Quarantine Tables"
   ]
  },
  {
   "cell_type": "markdown",
   "metadata": {
    "application/vnd.databricks.v1+cell": {
     "cellMetadata": {},
     "inputWidgets": {},
     "nuid": "b6c2d4bd-debb-4551-a88a-e39b85cf6cd9",
     "showTitle": false,
     "tableResultSettingsMap": {},
     "title": ""
    }
   },
   "source": [
    "En este entorno aún **no estamos en producción**, por lo que vamos a trabajar de forma **iterativa y experimental** sobre los datos que han sido enviados a la tabla de **cuarentena**.\n",
    "\n",
    "El objetivo es **detectar los errores más frecuentes**, **probar correcciones paso a paso** y **evaluar sus efectos** antes de integrarlas definitivamente en el flujo de validación oficial.\n",
    "\n",
    "A lo largo de este notebook, iremos aplicando transformaciones que conviertan los registros en cuarentena en datos **limpios, consistentes y listos para su reintegración en la capa Silver**.\n"
   ]
  },
  {
   "cell_type": "markdown",
   "metadata": {
    "application/vnd.databricks.v1+cell": {
     "cellMetadata": {},
     "inputWidgets": {},
     "nuid": "c579c209-24b2-43f9-81a0-e2c97cca4bd8",
     "showTitle": false,
     "tableResultSettingsMap": {},
     "title": ""
    }
   },
   "source": [
    "## 1.1 Dim_Aircraft"
   ]
  },
  {
   "cell_type": "markdown",
   "metadata": {
    "application/vnd.databricks.v1+cell": {
     "cellMetadata": {},
     "inputWidgets": {},
     "nuid": "b6ecc1b9-1595-40b7-a6a0-df07a79f61a3",
     "showTitle": false,
     "tableResultSettingsMap": {},
     "title": ""
    }
   },
   "source": [
    "Empecemos mostrando los registros que tenemos actualmente en la tabla Dim_Aircraft de Cuarentena"
   ]
  },
  {
   "cell_type": "code",
   "execution_count": 0,
   "metadata": {
    "application/vnd.databricks.v1+cell": {
     "cellMetadata": {
      "byteLimit": 2048000,
      "implicitDf": true,
      "rowLimit": 10000
     },
     "inputWidgets": {},
     "nuid": "3942bbe2-95db-4cbf-bc3c-0b4235ba90ab",
     "showTitle": false,
     "tableResultSettingsMap": {},
     "title": ""
    }
   },
   "outputs": [],
   "source": [
    "%sql\n",
    "--drop table if exists sesion1_2.layer30_silver_quarantine.dim_aircraft_quarantine;"
   ]
  },
  {
   "cell_type": "code",
   "execution_count": 0,
   "metadata": {
    "application/vnd.databricks.v1+cell": {
     "cellMetadata": {
      "byteLimit": 2048000,
      "implicitDf": true,
      "rowLimit": 10000
     },
     "inputWidgets": {},
     "nuid": "2732f02d-22cd-461c-951a-036c583cda70",
     "showTitle": false,
     "tableResultSettingsMap": {},
     "title": ""
    }
   },
   "outputs": [
    {
     "output_type": "display_data",
     "data": {
      "text/html": [
       "<style scoped>\n",
       "  .table-result-container {\n",
       "    max-height: 300px;\n",
       "    overflow: auto;\n",
       "  }\n",
       "  table, th, td {\n",
       "    border: 1px solid black;\n",
       "    border-collapse: collapse;\n",
       "  }\n",
       "  th, td {\n",
       "    padding: 5px;\n",
       "  }\n",
       "  th {\n",
       "    text-align: left;\n",
       "  }\n",
       "</style><div class='table-result-container'><table class='table-result'><thead style='background-color: white'><tr><th>aircraft_id</th><th>tail_number</th><th>model</th><th>manufacturer</th><th>engine_model</th><th>first_service_dt</th><th>status</th><th>cycles_total</th><th>hours_total</th><th>fixed</th><th>type_fix</th><th>date_fix</th><th>fix_version</th></tr></thead><tbody><tr><td>AC1001</td><td>N37173</td><td>787-8</td><td>Boeing</td><td>LEAP-1B</td><td>2002-06-24</td><td>Retired</td><td>3130</td><td>-6236.1</td><td>null</td><td>null</td><td>null</td><td>null</td></tr><tr><td>AC1009</td><td>N99732</td><td>737-800</td><td>Boeing</td><td>CFM56-7B</td><td>2012-10-04</td><td>Active</td><td>28990</td><td>-55523.5</td><td>null</td><td>null</td><td>null</td><td>null</td></tr><tr><td>AC1021</td><td>N69910</td><td>737-800</td><td>Boeing</td><td>CFM56-7B</td><td>2006-09-09</td><td>Active</td><td>41839</td><td>-91357.6</td><td>null</td><td>null</td><td>null</td><td>null</td></tr><tr><td>AC1061</td><td>N93500</td><td>737-9</td><td>Boeing</td><td>GEnx-1B</td><td>2021-07-18</td><td>Maintenance</td><td>24415</td><td>-53089.3</td><td>null</td><td>null</td><td>null</td><td>null</td></tr><tr><td>AC1067</td><td>N85417</td><td>787-8</td><td>Boeing</td><td>LEAP-1B</td><td>2019-02-11</td><td>Active</td><td>19008</td><td>-41446.5</td><td>null</td><td>null</td><td>null</td><td>null</td></tr><tr><td>AC1075</td><td>N55407</td><td>787-8</td><td>Boeing</td><td>LEAP-1B</td><td>2020-02-11</td><td>Active</td><td>34601</td><td>-68569.7</td><td>null</td><td>null</td><td>null</td><td>null</td></tr><tr><td>AC1000</td><td>N11088</td><td>Citation CJ3</td><td>Cessna</td><td>PT6A-114</td><td>2007-05-17</td><td>Maintenance</td><td>27289</td><td>59122.7</td><td>true</td><td>engine_model_from_lookup_by_model</td><td>2025-10-09T15:49:07.439Z</td><td>1</td></tr><tr><td>AC1013</td><td>N35551</td><td>Citation CJ3</td><td>Cessna</td><td>PT6A-114</td><td>2019-01-31</td><td>Maintenance</td><td>3413</td><td>7318.5</td><td>true</td><td>engine_model_from_lookup_by_model</td><td>2025-10-09T15:49:07.439Z</td><td>1</td></tr><tr><td>AC1022</td><td>N22287</td><td>G650</td><td>Gulfstream</td><td>BR710</td><td>2014-04-20</td><td>Active</td><td>6230</td><td>13209.8</td><td>true</td><td>engine_model_from_lookup_by_model</td><td>2025-10-09T15:49:07.439Z</td><td>1</td></tr><tr><td>AC1026</td><td>N71264</td><td>737-800</td><td>Boeing</td><td>CFM56-7B</td><td>2022-10-19</td><td>Active</td><td>34779</td><td>75763.0</td><td>true</td><td>engine_model_from_lookup_by_model</td><td>2025-10-09T15:49:07.439Z</td><td>1</td></tr><tr><td>AC1029</td><td>N12609</td><td>E175</td><td>Embraer</td><td>PW1900G</td><td>2003-10-14</td><td>Active</td><td>42335</td><td>77812.6</td><td>true</td><td>engine_model_from_lookup_by_model</td><td>2025-10-09T15:49:07.439Z</td><td>1</td></tr><tr><td>AC1030</td><td>N32132</td><td>Citation CJ3</td><td>Cessna</td><td>PT6A-114</td><td>2012-04-05</td><td>Active</td><td>40234</td><td>82337.5</td><td>true</td><td>engine_model_from_lookup_by_model</td><td>2025-10-09T15:49:07.439Z</td><td>1</td></tr><tr><td>AC1074</td><td>N72762</td><td>A321-231</td><td>Airbus</td><td>Trent-700</td><td>2016-07-22</td><td>Active</td><td>9962</td><td>17980.6</td><td>true</td><td>engine_model_from_lookup_by_model</td><td>2025-10-09T15:49:07.439Z</td><td>1</td></tr></tbody></table></div>"
      ]
     },
     "metadata": {
      "application/vnd.databricks.v1+output": {
       "addedWidgets": {},
       "aggData": [],
       "aggError": "",
       "aggOverflow": false,
       "aggSchema": [],
       "aggSeriesLimitReached": false,
       "aggType": "",
       "arguments": {},
       "columnCustomDisplayInfos": {},
       "data": [
        [
         "AC1001",
         "N37173",
         "787-8",
         "Boeing",
         "LEAP-1B",
         "2002-06-24",
         "Retired",
         3130,
         -6236.1,
         null,
         null,
         null,
         null
        ],
        [
         "AC1009",
         "N99732",
         "737-800",
         "Boeing",
         "CFM56-7B",
         "2012-10-04",
         "Active",
         28990,
         -55523.5,
         null,
         null,
         null,
         null
        ],
        [
         "AC1021",
         "N69910",
         "737-800",
         "Boeing",
         "CFM56-7B",
         "2006-09-09",
         "Active",
         41839,
         -91357.6,
         null,
         null,
         null,
         null
        ],
        [
         "AC1061",
         "N93500",
         "737-9",
         "Boeing",
         "GEnx-1B",
         "2021-07-18",
         "Maintenance",
         24415,
         -53089.3,
         null,
         null,
         null,
         null
        ],
        [
         "AC1067",
         "N85417",
         "787-8",
         "Boeing",
         "LEAP-1B",
         "2019-02-11",
         "Active",
         19008,
         -41446.5,
         null,
         null,
         null,
         null
        ],
        [
         "AC1075",
         "N55407",
         "787-8",
         "Boeing",
         "LEAP-1B",
         "2020-02-11",
         "Active",
         34601,
         -68569.7,
         null,
         null,
         null,
         null
        ],
        [
         "AC1000",
         "N11088",
         "Citation CJ3",
         "Cessna",
         "PT6A-114",
         "2007-05-17",
         "Maintenance",
         27289,
         59122.7,
         true,
         "engine_model_from_lookup_by_model",
         "2025-10-09T15:49:07.439Z",
         1
        ],
        [
         "AC1013",
         "N35551",
         "Citation CJ3",
         "Cessna",
         "PT6A-114",
         "2019-01-31",
         "Maintenance",
         3413,
         7318.5,
         true,
         "engine_model_from_lookup_by_model",
         "2025-10-09T15:49:07.439Z",
         1
        ],
        [
         "AC1022",
         "N22287",
         "G650",
         "Gulfstream",
         "BR710",
         "2014-04-20",
         "Active",
         6230,
         13209.8,
         true,
         "engine_model_from_lookup_by_model",
         "2025-10-09T15:49:07.439Z",
         1
        ],
        [
         "AC1026",
         "N71264",
         "737-800",
         "Boeing",
         "CFM56-7B",
         "2022-10-19",
         "Active",
         34779,
         75763.0,
         true,
         "engine_model_from_lookup_by_model",
         "2025-10-09T15:49:07.439Z",
         1
        ],
        [
         "AC1029",
         "N12609",
         "E175",
         "Embraer",
         "PW1900G",
         "2003-10-14",
         "Active",
         42335,
         77812.6,
         true,
         "engine_model_from_lookup_by_model",
         "2025-10-09T15:49:07.439Z",
         1
        ],
        [
         "AC1030",
         "N32132",
         "Citation CJ3",
         "Cessna",
         "PT6A-114",
         "2012-04-05",
         "Active",
         40234,
         82337.5,
         true,
         "engine_model_from_lookup_by_model",
         "2025-10-09T15:49:07.439Z",
         1
        ],
        [
         "AC1074",
         "N72762",
         "A321-231",
         "Airbus",
         "Trent-700",
         "2016-07-22",
         "Active",
         9962,
         17980.6,
         true,
         "engine_model_from_lookup_by_model",
         "2025-10-09T15:49:07.439Z",
         1
        ]
       ],
       "datasetInfos": [
        {
         "name": "_sqldf",
         "schema": {
          "fields": [
           {
            "metadata": {},
            "name": "aircraft_id",
            "nullable": true,
            "type": "string"
           },
           {
            "metadata": {},
            "name": "tail_number",
            "nullable": true,
            "type": "string"
           },
           {
            "metadata": {},
            "name": "model",
            "nullable": true,
            "type": "string"
           },
           {
            "metadata": {},
            "name": "manufacturer",
            "nullable": true,
            "type": "string"
           },
           {
            "metadata": {},
            "name": "engine_model",
            "nullable": true,
            "type": "string"
           },
           {
            "metadata": {
             "__detected_date_formats": "yyyy-M-d"
            },
            "name": "first_service_dt",
            "nullable": true,
            "type": "date"
           },
           {
            "metadata": {},
            "name": "status",
            "nullable": true,
            "type": "string"
           },
           {
            "metadata": {},
            "name": "cycles_total",
            "nullable": true,
            "type": "integer"
           },
           {
            "metadata": {},
            "name": "hours_total",
            "nullable": true,
            "type": "double"
           },
           {
            "metadata": {},
            "name": "fixed",
            "nullable": true,
            "type": "boolean"
           },
           {
            "metadata": {},
            "name": "type_fix",
            "nullable": true,
            "type": "string"
           },
           {
            "metadata": {},
            "name": "date_fix",
            "nullable": true,
            "type": "timestamp"
           },
           {
            "metadata": {},
            "name": "fix_version",
            "nullable": true,
            "type": "integer"
           }
          ],
          "type": "struct"
         },
         "tableIdentifier": null,
         "typeStr": "pyspark.sql.connect.dataframe.DataFrame"
        }
       ],
       "dbfsResultPath": null,
       "isJsonSchema": true,
       "metadata": {
        "createTempViewForImplicitDf": true,
        "dataframeName": "_sqldf",
        "executionCount": 2
       },
       "overflow": false,
       "plotOptions": {
        "customPlotOptions": {},
        "displayType": "table",
        "pivotAggregation": null,
        "pivotColumns": null,
        "xColumns": null,
        "yColumns": null
       },
       "removedWidgets": [],
       "schema": [
        {
         "metadata": "{}",
         "name": "aircraft_id",
         "type": "\"string\""
        },
        {
         "metadata": "{}",
         "name": "tail_number",
         "type": "\"string\""
        },
        {
         "metadata": "{}",
         "name": "model",
         "type": "\"string\""
        },
        {
         "metadata": "{}",
         "name": "manufacturer",
         "type": "\"string\""
        },
        {
         "metadata": "{}",
         "name": "engine_model",
         "type": "\"string\""
        },
        {
         "metadata": "{\"__detected_date_formats\": \"yyyy-M-d\"}",
         "name": "first_service_dt",
         "type": "\"date\""
        },
        {
         "metadata": "{}",
         "name": "status",
         "type": "\"string\""
        },
        {
         "metadata": "{}",
         "name": "cycles_total",
         "type": "\"integer\""
        },
        {
         "metadata": "{}",
         "name": "hours_total",
         "type": "\"double\""
        },
        {
         "metadata": "{}",
         "name": "fixed",
         "type": "\"boolean\""
        },
        {
         "metadata": "{}",
         "name": "type_fix",
         "type": "\"string\""
        },
        {
         "metadata": "{}",
         "name": "date_fix",
         "type": "\"timestamp\""
        },
        {
         "metadata": "{}",
         "name": "fix_version",
         "type": "\"integer\""
        }
       ],
       "type": "table"
      }
     },
     "output_type": "display_data"
    }
   ],
   "source": [
    "%sql\n",
    "select *\n",
    "from sesion1_2.layer30_silver_quarantine.dim_aircraft_quarantine"
   ]
  },
  {
   "cell_type": "markdown",
   "metadata": {
    "application/vnd.databricks.v1+cell": {
     "cellMetadata": {},
     "inputWidgets": {},
     "nuid": "76ae3aca-75f5-40de-aaa7-9617c0ebdce0",
     "showTitle": false,
     "tableResultSettingsMap": {},
     "title": ""
    }
   },
   "source": [
    "%md\n",
    "Para poder **gestionar de forma trazable** los errores y sus correcciones, añadiremos una serie de columnas a la tabla de **cuarentena**.  \n",
    "Estas columnas nos permitirán registrar tanto el estado de cada registro como la evolución de las correcciones aplicadas a lo largo del tiempo.\n",
    "\n",
    "A continuación, añadimos las siguientes columnas:\n",
    "\n",
    "| Columna | Tipo | Descripción |\n",
    "|----------|------|-------------|\n",
    "| **fixed** | `BOOLEAN` | Indica si el registro ya ha sido corregido (`TRUE`) o sigue pendiente (`FALSE`). |\n",
    "| **type_fix** | `STRING` | Describe el tipo de corrección aplicada (por ejemplo: *null_filled*, *format_adjusted*, *id_relinked*, etc.). |\n",
    "| **date_fix** | `TIMESTAMP` | Fecha y hora en la que se realizó la corrección. Permite hacer seguimiento temporal de los cambios. |\n",
    "| **fix_version** | `INT` | Número de versión o iteración de la corrección, útil si un mismo registro ha sido corregido más de una vez. |\n",
    "\n",
    "Con esto, la tabla de cuarentena no solo almacena los registros problemáticos, sino también **su historial de resolución**, lo que facilita el **análisis de calidad de datos** y la **auditoría del proceso de validación**.\n"
   ]
  },
  {
   "cell_type": "markdown",
   "metadata": {
    "application/vnd.databricks.v1+cell": {
     "cellMetadata": {},
     "inputWidgets": {},
     "nuid": "162e5ada-3e7a-4729-a982-5d44cf8079b0",
     "showTitle": false,
     "tableResultSettingsMap": {},
     "title": ""
    }
   },
   "source": [
    "### 1.1.0 Creamos columnas de arreglos"
   ]
  },
  {
   "cell_type": "code",
   "execution_count": 0,
   "metadata": {
    "application/vnd.databricks.v1+cell": {
     "cellMetadata": {
      "byteLimit": 2048000,
      "implicitDf": true,
      "rowLimit": 10000
     },
     "inputWidgets": {},
     "nuid": "5ba1ff7c-fe9c-45d6-beb3-81041252341b",
     "showTitle": false,
     "tableResultSettingsMap": {},
     "title": ""
    }
   },
   "outputs": [],
   "source": [
    "%sql\n",
    "ALTER TABLE sesion1_2.layer30_silver_quarantine.dim_aircraft_quarantine\n",
    "ADD COLUMNS (\n",
    "  fixed BOOLEAN,\n",
    "  type_fix STRING,\n",
    "  date_fix TIMESTAMP,\n",
    "  fix_version INT\n",
    ");\n"
   ]
  },
  {
   "cell_type": "markdown",
   "metadata": {
    "application/vnd.databricks.v1+cell": {
     "cellMetadata": {},
     "inputWidgets": {},
     "nuid": "583fb0eb-bec8-4ea5-a691-c0723eeef27f",
     "showTitle": false,
     "tableResultSettingsMap": {},
     "title": ""
    }
   },
   "source": [
    "### 1.1.1 Caso de corrección: incoherencia entre horas y ciclos de vuelo\n",
    "\n",
    "Los registros correspondientes a aeronaves del fabricante **Boeing** representan vuelos **nacionales**, caracterizados por un ciclo medio de duración comprendido entre **1 hora y 30 minutos y 2 horas y 15 minutos**.\n",
    "\n",
    "Durante la validación se ha detectado que, en algunos casos, la columna `cycles_total` contiene valores registrados, mientras que la columna `hours_total` aparece vacía.  \n",
    "Dado que existe un consenso técnico sobre la relación aproximada entre ciclos y horas de vuelo, se acordó **corregir estos registros asignando a `hours_total` el valor `2000 * 2`**.\n",
    "\n",
    "Esta corrección permite mantener la coherencia interna de los datos y asegurar la consistencia entre ambas métricas operativas.\n"
   ]
  },
  {
   "cell_type": "code",
   "execution_count": 0,
   "metadata": {
    "application/vnd.databricks.v1+cell": {
     "cellMetadata": {
      "byteLimit": 2048000,
      "implicitDf": true,
      "rowLimit": 10000
     },
     "inputWidgets": {},
     "nuid": "04ef1b0b-84b8-4258-8e33-0d1d543cc9f6",
     "showTitle": false,
     "tableResultSettingsMap": {},
     "title": ""
    }
   },
   "outputs": [
    {
     "output_type": "display_data",
     "data": {
      "text/html": [
       "<style scoped>\n",
       "  .table-result-container {\n",
       "    max-height: 300px;\n",
       "    overflow: auto;\n",
       "  }\n",
       "  table, th, td {\n",
       "    border: 1px solid black;\n",
       "    border-collapse: collapse;\n",
       "  }\n",
       "  th, td {\n",
       "    padding: 5px;\n",
       "  }\n",
       "  th {\n",
       "    text-align: left;\n",
       "  }\n",
       "</style><div class='table-result-container'><table class='table-result'><thead style='background-color: white'><tr><th>num_affected_rows</th></tr></thead><tbody><tr><td>6</td></tr></tbody></table></div>"
      ]
     },
     "metadata": {
      "application/vnd.databricks.v1+output": {
       "addedWidgets": {},
       "aggData": [],
       "aggError": "",
       "aggOverflow": false,
       "aggSchema": [],
       "aggSeriesLimitReached": false,
       "aggType": "",
       "arguments": {},
       "columnCustomDisplayInfos": {},
       "data": [
        [
         6
        ]
       ],
       "datasetInfos": [
        {
         "name": "_sqldf",
         "schema": {
          "fields": [
           {
            "metadata": {},
            "name": "num_affected_rows",
            "nullable": true,
            "type": "long"
           }
          ],
          "type": "struct"
         },
         "tableIdentifier": null,
         "typeStr": "pyspark.sql.connect.dataframe.DataFrame"
        }
       ],
       "dbfsResultPath": null,
       "isJsonSchema": true,
       "metadata": {
        "createTempViewForImplicitDf": true,
        "dataframeName": "_sqldf",
        "executionCount": 71
       },
       "overflow": false,
       "plotOptions": {
        "customPlotOptions": {},
        "displayType": "table",
        "pivotAggregation": null,
        "pivotColumns": null,
        "xColumns": null,
        "yColumns": null
       },
       "removedWidgets": [],
       "schema": [
        {
         "metadata": "{}",
         "name": "num_affected_rows",
         "type": "\"long\""
        }
       ],
       "type": "table"
      }
     },
     "output_type": "display_data"
    }
   ],
   "source": [
    "%sql\n",
    "UPDATE sesion1_2.layer30_silver_quarantine.dim_aircraft_quarantine\n",
    "SET \n",
    "    hours_total = cycles_total * 2,           -- regla de corrección\n",
    "    fixed = true,                             -- marcamos como corregido\n",
    "    type_fix = 'fix_hours_from_cycles',       -- tipo de arreglo aplicado\n",
    "    date_fix = current_timestamp(),           -- timestamp del arreglo\n",
    "    fix_version = 1                           -- versión de la regla\n",
    "WHERE manufacturer = 'Boeing'\n",
    "  AND (hours_total IS NULL OR hours_total < 0)\n",
    "  AND cycles_total IS NOT NULL;\n",
    "\n"
   ]
  },
  {
   "cell_type": "code",
   "execution_count": 0,
   "metadata": {
    "application/vnd.databricks.v1+cell": {
     "cellMetadata": {
      "byteLimit": 2048000,
      "implicitDf": true,
      "rowLimit": 10000
     },
     "inputWidgets": {},
     "nuid": "efd0f7ce-cd56-4a0b-8d3d-0fc702d7bff4",
     "showTitle": false,
     "tableResultSettingsMap": {},
     "title": ""
    }
   },
   "outputs": [
    {
     "output_type": "display_data",
     "data": {
      "text/html": [
       "<style scoped>\n",
       "  .table-result-container {\n",
       "    max-height: 300px;\n",
       "    overflow: auto;\n",
       "  }\n",
       "  table, th, td {\n",
       "    border: 1px solid black;\n",
       "    border-collapse: collapse;\n",
       "  }\n",
       "  th, td {\n",
       "    padding: 5px;\n",
       "  }\n",
       "  th {\n",
       "    text-align: left;\n",
       "  }\n",
       "</style><div class='table-result-container'><table class='table-result'><thead style='background-color: white'><tr><th>aircraft_id</th><th>tail_number</th><th>model</th><th>manufacturer</th><th>engine_model</th><th>first_service_dt</th><th>status</th><th>cycles_total</th><th>hours_total</th><th>fixed</th><th>type_fix</th><th>date_fix</th><th>fix_version</th></tr></thead><tbody><tr><td>AC1001</td><td>N37173</td><td>787-8</td><td>Boeing</td><td>LEAP-1B</td><td>2002-06-24</td><td>Retired</td><td>3130</td><td>-6236.1</td><td>null</td><td>null</td><td>null</td><td>null</td></tr><tr><td>AC1009</td><td>N99732</td><td>737-800</td><td>Boeing</td><td>CFM56-7B</td><td>2012-10-04</td><td>Active</td><td>28990</td><td>-55523.5</td><td>null</td><td>null</td><td>null</td><td>null</td></tr><tr><td>AC1021</td><td>N69910</td><td>737-800</td><td>Boeing</td><td>CFM56-7B</td><td>2006-09-09</td><td>Active</td><td>41839</td><td>-91357.6</td><td>null</td><td>null</td><td>null</td><td>null</td></tr><tr><td>AC1061</td><td>N93500</td><td>737-9</td><td>Boeing</td><td>GEnx-1B</td><td>2021-07-18</td><td>Maintenance</td><td>24415</td><td>-53089.3</td><td>null</td><td>null</td><td>null</td><td>null</td></tr><tr><td>AC1067</td><td>N85417</td><td>787-8</td><td>Boeing</td><td>LEAP-1B</td><td>2019-02-11</td><td>Active</td><td>19008</td><td>-41446.5</td><td>null</td><td>null</td><td>null</td><td>null</td></tr><tr><td>AC1075</td><td>N55407</td><td>787-8</td><td>Boeing</td><td>LEAP-1B</td><td>2020-02-11</td><td>Active</td><td>34601</td><td>-68569.7</td><td>null</td><td>null</td><td>null</td><td>null</td></tr><tr><td>AC1000</td><td>N11088</td><td>Citation CJ3</td><td>Cessna</td><td>PT6A-114</td><td>2007-05-17</td><td>Maintenance</td><td>27289</td><td>59122.7</td><td>true</td><td>engine_model_from_lookup_by_model</td><td>2025-10-09T15:49:07.439Z</td><td>1</td></tr><tr><td>AC1013</td><td>N35551</td><td>Citation CJ3</td><td>Cessna</td><td>PT6A-114</td><td>2019-01-31</td><td>Maintenance</td><td>3413</td><td>7318.5</td><td>true</td><td>engine_model_from_lookup_by_model</td><td>2025-10-09T15:49:07.439Z</td><td>1</td></tr><tr><td>AC1022</td><td>N22287</td><td>G650</td><td>Gulfstream</td><td>BR710</td><td>2014-04-20</td><td>Active</td><td>6230</td><td>13209.8</td><td>true</td><td>engine_model_from_lookup_by_model</td><td>2025-10-09T15:49:07.439Z</td><td>1</td></tr><tr><td>AC1026</td><td>N71264</td><td>737-800</td><td>Boeing</td><td>CFM56-7B</td><td>2022-10-19</td><td>Active</td><td>34779</td><td>75763.0</td><td>true</td><td>engine_model_from_lookup_by_model</td><td>2025-10-09T15:49:07.439Z</td><td>1</td></tr><tr><td>AC1029</td><td>N12609</td><td>E175</td><td>Embraer</td><td>PW1900G</td><td>2003-10-14</td><td>Active</td><td>42335</td><td>77812.6</td><td>true</td><td>engine_model_from_lookup_by_model</td><td>2025-10-09T15:49:07.439Z</td><td>1</td></tr><tr><td>AC1030</td><td>N32132</td><td>Citation CJ3</td><td>Cessna</td><td>PT6A-114</td><td>2012-04-05</td><td>Active</td><td>40234</td><td>82337.5</td><td>true</td><td>engine_model_from_lookup_by_model</td><td>2025-10-09T15:49:07.439Z</td><td>1</td></tr><tr><td>AC1074</td><td>N72762</td><td>A321-231</td><td>Airbus</td><td>Trent-700</td><td>2016-07-22</td><td>Active</td><td>9962</td><td>17980.6</td><td>true</td><td>engine_model_from_lookup_by_model</td><td>2025-10-09T15:49:07.439Z</td><td>1</td></tr></tbody></table></div>"
      ]
     },
     "metadata": {
      "application/vnd.databricks.v1+output": {
       "addedWidgets": {},
       "aggData": [],
       "aggError": "",
       "aggOverflow": false,
       "aggSchema": [],
       "aggSeriesLimitReached": false,
       "aggType": "",
       "arguments": {},
       "columnCustomDisplayInfos": {},
       "data": [
        [
         "AC1001",
         "N37173",
         "787-8",
         "Boeing",
         "LEAP-1B",
         "2002-06-24",
         "Retired",
         3130,
         -6236.1,
         null,
         null,
         null,
         null
        ],
        [
         "AC1009",
         "N99732",
         "737-800",
         "Boeing",
         "CFM56-7B",
         "2012-10-04",
         "Active",
         28990,
         -55523.5,
         null,
         null,
         null,
         null
        ],
        [
         "AC1021",
         "N69910",
         "737-800",
         "Boeing",
         "CFM56-7B",
         "2006-09-09",
         "Active",
         41839,
         -91357.6,
         null,
         null,
         null,
         null
        ],
        [
         "AC1061",
         "N93500",
         "737-9",
         "Boeing",
         "GEnx-1B",
         "2021-07-18",
         "Maintenance",
         24415,
         -53089.3,
         null,
         null,
         null,
         null
        ],
        [
         "AC1067",
         "N85417",
         "787-8",
         "Boeing",
         "LEAP-1B",
         "2019-02-11",
         "Active",
         19008,
         -41446.5,
         null,
         null,
         null,
         null
        ],
        [
         "AC1075",
         "N55407",
         "787-8",
         "Boeing",
         "LEAP-1B",
         "2020-02-11",
         "Active",
         34601,
         -68569.7,
         null,
         null,
         null,
         null
        ],
        [
         "AC1000",
         "N11088",
         "Citation CJ3",
         "Cessna",
         "PT6A-114",
         "2007-05-17",
         "Maintenance",
         27289,
         59122.7,
         true,
         "engine_model_from_lookup_by_model",
         "2025-10-09T15:49:07.439Z",
         1
        ],
        [
         "AC1013",
         "N35551",
         "Citation CJ3",
         "Cessna",
         "PT6A-114",
         "2019-01-31",
         "Maintenance",
         3413,
         7318.5,
         true,
         "engine_model_from_lookup_by_model",
         "2025-10-09T15:49:07.439Z",
         1
        ],
        [
         "AC1022",
         "N22287",
         "G650",
         "Gulfstream",
         "BR710",
         "2014-04-20",
         "Active",
         6230,
         13209.8,
         true,
         "engine_model_from_lookup_by_model",
         "2025-10-09T15:49:07.439Z",
         1
        ],
        [
         "AC1026",
         "N71264",
         "737-800",
         "Boeing",
         "CFM56-7B",
         "2022-10-19",
         "Active",
         34779,
         75763.0,
         true,
         "engine_model_from_lookup_by_model",
         "2025-10-09T15:49:07.439Z",
         1
        ],
        [
         "AC1029",
         "N12609",
         "E175",
         "Embraer",
         "PW1900G",
         "2003-10-14",
         "Active",
         42335,
         77812.6,
         true,
         "engine_model_from_lookup_by_model",
         "2025-10-09T15:49:07.439Z",
         1
        ],
        [
         "AC1030",
         "N32132",
         "Citation CJ3",
         "Cessna",
         "PT6A-114",
         "2012-04-05",
         "Active",
         40234,
         82337.5,
         true,
         "engine_model_from_lookup_by_model",
         "2025-10-09T15:49:07.439Z",
         1
        ],
        [
         "AC1074",
         "N72762",
         "A321-231",
         "Airbus",
         "Trent-700",
         "2016-07-22",
         "Active",
         9962,
         17980.6,
         true,
         "engine_model_from_lookup_by_model",
         "2025-10-09T15:49:07.439Z",
         1
        ]
       ],
       "datasetInfos": [
        {
         "name": "_sqldf",
         "schema": {
          "fields": [
           {
            "metadata": {},
            "name": "aircraft_id",
            "nullable": true,
            "type": "string"
           },
           {
            "metadata": {},
            "name": "tail_number",
            "nullable": true,
            "type": "string"
           },
           {
            "metadata": {},
            "name": "model",
            "nullable": true,
            "type": "string"
           },
           {
            "metadata": {},
            "name": "manufacturer",
            "nullable": true,
            "type": "string"
           },
           {
            "metadata": {},
            "name": "engine_model",
            "nullable": true,
            "type": "string"
           },
           {
            "metadata": {
             "__detected_date_formats": "yyyy-M-d"
            },
            "name": "first_service_dt",
            "nullable": true,
            "type": "date"
           },
           {
            "metadata": {},
            "name": "status",
            "nullable": true,
            "type": "string"
           },
           {
            "metadata": {},
            "name": "cycles_total",
            "nullable": true,
            "type": "integer"
           },
           {
            "metadata": {},
            "name": "hours_total",
            "nullable": true,
            "type": "double"
           },
           {
            "metadata": {},
            "name": "fixed",
            "nullable": true,
            "type": "boolean"
           },
           {
            "metadata": {},
            "name": "type_fix",
            "nullable": true,
            "type": "string"
           },
           {
            "metadata": {},
            "name": "date_fix",
            "nullable": true,
            "type": "timestamp"
           },
           {
            "metadata": {},
            "name": "fix_version",
            "nullable": true,
            "type": "integer"
           }
          ],
          "type": "struct"
         },
         "tableIdentifier": null,
         "typeStr": "pyspark.sql.connect.dataframe.DataFrame"
        }
       ],
       "dbfsResultPath": null,
       "isJsonSchema": true,
       "metadata": {
        "createTempViewForImplicitDf": true,
        "dataframeName": "_sqldf",
        "executionCount": 110
       },
       "overflow": false,
       "plotOptions": {
        "customPlotOptions": {},
        "displayType": "table",
        "pivotAggregation": null,
        "pivotColumns": null,
        "xColumns": null,
        "yColumns": null
       },
       "removedWidgets": [],
       "schema": [
        {
         "metadata": "{}",
         "name": "aircraft_id",
         "type": "\"string\""
        },
        {
         "metadata": "{}",
         "name": "tail_number",
         "type": "\"string\""
        },
        {
         "metadata": "{}",
         "name": "model",
         "type": "\"string\""
        },
        {
         "metadata": "{}",
         "name": "manufacturer",
         "type": "\"string\""
        },
        {
         "metadata": "{}",
         "name": "engine_model",
         "type": "\"string\""
        },
        {
         "metadata": "{\"__detected_date_formats\": \"yyyy-M-d\"}",
         "name": "first_service_dt",
         "type": "\"date\""
        },
        {
         "metadata": "{}",
         "name": "status",
         "type": "\"string\""
        },
        {
         "metadata": "{}",
         "name": "cycles_total",
         "type": "\"integer\""
        },
        {
         "metadata": "{}",
         "name": "hours_total",
         "type": "\"double\""
        },
        {
         "metadata": "{}",
         "name": "fixed",
         "type": "\"boolean\""
        },
        {
         "metadata": "{}",
         "name": "type_fix",
         "type": "\"string\""
        },
        {
         "metadata": "{}",
         "name": "date_fix",
         "type": "\"timestamp\""
        },
        {
         "metadata": "{}",
         "name": "fix_version",
         "type": "\"integer\""
        }
       ],
       "type": "table"
      }
     },
     "output_type": "display_data"
    }
   ],
   "source": [
    "%sql\n",
    "select *\n",
    "from sesion1_2.layer30_silver_quarantine.dim_aircraft_quarantine\n"
   ]
  },
  {
   "cell_type": "markdown",
   "metadata": {
    "application/vnd.databricks.v1+cell": {
     "cellMetadata": {},
     "inputWidgets": {},
     "nuid": "03fa779e-a7e4-4da7-b8ba-dcdc575fde1a",
     "showTitle": false,
     "tableResultSettingsMap": {},
     "title": ""
    }
   },
   "source": [
    "###  1.1.2 Caso de corrección: valores nulos en *Engine Model*\n",
    "\n",
    "Se han identificado registros en la tabla de cuarentena con la columna `engine_model` vacía.  \n",
    "Para estos casos, se deberá **consultar la tabla Silver** correspondiente y **asignar el valor de `engine_model` utilizado para el mismo modelo de aeronave**.\n"
   ]
  },
  {
   "cell_type": "code",
   "execution_count": 0,
   "metadata": {
    "application/vnd.databricks.v1+cell": {
     "cellMetadata": {
      "byteLimit": 2048000,
      "implicitDf": true,
      "rowLimit": 10000
     },
     "inputWidgets": {},
     "nuid": "a653ec9b-f695-4d1f-8a5c-7d4e07e2c702",
     "showTitle": false,
     "tableResultSettingsMap": {
      "0": {
       "dataGridStateBlob": "{\"version\":1,\"tableState\":{\"columnPinning\":{\"left\":[\"#row_number#\"],\"right\":[]},\"columnSizing\":{},\"columnVisibility\":{}},\"settings\":{\"columns\":{}},\"syncTimestamp\":1760023948100}",
       "filterBlob": null,
       "queryPlanFiltersBlob": null,
       "tableResultIndex": 0
      }
     },
     "title": ""
    }
   },
   "outputs": [
    {
     "output_type": "display_data",
     "data": {
      "text/html": [
       "<style scoped>\n",
       "  .table-result-container {\n",
       "    max-height: 300px;\n",
       "    overflow: auto;\n",
       "  }\n",
       "  table, th, td {\n",
       "    border: 1px solid black;\n",
       "    border-collapse: collapse;\n",
       "  }\n",
       "  th, td {\n",
       "    padding: 5px;\n",
       "  }\n",
       "  th {\n",
       "    text-align: left;\n",
       "  }\n",
       "</style><div class='table-result-container'><table class='table-result'><thead style='background-color: white'><tr><th>aircraft_id</th><th>tail_number</th><th>model</th><th>manufacturer</th><th>engine_model</th><th>first_service_dt</th><th>status</th><th>cycles_total</th><th>hours_total</th></tr></thead><tbody><tr><td>AC1000</td><td>N11088</td><td>Citation CJ3</td><td>Cessna</td><td>null</td><td>2007-05-17</td><td>Maintenance</td><td>27289</td><td>59122.7</td></tr><tr><td>AC1013</td><td>N35551</td><td>Citation CJ3</td><td>Cessna</td><td>null</td><td>2019-01-31</td><td>Maintenance</td><td>3413</td><td>7318.5</td></tr><tr><td>AC1022</td><td>N22287</td><td>G650</td><td>Gulfstream</td><td>null</td><td>2014-04-20</td><td>Active</td><td>6230</td><td>13209.8</td></tr><tr><td>AC1026</td><td>N71264</td><td>737-800</td><td>Boeing</td><td> </td><td>2022-10-19</td><td>Active</td><td>34779</td><td>75763.0</td></tr><tr><td>AC1029</td><td>N12609</td><td>E175</td><td>Embraer</td><td>null</td><td>2003-10-14</td><td>Active</td><td>42335</td><td>77812.6</td></tr><tr><td>AC1030</td><td>N32132</td><td>Citation CJ3</td><td>Cessna</td><td>null</td><td>2012-04-05</td><td>Active</td><td>40234</td><td>82337.5</td></tr><tr><td>AC1074</td><td>N72762</td><td>A321-231</td><td>Airbus</td><td>  </td><td>2016-07-22</td><td>Active</td><td>9962</td><td>17980.6</td></tr></tbody></table></div>"
      ]
     },
     "metadata": {
      "application/vnd.databricks.v1+output": {
       "addedWidgets": {},
       "aggData": [],
       "aggError": "",
       "aggOverflow": false,
       "aggSchema": [],
       "aggSeriesLimitReached": false,
       "aggType": "",
       "arguments": {},
       "columnCustomDisplayInfos": {},
       "data": [
        [
         "AC1000",
         "N11088",
         "Citation CJ3",
         "Cessna",
         null,
         "2007-05-17",
         "Maintenance",
         27289,
         59122.7
        ],
        [
         "AC1013",
         "N35551",
         "Citation CJ3",
         "Cessna",
         null,
         "2019-01-31",
         "Maintenance",
         3413,
         7318.5
        ],
        [
         "AC1022",
         "N22287",
         "G650",
         "Gulfstream",
         null,
         "2014-04-20",
         "Active",
         6230,
         13209.8
        ],
        [
         "AC1026",
         "N71264",
         "737-800",
         "Boeing",
         " ",
         "2022-10-19",
         "Active",
         34779,
         75763.0
        ],
        [
         "AC1029",
         "N12609",
         "E175",
         "Embraer",
         null,
         "2003-10-14",
         "Active",
         42335,
         77812.6
        ],
        [
         "AC1030",
         "N32132",
         "Citation CJ3",
         "Cessna",
         null,
         "2012-04-05",
         "Active",
         40234,
         82337.5
        ],
        [
         "AC1074",
         "N72762",
         "A321-231",
         "Airbus",
         "  ",
         "2016-07-22",
         "Active",
         9962,
         17980.6
        ]
       ],
       "datasetInfos": [
        {
         "name": "_sqldf",
         "schema": {
          "fields": [
           {
            "metadata": {},
            "name": "aircraft_id",
            "nullable": true,
            "type": "string"
           },
           {
            "metadata": {},
            "name": "tail_number",
            "nullable": true,
            "type": "string"
           },
           {
            "metadata": {},
            "name": "model",
            "nullable": true,
            "type": "string"
           },
           {
            "metadata": {},
            "name": "manufacturer",
            "nullable": true,
            "type": "string"
           },
           {
            "metadata": {},
            "name": "engine_model",
            "nullable": true,
            "type": "string"
           },
           {
            "metadata": {
             "__detected_date_formats": "yyyy-M-d"
            },
            "name": "first_service_dt",
            "nullable": true,
            "type": "date"
           },
           {
            "metadata": {},
            "name": "status",
            "nullable": true,
            "type": "string"
           },
           {
            "metadata": {},
            "name": "cycles_total",
            "nullable": true,
            "type": "integer"
           },
           {
            "metadata": {},
            "name": "hours_total",
            "nullable": true,
            "type": "double"
           }
          ],
          "type": "struct"
         },
         "tableIdentifier": null,
         "typeStr": "pyspark.sql.connect.dataframe.DataFrame"
        }
       ],
       "dbfsResultPath": null,
       "isJsonSchema": true,
       "metadata": {
        "createTempViewForImplicitDf": true,
        "dataframeName": "_sqldf",
        "executionCount": 95
       },
       "overflow": false,
       "plotOptions": {
        "customPlotOptions": {},
        "displayType": "table",
        "pivotAggregation": null,
        "pivotColumns": null,
        "xColumns": null,
        "yColumns": null
       },
       "removedWidgets": [],
       "schema": [
        {
         "metadata": "{}",
         "name": "aircraft_id",
         "type": "\"string\""
        },
        {
         "metadata": "{}",
         "name": "tail_number",
         "type": "\"string\""
        },
        {
         "metadata": "{}",
         "name": "model",
         "type": "\"string\""
        },
        {
         "metadata": "{}",
         "name": "manufacturer",
         "type": "\"string\""
        },
        {
         "metadata": "{}",
         "name": "engine_model",
         "type": "\"string\""
        },
        {
         "metadata": "{\"__detected_date_formats\": \"yyyy-M-d\"}",
         "name": "first_service_dt",
         "type": "\"date\""
        },
        {
         "metadata": "{}",
         "name": "status",
         "type": "\"string\""
        },
        {
         "metadata": "{}",
         "name": "cycles_total",
         "type": "\"integer\""
        },
        {
         "metadata": "{}",
         "name": "hours_total",
         "type": "\"double\""
        }
       ],
       "type": "table"
      }
     },
     "output_type": "display_data"
    }
   ],
   "source": [
    "%sql\n",
    "select *\n",
    "from sesion1_2.layer30_silver_quarantine.dim_aircraft_quarantine\n",
    "where engine_model is null\n",
    "or trim(engine_model) = ''\n"
   ]
  },
  {
   "cell_type": "markdown",
   "metadata": {
    "application/vnd.databricks.v1+cell": {
     "cellMetadata": {},
     "inputWidgets": {},
     "nuid": "8bd7fc08-d44c-4144-a53d-ec0b0f2a5063",
     "showTitle": false,
     "tableResultSettingsMap": {},
     "title": ""
    }
   },
   "source": [
    "Creamos la vista para hacer el merge rellenando el engine_model"
   ]
  },
  {
   "cell_type": "code",
   "execution_count": 0,
   "metadata": {
    "application/vnd.databricks.v1+cell": {
     "cellMetadata": {
      "byteLimit": 2048000,
      "implicitDf": true,
      "rowLimit": 10000
     },
     "inputWidgets": {},
     "nuid": "264ab11a-b560-4866-80b1-a88e62e8f10c",
     "showTitle": false,
     "tableResultSettingsMap": {},
     "title": ""
    }
   },
   "outputs": [],
   "source": [
    "%sql\n",
    "CREATE OR REPLACE VIEW sesion1_2.layer30_silver.dim_aircraft_models AS\n",
    "SELECT \n",
    "  model,\n",
    "  first(engine_model, TRUE) AS engine_model\n",
    "FROM sesion1_2.layer30_silver.dim_aircraft\n",
    "WHERE engine_model IS NOT NULL\n",
    "  AND trim(engine_model) <> ''\n",
    "GROUP BY model;\n",
    "\n"
   ]
  },
  {
   "cell_type": "code",
   "execution_count": 0,
   "metadata": {
    "application/vnd.databricks.v1+cell": {
     "cellMetadata": {
      "byteLimit": 2048000,
      "implicitDf": true,
      "rowLimit": 10000
     },
     "inputWidgets": {},
     "nuid": "4017935d-f7bf-4c0b-b007-a8b128edeebf",
     "showTitle": false,
     "tableResultSettingsMap": {},
     "title": ""
    }
   },
   "outputs": [
    {
     "output_type": "display_data",
     "data": {
      "text/html": [
       "<style scoped>\n",
       "  .table-result-container {\n",
       "    max-height: 300px;\n",
       "    overflow: auto;\n",
       "  }\n",
       "  table, th, td {\n",
       "    border: 1px solid black;\n",
       "    border-collapse: collapse;\n",
       "  }\n",
       "  th, td {\n",
       "    padding: 5px;\n",
       "  }\n",
       "  th {\n",
       "    text-align: left;\n",
       "  }\n",
       "</style><div class='table-result-container'><table class='table-result'><thead style='background-color: white'><tr><th>model</th><th>engine_model</th></tr></thead><tbody><tr><td>208 Caravan</td><td>PT6A-114</td></tr><tr><td>737-800</td><td>CFM56-7B</td></tr><tr><td>737-9</td><td>GEnx-1B</td></tr><tr><td>787-8</td><td>LEAP-1B</td></tr><tr><td>787-9</td><td>LEAP-1B</td></tr><tr><td>A320-214</td><td>CFM56-5B</td></tr><tr><td>A321-231</td><td>Trent-700</td></tr><tr><td>A330-200</td><td>V2500</td></tr><tr><td>A350-900</td><td>V2500</td></tr><tr><td>Citation CJ3</td><td>PT6A-114</td></tr><tr><td>E175</td><td>PW1900G</td></tr><tr><td>E190</td><td>PW1900G</td></tr><tr><td>E195-E2</td><td>CF34-8E</td></tr><tr><td>G550</td><td>PW815GA</td></tr><tr><td>G650</td><td>BR710</td></tr><tr><td>G700</td><td>BR710</td></tr></tbody></table></div>"
      ]
     },
     "metadata": {
      "application/vnd.databricks.v1+output": {
       "addedWidgets": {},
       "aggData": [],
       "aggError": "",
       "aggOverflow": false,
       "aggSchema": [],
       "aggSeriesLimitReached": false,
       "aggType": "",
       "arguments": {},
       "columnCustomDisplayInfos": {},
       "data": [
        [
         "208 Caravan",
         "PT6A-114"
        ],
        [
         "737-800",
         "CFM56-7B"
        ],
        [
         "737-9",
         "GEnx-1B"
        ],
        [
         "787-8",
         "LEAP-1B"
        ],
        [
         "787-9",
         "LEAP-1B"
        ],
        [
         "A320-214",
         "CFM56-5B"
        ],
        [
         "A321-231",
         "Trent-700"
        ],
        [
         "A330-200",
         "V2500"
        ],
        [
         "A350-900",
         "V2500"
        ],
        [
         "Citation CJ3",
         "PT6A-114"
        ],
        [
         "E175",
         "PW1900G"
        ],
        [
         "E190",
         "PW1900G"
        ],
        [
         "E195-E2",
         "CF34-8E"
        ],
        [
         "G550",
         "PW815GA"
        ],
        [
         "G650",
         "BR710"
        ],
        [
         "G700",
         "BR710"
        ]
       ],
       "datasetInfos": [
        {
         "name": "_sqldf",
         "schema": {
          "fields": [
           {
            "metadata": {},
            "name": "model",
            "nullable": true,
            "type": "string"
           },
           {
            "metadata": {},
            "name": "engine_model",
            "nullable": true,
            "type": "string"
           }
          ],
          "type": "struct"
         },
         "tableIdentifier": null,
         "typeStr": "pyspark.sql.connect.dataframe.DataFrame"
        }
       ],
       "dbfsResultPath": null,
       "isJsonSchema": true,
       "metadata": {
        "createTempViewForImplicitDf": true,
        "dataframeName": "_sqldf",
        "executionCount": 3
       },
       "overflow": false,
       "plotOptions": {
        "customPlotOptions": {},
        "displayType": "table",
        "pivotAggregation": null,
        "pivotColumns": null,
        "xColumns": null,
        "yColumns": null
       },
       "removedWidgets": [],
       "schema": [
        {
         "metadata": "{}",
         "name": "model",
         "type": "\"string\""
        },
        {
         "metadata": "{}",
         "name": "engine_model",
         "type": "\"string\""
        }
       ],
       "type": "table"
      }
     },
     "output_type": "display_data"
    }
   ],
   "source": [
    "%sql\n",
    "SELECT * \n",
    "FROM sesion1_2.layer30_silver.dim_aircraft_models\n",
    "ORDER BY model\n",
    "LIMIT 50;\n"
   ]
  },
  {
   "cell_type": "code",
   "execution_count": 0,
   "metadata": {
    "application/vnd.databricks.v1+cell": {
     "cellMetadata": {
      "byteLimit": 2048000,
      "implicitDf": true,
      "rowLimit": 10000
     },
     "inputWidgets": {},
     "nuid": "e6ade7fa-6d69-497d-a00d-783b94a23c79",
     "showTitle": false,
     "tableResultSettingsMap": {},
     "title": ""
    }
   },
   "outputs": [
    {
     "output_type": "display_data",
     "data": {
      "text/html": [
       "<style scoped>\n",
       "  .table-result-container {\n",
       "    max-height: 300px;\n",
       "    overflow: auto;\n",
       "  }\n",
       "  table, th, td {\n",
       "    border: 1px solid black;\n",
       "    border-collapse: collapse;\n",
       "  }\n",
       "  th, td {\n",
       "    padding: 5px;\n",
       "  }\n",
       "  th {\n",
       "    text-align: left;\n",
       "  }\n",
       "</style><div class='table-result-container'><table class='table-result'><thead style='background-color: white'><tr><th>num_affected_rows</th><th>num_updated_rows</th><th>num_deleted_rows</th><th>num_inserted_rows</th></tr></thead><tbody><tr><td>0</td><td>0</td><td>0</td><td>0</td></tr></tbody></table></div>"
      ]
     },
     "metadata": {
      "application/vnd.databricks.v1+output": {
       "addedWidgets": {},
       "aggData": [],
       "aggError": "",
       "aggOverflow": false,
       "aggSchema": [],
       "aggSeriesLimitReached": false,
       "aggType": "",
       "arguments": {},
       "columnCustomDisplayInfos": {},
       "data": [
        [
         0,
         0,
         0,
         0
        ]
       ],
       "datasetInfos": [
        {
         "name": "_sqldf",
         "schema": {
          "fields": [
           {
            "metadata": {},
            "name": "num_affected_rows",
            "nullable": true,
            "type": "long"
           },
           {
            "metadata": {},
            "name": "num_updated_rows",
            "nullable": true,
            "type": "long"
           },
           {
            "metadata": {},
            "name": "num_deleted_rows",
            "nullable": true,
            "type": "long"
           },
           {
            "metadata": {},
            "name": "num_inserted_rows",
            "nullable": true,
            "type": "long"
           }
          ],
          "type": "struct"
         },
         "tableIdentifier": null,
         "typeStr": "pyspark.sql.connect.dataframe.DataFrame"
        }
       ],
       "dbfsResultPath": null,
       "isJsonSchema": true,
       "metadata": {
        "createTempViewForImplicitDf": true,
        "dataframeName": "_sqldf",
        "executionCount": 4
       },
       "overflow": false,
       "plotOptions": {
        "customPlotOptions": {},
        "displayType": "table",
        "pivotAggregation": null,
        "pivotColumns": null,
        "xColumns": null,
        "yColumns": null
       },
       "removedWidgets": [],
       "schema": [
        {
         "metadata": "{}",
         "name": "num_affected_rows",
         "type": "\"long\""
        },
        {
         "metadata": "{}",
         "name": "num_updated_rows",
         "type": "\"long\""
        },
        {
         "metadata": "{}",
         "name": "num_deleted_rows",
         "type": "\"long\""
        },
        {
         "metadata": "{}",
         "name": "num_inserted_rows",
         "type": "\"long\""
        }
       ],
       "type": "table"
      }
     },
     "output_type": "display_data"
    }
   ],
   "source": [
    "%sql\n",
    "-- Rellenar engine_model en cuarentena a partir de la vista de referencia por model\n",
    "MERGE INTO sesion1_2.layer30_silver_quarantine.dim_aircraft_quarantine AS tgt\n",
    "USING sesion1_2.layer30_silver.dim_aircraft_models                         AS src\n",
    "ON  tgt.model = src.model\n",
    "\n",
    "WHEN MATCHED\n",
    "  AND (tgt.engine_model IS NULL OR trim(tgt.engine_model) = '')\n",
    "  AND src.engine_model IS NOT NULL\n",
    "THEN UPDATE SET\n",
    "  tgt.engine_model = src.engine_model,\n",
    "  tgt.fixed        = TRUE,\n",
    "  tgt.type_fix     = 'engine_model_from_lookup_by_model',\n",
    "  tgt.date_fix     = current_timestamp(),\n",
    "  tgt.fix_version  = coalesce(tgt.fix_version, 0) + 1\n",
    ";\n"
   ]
  },
  {
   "cell_type": "code",
   "execution_count": 0,
   "metadata": {
    "application/vnd.databricks.v1+cell": {
     "cellMetadata": {
      "byteLimit": 2048000,
      "implicitDf": true,
      "rowLimit": 10000
     },
     "inputWidgets": {},
     "nuid": "9ab64b4d-55e3-4792-82d9-55eb20523766",
     "showTitle": false,
     "tableResultSettingsMap": {},
     "title": ""
    }
   },
   "outputs": [
    {
     "output_type": "display_data",
     "data": {
      "text/html": [
       "<style scoped>\n",
       "  .table-result-container {\n",
       "    max-height: 300px;\n",
       "    overflow: auto;\n",
       "  }\n",
       "  table, th, td {\n",
       "    border: 1px solid black;\n",
       "    border-collapse: collapse;\n",
       "  }\n",
       "  th, td {\n",
       "    padding: 5px;\n",
       "  }\n",
       "  th {\n",
       "    text-align: left;\n",
       "  }\n",
       "</style><div class='table-result-container'><table class='table-result'><thead style='background-color: white'><tr><th>aircraft_id</th><th>tail_number</th><th>model</th><th>manufacturer</th><th>engine_model</th><th>first_service_dt</th><th>status</th><th>cycles_total</th><th>hours_total</th><th>fixed</th><th>type_fix</th><th>date_fix</th><th>fix_version</th></tr></thead><tbody><tr><td>AC1001</td><td>N37173</td><td>787-8</td><td>Boeing</td><td>LEAP-1B</td><td>2002-06-24</td><td>Retired</td><td>3130</td><td>-6236.1</td><td>null</td><td>null</td><td>null</td><td>null</td></tr><tr><td>AC1009</td><td>N99732</td><td>737-800</td><td>Boeing</td><td>CFM56-7B</td><td>2012-10-04</td><td>Active</td><td>28990</td><td>-55523.5</td><td>null</td><td>null</td><td>null</td><td>null</td></tr><tr><td>AC1021</td><td>N69910</td><td>737-800</td><td>Boeing</td><td>CFM56-7B</td><td>2006-09-09</td><td>Active</td><td>41839</td><td>-91357.6</td><td>null</td><td>null</td><td>null</td><td>null</td></tr><tr><td>AC1061</td><td>N93500</td><td>737-9</td><td>Boeing</td><td>GEnx-1B</td><td>2021-07-18</td><td>Maintenance</td><td>24415</td><td>-53089.3</td><td>null</td><td>null</td><td>null</td><td>null</td></tr><tr><td>AC1067</td><td>N85417</td><td>787-8</td><td>Boeing</td><td>LEAP-1B</td><td>2019-02-11</td><td>Active</td><td>19008</td><td>-41446.5</td><td>null</td><td>null</td><td>null</td><td>null</td></tr><tr><td>AC1075</td><td>N55407</td><td>787-8</td><td>Boeing</td><td>LEAP-1B</td><td>2020-02-11</td><td>Active</td><td>34601</td><td>-68569.7</td><td>null</td><td>null</td><td>null</td><td>null</td></tr><tr><td>AC1000</td><td>N11088</td><td>Citation CJ3</td><td>Cessna</td><td>PT6A-114</td><td>2007-05-17</td><td>Maintenance</td><td>27289</td><td>59122.7</td><td>true</td><td>engine_model_from_lookup_by_model</td><td>2025-10-09T15:49:07.439Z</td><td>1</td></tr><tr><td>AC1013</td><td>N35551</td><td>Citation CJ3</td><td>Cessna</td><td>PT6A-114</td><td>2019-01-31</td><td>Maintenance</td><td>3413</td><td>7318.5</td><td>true</td><td>engine_model_from_lookup_by_model</td><td>2025-10-09T15:49:07.439Z</td><td>1</td></tr><tr><td>AC1022</td><td>N22287</td><td>G650</td><td>Gulfstream</td><td>BR710</td><td>2014-04-20</td><td>Active</td><td>6230</td><td>13209.8</td><td>true</td><td>engine_model_from_lookup_by_model</td><td>2025-10-09T15:49:07.439Z</td><td>1</td></tr><tr><td>AC1026</td><td>N71264</td><td>737-800</td><td>Boeing</td><td>CFM56-7B</td><td>2022-10-19</td><td>Active</td><td>34779</td><td>75763.0</td><td>true</td><td>engine_model_from_lookup_by_model</td><td>2025-10-09T15:49:07.439Z</td><td>1</td></tr><tr><td>AC1029</td><td>N12609</td><td>E175</td><td>Embraer</td><td>PW1900G</td><td>2003-10-14</td><td>Active</td><td>42335</td><td>77812.6</td><td>true</td><td>engine_model_from_lookup_by_model</td><td>2025-10-09T15:49:07.439Z</td><td>1</td></tr><tr><td>AC1030</td><td>N32132</td><td>Citation CJ3</td><td>Cessna</td><td>PT6A-114</td><td>2012-04-05</td><td>Active</td><td>40234</td><td>82337.5</td><td>true</td><td>engine_model_from_lookup_by_model</td><td>2025-10-09T15:49:07.439Z</td><td>1</td></tr><tr><td>AC1074</td><td>N72762</td><td>A321-231</td><td>Airbus</td><td>Trent-700</td><td>2016-07-22</td><td>Active</td><td>9962</td><td>17980.6</td><td>true</td><td>engine_model_from_lookup_by_model</td><td>2025-10-09T15:49:07.439Z</td><td>1</td></tr></tbody></table></div>"
      ]
     },
     "metadata": {
      "application/vnd.databricks.v1+output": {
       "addedWidgets": {},
       "aggData": [],
       "aggError": "",
       "aggOverflow": false,
       "aggSchema": [],
       "aggSeriesLimitReached": false,
       "aggType": "",
       "arguments": {},
       "columnCustomDisplayInfos": {},
       "data": [
        [
         "AC1001",
         "N37173",
         "787-8",
         "Boeing",
         "LEAP-1B",
         "2002-06-24",
         "Retired",
         3130,
         -6236.1,
         null,
         null,
         null,
         null
        ],
        [
         "AC1009",
         "N99732",
         "737-800",
         "Boeing",
         "CFM56-7B",
         "2012-10-04",
         "Active",
         28990,
         -55523.5,
         null,
         null,
         null,
         null
        ],
        [
         "AC1021",
         "N69910",
         "737-800",
         "Boeing",
         "CFM56-7B",
         "2006-09-09",
         "Active",
         41839,
         -91357.6,
         null,
         null,
         null,
         null
        ],
        [
         "AC1061",
         "N93500",
         "737-9",
         "Boeing",
         "GEnx-1B",
         "2021-07-18",
         "Maintenance",
         24415,
         -53089.3,
         null,
         null,
         null,
         null
        ],
        [
         "AC1067",
         "N85417",
         "787-8",
         "Boeing",
         "LEAP-1B",
         "2019-02-11",
         "Active",
         19008,
         -41446.5,
         null,
         null,
         null,
         null
        ],
        [
         "AC1075",
         "N55407",
         "787-8",
         "Boeing",
         "LEAP-1B",
         "2020-02-11",
         "Active",
         34601,
         -68569.7,
         null,
         null,
         null,
         null
        ],
        [
         "AC1000",
         "N11088",
         "Citation CJ3",
         "Cessna",
         "PT6A-114",
         "2007-05-17",
         "Maintenance",
         27289,
         59122.7,
         true,
         "engine_model_from_lookup_by_model",
         "2025-10-09T15:49:07.439Z",
         1
        ],
        [
         "AC1013",
         "N35551",
         "Citation CJ3",
         "Cessna",
         "PT6A-114",
         "2019-01-31",
         "Maintenance",
         3413,
         7318.5,
         true,
         "engine_model_from_lookup_by_model",
         "2025-10-09T15:49:07.439Z",
         1
        ],
        [
         "AC1022",
         "N22287",
         "G650",
         "Gulfstream",
         "BR710",
         "2014-04-20",
         "Active",
         6230,
         13209.8,
         true,
         "engine_model_from_lookup_by_model",
         "2025-10-09T15:49:07.439Z",
         1
        ],
        [
         "AC1026",
         "N71264",
         "737-800",
         "Boeing",
         "CFM56-7B",
         "2022-10-19",
         "Active",
         34779,
         75763.0,
         true,
         "engine_model_from_lookup_by_model",
         "2025-10-09T15:49:07.439Z",
         1
        ],
        [
         "AC1029",
         "N12609",
         "E175",
         "Embraer",
         "PW1900G",
         "2003-10-14",
         "Active",
         42335,
         77812.6,
         true,
         "engine_model_from_lookup_by_model",
         "2025-10-09T15:49:07.439Z",
         1
        ],
        [
         "AC1030",
         "N32132",
         "Citation CJ3",
         "Cessna",
         "PT6A-114",
         "2012-04-05",
         "Active",
         40234,
         82337.5,
         true,
         "engine_model_from_lookup_by_model",
         "2025-10-09T15:49:07.439Z",
         1
        ],
        [
         "AC1074",
         "N72762",
         "A321-231",
         "Airbus",
         "Trent-700",
         "2016-07-22",
         "Active",
         9962,
         17980.6,
         true,
         "engine_model_from_lookup_by_model",
         "2025-10-09T15:49:07.439Z",
         1
        ]
       ],
       "datasetInfos": [
        {
         "name": "_sqldf",
         "schema": {
          "fields": [
           {
            "metadata": {},
            "name": "aircraft_id",
            "nullable": true,
            "type": "string"
           },
           {
            "metadata": {},
            "name": "tail_number",
            "nullable": true,
            "type": "string"
           },
           {
            "metadata": {},
            "name": "model",
            "nullable": true,
            "type": "string"
           },
           {
            "metadata": {},
            "name": "manufacturer",
            "nullable": true,
            "type": "string"
           },
           {
            "metadata": {},
            "name": "engine_model",
            "nullable": true,
            "type": "string"
           },
           {
            "metadata": {
             "__detected_date_formats": "yyyy-M-d"
            },
            "name": "first_service_dt",
            "nullable": true,
            "type": "date"
           },
           {
            "metadata": {},
            "name": "status",
            "nullable": true,
            "type": "string"
           },
           {
            "metadata": {},
            "name": "cycles_total",
            "nullable": true,
            "type": "integer"
           },
           {
            "metadata": {},
            "name": "hours_total",
            "nullable": true,
            "type": "double"
           },
           {
            "metadata": {},
            "name": "fixed",
            "nullable": true,
            "type": "boolean"
           },
           {
            "metadata": {},
            "name": "type_fix",
            "nullable": true,
            "type": "string"
           },
           {
            "metadata": {},
            "name": "date_fix",
            "nullable": true,
            "type": "timestamp"
           },
           {
            "metadata": {},
            "name": "fix_version",
            "nullable": true,
            "type": "integer"
           }
          ],
          "type": "struct"
         },
         "tableIdentifier": null,
         "typeStr": "pyspark.sql.connect.dataframe.DataFrame"
        }
       ],
       "dbfsResultPath": null,
       "isJsonSchema": true,
       "metadata": {
        "createTempViewForImplicitDf": true,
        "dataframeName": "_sqldf",
        "executionCount": 5
       },
       "overflow": false,
       "plotOptions": {
        "customPlotOptions": {},
        "displayType": "table",
        "pivotAggregation": null,
        "pivotColumns": null,
        "xColumns": null,
        "yColumns": null
       },
       "removedWidgets": [],
       "schema": [
        {
         "metadata": "{}",
         "name": "aircraft_id",
         "type": "\"string\""
        },
        {
         "metadata": "{}",
         "name": "tail_number",
         "type": "\"string\""
        },
        {
         "metadata": "{}",
         "name": "model",
         "type": "\"string\""
        },
        {
         "metadata": "{}",
         "name": "manufacturer",
         "type": "\"string\""
        },
        {
         "metadata": "{}",
         "name": "engine_model",
         "type": "\"string\""
        },
        {
         "metadata": "{\"__detected_date_formats\": \"yyyy-M-d\"}",
         "name": "first_service_dt",
         "type": "\"date\""
        },
        {
         "metadata": "{}",
         "name": "status",
         "type": "\"string\""
        },
        {
         "metadata": "{}",
         "name": "cycles_total",
         "type": "\"integer\""
        },
        {
         "metadata": "{}",
         "name": "hours_total",
         "type": "\"double\""
        },
        {
         "metadata": "{}",
         "name": "fixed",
         "type": "\"boolean\""
        },
        {
         "metadata": "{}",
         "name": "type_fix",
         "type": "\"string\""
        },
        {
         "metadata": "{}",
         "name": "date_fix",
         "type": "\"timestamp\""
        },
        {
         "metadata": "{}",
         "name": "fix_version",
         "type": "\"integer\""
        }
       ],
       "type": "table"
      }
     },
     "output_type": "display_data"
    }
   ],
   "source": [
    "%sql\n",
    "select *\n",
    "from sesion1_2.layer30_silver_quarantine.dim_aircraft_quarantine"
   ]
  },
  {
   "cell_type": "markdown",
   "metadata": {
    "application/vnd.databricks.v1+cell": {
     "cellMetadata": {},
     "inputWidgets": {},
     "nuid": "723db557-8bb6-4dc5-89cc-1a8a87d00e7a",
     "showTitle": false,
     "tableResultSettingsMap": {},
     "title": ""
    }
   },
   "source": [
    "### 1.1.3 Join a Tabla Principal"
   ]
  },
  {
   "cell_type": "markdown",
   "metadata": {
    "application/vnd.databricks.v1+cell": {
     "cellMetadata": {},
     "inputWidgets": {},
     "nuid": "73edc4aa-b494-4555-8a34-afc3450c35fc",
     "showTitle": false,
     "tableResultSettingsMap": {},
     "title": ""
    }
   },
   "source": [
    "%md\n",
    "### \uD83D\uDD04 Reintegración de registros corregidos en la capa Silver\n",
    "\n",
    "Una vez completadas las correcciones en la tabla de **cuarentena**, los registros marcados como `fixed = TRUE` pueden ser **reincorporados** a la tabla principal de la capa **Silver**.  \n",
    "\n",
    "Para ello, se realiza una operación de tipo **MERGE**, que compara ambas tablas (`Silver` y `Quarantine`) en base a la clave primaria `aircraft_id`.  \n",
    "Este proceso actualiza los registros ya existentes y añade aquellos que aún no estaban presentes en la tabla destino.\n",
    "\n",
    "El flujo resultante es:\n",
    "\n",
    "1. **Seleccionar** los registros corregidos en cuarentena (`fixed = TRUE`).  \n",
    "2. **Actualizar** en la tabla Silver los campos modificados.  \n",
    "3. **Insertar** los nuevos registros que aún no existían.  \n",
    "\n",
    "De esta forma, los datos recuperados pasan a formar parte de la tabla **`dim_aircraft`** validada, garantizando trazabilidad, control de versiones y consistencia con el proceso de validación general.\n"
   ]
  },
  {
   "cell_type": "code",
   "execution_count": 0,
   "metadata": {
    "application/vnd.databricks.v1+cell": {
     "cellMetadata": {
      "byteLimit": 2048000,
      "implicitDf": true,
      "rowLimit": 10000
     },
     "inputWidgets": {},
     "nuid": "04d9d9ed-9408-4905-8175-426c74045b71",
     "showTitle": false,
     "tableResultSettingsMap": {},
     "title": ""
    }
   },
   "outputs": [
    {
     "output_type": "display_data",
     "data": {
      "text/html": [
       "<style scoped>\n",
       "  .table-result-container {\n",
       "    max-height: 300px;\n",
       "    overflow: auto;\n",
       "  }\n",
       "  table, th, td {\n",
       "    border: 1px solid black;\n",
       "    border-collapse: collapse;\n",
       "  }\n",
       "  th, td {\n",
       "    padding: 5px;\n",
       "  }\n",
       "  th {\n",
       "    text-align: left;\n",
       "  }\n",
       "</style><div class='table-result-container'><table class='table-result'><thead style='background-color: white'><tr><th>num_affected_rows</th><th>num_updated_rows</th><th>num_deleted_rows</th><th>num_inserted_rows</th></tr></thead><tbody><tr><td>7</td><td>0</td><td>0</td><td>7</td></tr></tbody></table></div>"
      ]
     },
     "metadata": {
      "application/vnd.databricks.v1+output": {
       "addedWidgets": {},
       "aggData": [],
       "aggError": "",
       "aggOverflow": false,
       "aggSchema": [],
       "aggSeriesLimitReached": false,
       "aggType": "",
       "arguments": {},
       "columnCustomDisplayInfos": {},
       "data": [
        [
         7,
         0,
         0,
         7
        ]
       ],
       "datasetInfos": [
        {
         "name": "_sqldf",
         "schema": {
          "fields": [
           {
            "metadata": {},
            "name": "num_affected_rows",
            "nullable": true,
            "type": "long"
           },
           {
            "metadata": {},
            "name": "num_updated_rows",
            "nullable": true,
            "type": "long"
           },
           {
            "metadata": {},
            "name": "num_deleted_rows",
            "nullable": true,
            "type": "long"
           },
           {
            "metadata": {},
            "name": "num_inserted_rows",
            "nullable": true,
            "type": "long"
           }
          ],
          "type": "struct"
         },
         "tableIdentifier": null,
         "typeStr": "pyspark.sql.connect.dataframe.DataFrame"
        }
       ],
       "dbfsResultPath": null,
       "isJsonSchema": true,
       "metadata": {
        "createTempViewForImplicitDf": true,
        "dataframeName": "_sqldf",
        "executionCount": 6
       },
       "overflow": false,
       "plotOptions": {
        "customPlotOptions": {},
        "displayType": "table",
        "pivotAggregation": null,
        "pivotColumns": null,
        "xColumns": null,
        "yColumns": null
       },
       "removedWidgets": [],
       "schema": [
        {
         "metadata": "{}",
         "name": "num_affected_rows",
         "type": "\"long\""
        },
        {
         "metadata": "{}",
         "name": "num_updated_rows",
         "type": "\"long\""
        },
        {
         "metadata": "{}",
         "name": "num_deleted_rows",
         "type": "\"long\""
        },
        {
         "metadata": "{}",
         "name": "num_inserted_rows",
         "type": "\"long\""
        }
       ],
       "type": "table"
      }
     },
     "output_type": "display_data"
    }
   ],
   "source": [
    "%sql\n",
    "MERGE INTO sesion1_2.layer30_silver.dim_aircraft AS tgt\n",
    "USING (\n",
    "  SELECT\n",
    "    aircraft_id, tail_number, model, manufacturer,\n",
    "    engine_model, first_service_dt, status,\n",
    "    cycles_total, hours_total\n",
    "  FROM sesion1_2.layer30_silver_quarantine.dim_aircraft_quarantine\n",
    "  WHERE fixed = TRUE\n",
    ") AS src\n",
    "ON tgt.aircraft_id = src.aircraft_id\n",
    "\n",
    "WHEN MATCHED THEN UPDATE SET\n",
    "  tgt.tail_number      = src.tail_number,\n",
    "  tgt.model            = src.model,\n",
    "  tgt.manufacturer     = src.manufacturer,\n",
    "  tgt.engine_model     = src.engine_model,\n",
    "  tgt.first_service_dt = src.first_service_dt,\n",
    "  tgt.status           = src.status,\n",
    "  tgt.cycles_total     = src.cycles_total,\n",
    "  tgt.hours_total      = src.hours_total\n",
    "\n",
    "WHEN NOT MATCHED THEN INSERT (\n",
    "  aircraft_id, tail_number, model, manufacturer,\n",
    "  engine_model, first_service_dt, status,\n",
    "  cycles_total, hours_total\n",
    ") VALUES (\n",
    "  src.aircraft_id, src.tail_number, src.model, src.manufacturer,\n",
    "  src.engine_model, src.first_service_dt, src.status,\n",
    "  src.cycles_total, src.hours_total\n",
    ");\n"
   ]
  },
  {
   "cell_type": "code",
   "execution_count": 0,
   "metadata": {
    "application/vnd.databricks.v1+cell": {
     "cellMetadata": {
      "byteLimit": 2048000,
      "implicitDf": true,
      "rowLimit": 10000
     },
     "inputWidgets": {},
     "nuid": "4b5a0c27-d586-47f7-8806-3e3b8aa8d7e6",
     "showTitle": false,
     "tableResultSettingsMap": {},
     "title": ""
    }
   },
   "outputs": [
    {
     "output_type": "display_data",
     "data": {
      "text/html": [
       "<style scoped>\n",
       "  .table-result-container {\n",
       "    max-height: 300px;\n",
       "    overflow: auto;\n",
       "  }\n",
       "  table, th, td {\n",
       "    border: 1px solid black;\n",
       "    border-collapse: collapse;\n",
       "  }\n",
       "  th, td {\n",
       "    padding: 5px;\n",
       "  }\n",
       "  th {\n",
       "    text-align: left;\n",
       "  }\n",
       "</style><div class='table-result-container'><table class='table-result'><thead style='background-color: white'><tr><th>num_affected_rows</th></tr></thead><tbody><tr><td>7</td></tr></tbody></table></div>"
      ]
     },
     "metadata": {
      "application/vnd.databricks.v1+output": {
       "addedWidgets": {},
       "aggData": [],
       "aggError": "",
       "aggOverflow": false,
       "aggSchema": [],
       "aggSeriesLimitReached": false,
       "aggType": "",
       "arguments": {},
       "columnCustomDisplayInfos": {},
       "data": [
        [
         7
        ]
       ],
       "datasetInfos": [
        {
         "name": "_sqldf",
         "schema": {
          "fields": [
           {
            "metadata": {},
            "name": "num_affected_rows",
            "nullable": true,
            "type": "long"
           }
          ],
          "type": "struct"
         },
         "tableIdentifier": null,
         "typeStr": "pyspark.sql.connect.dataframe.DataFrame"
        }
       ],
       "dbfsResultPath": null,
       "isJsonSchema": true,
       "metadata": {
        "createTempViewForImplicitDf": true,
        "dataframeName": "_sqldf",
        "executionCount": 7
       },
       "overflow": false,
       "plotOptions": {
        "customPlotOptions": {},
        "displayType": "table",
        "pivotAggregation": null,
        "pivotColumns": null,
        "xColumns": null,
        "yColumns": null
       },
       "removedWidgets": [],
       "schema": [
        {
         "metadata": "{}",
         "name": "num_affected_rows",
         "type": "\"long\""
        }
       ],
       "type": "table"
      }
     },
     "output_type": "display_data"
    }
   ],
   "source": [
    "%sql\n",
    "DELETE FROM sesion1_2.layer30_silver_quarantine.dim_aircraft_quarantine\n",
    "WHERE fixed = TRUE;"
   ]
  },
  {
   "cell_type": "markdown",
   "metadata": {
    "application/vnd.databricks.v1+cell": {
     "cellMetadata": {},
     "inputWidgets": {},
     "nuid": "06d93d5f-ef85-4710-bbbd-7ab80de4bc15",
     "showTitle": false,
     "tableResultSettingsMap": {},
     "title": ""
    }
   },
   "source": [
    "## 1.2 facts_sensors"
   ]
  },
  {
   "cell_type": "markdown",
   "metadata": {
    "application/vnd.databricks.v1+cell": {
     "cellMetadata": {},
     "inputWidgets": {},
     "nuid": "a75f7f35-0528-4625-b128-26e0704e14f0",
     "showTitle": false,
     "tableResultSettingsMap": {},
     "title": ""
    }
   },
   "source": [
    "\n",
    "Tras haber completado la recuperación y actualización de los registros en **`dim_aircraft`**, continuaremos con la revisión de la siguiente tabla del flujo.  \n",
    "El objetivo es **aplicar la misma lógica de análisis, corrección y reintegración**, adaptándola a las particularidades de cada dataset.\n",
    "\n",
    "En esta nueva sección, identificaremos los principales errores detectados, propondremos las reglas de corrección y prepararemos los datos para su posterior promoción a la capa **Silver**.\n"
   ]
  },
  {
   "cell_type": "code",
   "execution_count": 0,
   "metadata": {
    "application/vnd.databricks.v1+cell": {
     "cellMetadata": {
      "byteLimit": 2048000,
      "implicitDf": true,
      "rowLimit": 10000
     },
     "inputWidgets": {},
     "nuid": "ebd03c4a-8386-41e4-b2c1-e4b9773b3330",
     "showTitle": false,
     "tableResultSettingsMap": {},
     "title": ""
    }
   },
   "outputs": [
    {
     "output_type": "display_data",
     "data": {
      "text/html": [
       "<style scoped>\n",
       "  .table-result-container {\n",
       "    max-height: 300px;\n",
       "    overflow: auto;\n",
       "  }\n",
       "  table, th, td {\n",
       "    border: 1px solid black;\n",
       "    border-collapse: collapse;\n",
       "  }\n",
       "  th, td {\n",
       "    padding: 5px;\n",
       "  }\n",
       "  th {\n",
       "    text-align: left;\n",
       "  }\n",
       "</style><div class='table-result-container'><table class='table-result'><thead style='background-color: white'><tr><th>reading_id</th><th>aircraft_id</th><th>event_ts</th><th>event_date</th><th>engine_pos</th><th>phase_of_flight</th><th>altitude_ft</th><th>ias_kts</th><th>egt_c</th><th>n1_pct</th><th>fuel_flow_kg_h</th><th>vib_ips</th><th>fixed</th><th>type_fix</th><th>date_fix</th><th>fix_version</th></tr></thead><tbody><tr><td>R100038</td><td>AC1065</td><td>2023-03-22T22:24:00.000Z</td><td>2023-02-05T13:55:00.000Z</td><td>1</td><td>Takeoff</td><td>54639</td><td>430</td><td>834.0</td><td>82.6</td><td>2457.1</td><td>1.39</td><td>null</td><td>null</td><td>null</td><td>null</td></tr><tr><td>R100086</td><td>AC1021</td><td>2023-04-30T07:46:00.000Z</td><td>2023-02-01T17:51:00.000Z</td><td>2</td><td>Climb</td><td>18342</td><td>688</td><td>701.1</td><td>54.1</td><td>1480.0</td><td>0.41</td><td>null</td><td>null</td><td>null</td><td>null</td></tr><tr><td>R100086</td><td>AC1011</td><td>2023-01-31T23:45:00.000Z</td><td>2023-01-03T14:21:00.000Z</td><td>1</td><td>Climb</td><td>20002</td><td>694</td><td>663.8</td><td>21.9</td><td>4677.1</td><td>0.86</td><td>null</td><td>null</td><td>null</td><td>null</td></tr><tr><td>R100277</td><td>AC1000</td><td>2023-03-08T08:56:00.000Z</td><td>2023-06-28T17:44:00.000Z</td><td>2</td><td>Climb</td><td>56291</td><td>331</td><td>487.9</td><td>34.6</td><td>4174.6</td><td>0.92</td><td>null</td><td>null</td><td>null</td><td>null</td></tr><tr><td>R100400</td><td>AC1022</td><td>2023-04-12T22:56:00.000Z</td><td>2023-06-15T05:09:00.000Z</td><td>1</td><td>Descent</td><td>58560</td><td>475</td><td>785.3</td><td>36.5</td><td>1300.7</td><td>0.38</td><td>null</td><td>null</td><td>null</td><td>null</td></tr><tr><td>R100554</td><td>AC1026</td><td>2023-01-19T14:11:00.000Z</td><td>2023-03-22T12:44:00.000Z</td><td>1</td><td>Climb</td><td>21867</td><td>631</td><td>785.0</td><td>92.1</td><td>2219.2</td><td>1.38</td><td>null</td><td>null</td><td>null</td><td>null</td></tr><tr><td>R100961</td><td>AC1071</td><td>2023-06-08T01:35:00.000Z</td><td>2023-05-19T11:07:00.000Z</td><td>2</td><td>Climb</td><td>11985</td><td>646</td><td>386.1</td><td>67.4</td><td>4926.0</td><td>1.45</td><td>null</td><td>null</td><td>null</td><td>null</td></tr><tr><td>R100712</td><td>AC1058</td><td>2023-04-04T16:22:00.000Z</td><td>2023-02-10T07:26:00.000Z</td><td>1</td><td>Cruise</td><td>53791</td><td>445</td><td>885.8</td><td>76.3</td><td>3540.8</td><td>0.35</td><td>null</td><td>null</td><td>null</td><td>null</td></tr><tr><td>R100717</td><td>AC1016</td><td>2023-04-15T08:30:00.000Z</td><td>2023-05-03T19:11:00.000Z</td><td>1</td><td>Climb</td><td>7143</td><td>638</td><td>629.3</td><td>28.1</td><td>3513.6</td><td>1.15</td><td>null</td><td>null</td><td>null</td><td>null</td></tr><tr><td>R100895</td><td>AC1069</td><td>2023-04-29T19:35:00.000Z</td><td>2023-04-06T20:48:00.000Z</td><td>2</td><td>Taxi</td><td>58338</td><td>469</td><td>443.6</td><td>29.6</td><td>5109.3</td><td>0.88</td><td>null</td><td>null</td><td>null</td><td>null</td></tr><tr><td>R100948</td><td>AC1025</td><td>2023-04-04T12:27:00.000Z</td><td>2023-02-01T11:10:00.000Z</td><td>1</td><td>Cruise</td><td>52334</td><td>169</td><td>749.2</td><td>73.5</td><td>4918.9</td><td>1.36</td><td>null</td><td>null</td><td>null</td><td>null</td></tr><tr><td>R100961</td><td>AC1016</td><td>2023-06-25T04:39:00.000Z</td><td>2023-04-29T04:50:00.000Z</td><td>2</td><td>Climb</td><td>13942</td><td>678</td><td>616.1</td><td>60.8</td><td>3254.9</td><td>1.04</td><td>null</td><td>null</td><td>null</td><td>null</td></tr><tr><td>R100038</td><td>AC1065</td><td>2023-03-22T22:24:00.000Z</td><td>2023-02-05T13:55:00.000Z</td><td>1</td><td>Takeoff</td><td>54639</td><td>430</td><td>834.0</td><td>82.6</td><td>2457.1</td><td>1.39</td><td>null</td><td>null</td><td>null</td><td>null</td></tr><tr><td>R100086</td><td>AC1021</td><td>2023-04-30T07:46:00.000Z</td><td>2023-02-01T17:51:00.000Z</td><td>2</td><td>Climb</td><td>18342</td><td>688</td><td>701.1</td><td>54.1</td><td>1480.0</td><td>0.41</td><td>null</td><td>null</td><td>null</td><td>null</td></tr><tr><td>R100086</td><td>AC1011</td><td>2023-01-31T23:45:00.000Z</td><td>2023-01-03T14:21:00.000Z</td><td>1</td><td>Climb</td><td>20002</td><td>694</td><td>663.8</td><td>21.9</td><td>4677.1</td><td>0.86</td><td>null</td><td>null</td><td>null</td><td>null</td></tr><tr><td>R100277</td><td>AC1000</td><td>2023-03-08T08:56:00.000Z</td><td>2023-06-28T17:44:00.000Z</td><td>2</td><td>Climb</td><td>56291</td><td>331</td><td>487.9</td><td>34.6</td><td>4174.6</td><td>0.92</td><td>null</td><td>null</td><td>null</td><td>null</td></tr><tr><td>R100400</td><td>AC1022</td><td>2023-04-12T22:56:00.000Z</td><td>2023-06-15T05:09:00.000Z</td><td>1</td><td>Descent</td><td>58560</td><td>475</td><td>785.3</td><td>36.5</td><td>1300.7</td><td>0.38</td><td>null</td><td>null</td><td>null</td><td>null</td></tr><tr><td>R100554</td><td>AC1026</td><td>2023-01-19T14:11:00.000Z</td><td>2023-03-22T12:44:00.000Z</td><td>1</td><td>Climb</td><td>21867</td><td>631</td><td>785.0</td><td>92.1</td><td>2219.2</td><td>1.38</td><td>null</td><td>null</td><td>null</td><td>null</td></tr><tr><td>R100961</td><td>AC1071</td><td>2023-06-08T01:35:00.000Z</td><td>2023-05-19T11:07:00.000Z</td><td>2</td><td>Climb</td><td>11985</td><td>646</td><td>386.1</td><td>67.4</td><td>4926.0</td><td>1.45</td><td>null</td><td>null</td><td>null</td><td>null</td></tr><tr><td>R100712</td><td>AC1058</td><td>2023-04-04T16:22:00.000Z</td><td>2023-02-10T07:26:00.000Z</td><td>1</td><td>Cruise</td><td>53791</td><td>445</td><td>885.8</td><td>76.3</td><td>3540.8</td><td>0.35</td><td>null</td><td>null</td><td>null</td><td>null</td></tr><tr><td>R100717</td><td>AC1016</td><td>2023-04-15T08:30:00.000Z</td><td>2023-05-03T19:11:00.000Z</td><td>1</td><td>Climb</td><td>7143</td><td>638</td><td>629.3</td><td>28.1</td><td>3513.6</td><td>1.15</td><td>null</td><td>null</td><td>null</td><td>null</td></tr><tr><td>R100895</td><td>AC1069</td><td>2023-04-29T19:35:00.000Z</td><td>2023-04-06T20:48:00.000Z</td><td>2</td><td>Taxi</td><td>58338</td><td>469</td><td>443.6</td><td>29.6</td><td>5109.3</td><td>0.88</td><td>null</td><td>null</td><td>null</td><td>null</td></tr><tr><td>R100948</td><td>AC1025</td><td>2023-04-04T12:27:00.000Z</td><td>2023-02-01T11:10:00.000Z</td><td>1</td><td>Cruise</td><td>52334</td><td>169</td><td>749.2</td><td>73.5</td><td>4918.9</td><td>1.36</td><td>null</td><td>null</td><td>null</td><td>null</td></tr><tr><td>R100961</td><td>AC1016</td><td>2023-06-25T04:39:00.000Z</td><td>2023-04-29T04:50:00.000Z</td><td>2</td><td>Climb</td><td>13942</td><td>678</td><td>616.1</td><td>60.8</td><td>3254.9</td><td>1.04</td><td>null</td><td>null</td><td>null</td><td>null</td></tr><tr><td>R100038</td><td>AC1065</td><td>2023-03-22T22:24:00.000Z</td><td>2023-02-05T13:55:00.000Z</td><td>1</td><td>Takeoff</td><td>54639</td><td>430</td><td>834.0</td><td>82.6</td><td>2457.1</td><td>1.39</td><td>null</td><td>null</td><td>null</td><td>null</td></tr><tr><td>R100086</td><td>AC1021</td><td>2023-04-30T07:46:00.000Z</td><td>2023-02-01T17:51:00.000Z</td><td>2</td><td>Climb</td><td>18342</td><td>688</td><td>701.1</td><td>54.1</td><td>1480.0</td><td>0.41</td><td>null</td><td>null</td><td>null</td><td>null</td></tr><tr><td>R100086</td><td>AC1011</td><td>2023-01-31T23:45:00.000Z</td><td>2023-01-03T14:21:00.000Z</td><td>1</td><td>Climb</td><td>20002</td><td>694</td><td>663.8</td><td>21.9</td><td>4677.1</td><td>0.86</td><td>null</td><td>null</td><td>null</td><td>null</td></tr><tr><td>R100277</td><td>AC1000</td><td>2023-03-08T08:56:00.000Z</td><td>2023-06-28T17:44:00.000Z</td><td>2</td><td>Climb</td><td>56291</td><td>331</td><td>487.9</td><td>34.6</td><td>4174.6</td><td>0.92</td><td>null</td><td>null</td><td>null</td><td>null</td></tr><tr><td>R100400</td><td>AC1022</td><td>2023-04-12T22:56:00.000Z</td><td>2023-06-15T05:09:00.000Z</td><td>1</td><td>Descent</td><td>58560</td><td>475</td><td>785.3</td><td>36.5</td><td>1300.7</td><td>0.38</td><td>null</td><td>null</td><td>null</td><td>null</td></tr><tr><td>R100554</td><td>AC1026</td><td>2023-01-19T14:11:00.000Z</td><td>2023-03-22T12:44:00.000Z</td><td>1</td><td>Climb</td><td>21867</td><td>631</td><td>785.0</td><td>92.1</td><td>2219.2</td><td>1.38</td><td>null</td><td>null</td><td>null</td><td>null</td></tr><tr><td>R100961</td><td>AC1071</td><td>2023-06-08T01:35:00.000Z</td><td>2023-05-19T11:07:00.000Z</td><td>2</td><td>Climb</td><td>11985</td><td>646</td><td>386.1</td><td>67.4</td><td>4926.0</td><td>1.45</td><td>null</td><td>null</td><td>null</td><td>null</td></tr><tr><td>R100712</td><td>AC1058</td><td>2023-04-04T16:22:00.000Z</td><td>2023-02-10T07:26:00.000Z</td><td>1</td><td>Cruise</td><td>53791</td><td>445</td><td>885.8</td><td>76.3</td><td>3540.8</td><td>0.35</td><td>null</td><td>null</td><td>null</td><td>null</td></tr><tr><td>R100717</td><td>AC1016</td><td>2023-04-15T08:30:00.000Z</td><td>2023-05-03T19:11:00.000Z</td><td>1</td><td>Climb</td><td>7143</td><td>638</td><td>629.3</td><td>28.1</td><td>3513.6</td><td>1.15</td><td>null</td><td>null</td><td>null</td><td>null</td></tr><tr><td>R100895</td><td>AC1069</td><td>2023-04-29T19:35:00.000Z</td><td>2023-04-06T20:48:00.000Z</td><td>2</td><td>Taxi</td><td>58338</td><td>469</td><td>443.6</td><td>29.6</td><td>5109.3</td><td>0.88</td><td>null</td><td>null</td><td>null</td><td>null</td></tr><tr><td>R100948</td><td>AC1025</td><td>2023-04-04T12:27:00.000Z</td><td>2023-02-01T11:10:00.000Z</td><td>1</td><td>Cruise</td><td>52334</td><td>169</td><td>749.2</td><td>73.5</td><td>4918.9</td><td>1.36</td><td>null</td><td>null</td><td>null</td><td>null</td></tr><tr><td>R100961</td><td>AC1016</td><td>2023-06-25T04:39:00.000Z</td><td>2023-04-29T04:50:00.000Z</td><td>2</td><td>Climb</td><td>13942</td><td>678</td><td>616.1</td><td>60.8</td><td>3254.9</td><td>1.04</td><td>null</td><td>null</td><td>null</td><td>null</td></tr><tr><td>R100038</td><td>AC1065</td><td>2023-03-22T22:24:00.000Z</td><td>2023-02-05T13:55:00.000Z</td><td>1</td><td>Takeoff</td><td>54639</td><td>430</td><td>834.0</td><td>82.6</td><td>2457.1</td><td>1.39</td><td>null</td><td>null</td><td>null</td><td>null</td></tr><tr><td>R100086</td><td>AC1021</td><td>2023-04-30T07:46:00.000Z</td><td>2023-02-01T17:51:00.000Z</td><td>2</td><td>Climb</td><td>18342</td><td>688</td><td>701.1</td><td>54.1</td><td>1480.0</td><td>0.41</td><td>null</td><td>null</td><td>null</td><td>null</td></tr><tr><td>R100086</td><td>AC1011</td><td>2023-01-31T23:45:00.000Z</td><td>2023-01-03T14:21:00.000Z</td><td>1</td><td>Climb</td><td>20002</td><td>694</td><td>663.8</td><td>21.9</td><td>4677.1</td><td>0.86</td><td>null</td><td>null</td><td>null</td><td>null</td></tr><tr><td>R100277</td><td>AC1000</td><td>2023-03-08T08:56:00.000Z</td><td>2023-06-28T17:44:00.000Z</td><td>2</td><td>Climb</td><td>56291</td><td>331</td><td>487.9</td><td>34.6</td><td>4174.6</td><td>0.92</td><td>null</td><td>null</td><td>null</td><td>null</td></tr><tr><td>R100400</td><td>AC1022</td><td>2023-04-12T22:56:00.000Z</td><td>2023-06-15T05:09:00.000Z</td><td>1</td><td>Descent</td><td>58560</td><td>475</td><td>785.3</td><td>36.5</td><td>1300.7</td><td>0.38</td><td>null</td><td>null</td><td>null</td><td>null</td></tr><tr><td>R100554</td><td>AC1026</td><td>2023-01-19T14:11:00.000Z</td><td>2023-03-22T12:44:00.000Z</td><td>1</td><td>Climb</td><td>21867</td><td>631</td><td>785.0</td><td>92.1</td><td>2219.2</td><td>1.38</td><td>null</td><td>null</td><td>null</td><td>null</td></tr><tr><td>R100961</td><td>AC1071</td><td>2023-06-08T01:35:00.000Z</td><td>2023-05-19T11:07:00.000Z</td><td>2</td><td>Climb</td><td>11985</td><td>646</td><td>386.1</td><td>67.4</td><td>4926.0</td><td>1.45</td><td>null</td><td>null</td><td>null</td><td>null</td></tr><tr><td>R100712</td><td>AC1058</td><td>2023-04-04T16:22:00.000Z</td><td>2023-02-10T07:26:00.000Z</td><td>1</td><td>Cruise</td><td>53791</td><td>445</td><td>885.8</td><td>76.3</td><td>3540.8</td><td>0.35</td><td>null</td><td>null</td><td>null</td><td>null</td></tr><tr><td>R100717</td><td>AC1016</td><td>2023-04-15T08:30:00.000Z</td><td>2023-05-03T19:11:00.000Z</td><td>1</td><td>Climb</td><td>7143</td><td>638</td><td>629.3</td><td>28.1</td><td>3513.6</td><td>1.15</td><td>null</td><td>null</td><td>null</td><td>null</td></tr><tr><td>R100895</td><td>AC1069</td><td>2023-04-29T19:35:00.000Z</td><td>2023-04-06T20:48:00.000Z</td><td>2</td><td>Taxi</td><td>58338</td><td>469</td><td>443.6</td><td>29.6</td><td>5109.3</td><td>0.88</td><td>null</td><td>null</td><td>null</td><td>null</td></tr><tr><td>R100948</td><td>AC1025</td><td>2023-04-04T12:27:00.000Z</td><td>2023-02-01T11:10:00.000Z</td><td>1</td><td>Cruise</td><td>52334</td><td>169</td><td>749.2</td><td>73.5</td><td>4918.9</td><td>1.36</td><td>null</td><td>null</td><td>null</td><td>null</td></tr><tr><td>R100961</td><td>AC1016</td><td>2023-06-25T04:39:00.000Z</td><td>2023-04-29T04:50:00.000Z</td><td>2</td><td>Climb</td><td>13942</td><td>678</td><td>616.1</td><td>60.8</td><td>3254.9</td><td>1.04</td><td>null</td><td>null</td><td>null</td><td>null</td></tr><tr><td>R100038</td><td>AC1065</td><td>2023-03-22T22:24:00.000Z</td><td>2023-02-05T13:55:00.000Z</td><td>1</td><td>Takeoff</td><td>54639</td><td>430</td><td>834.0</td><td>82.6</td><td>2457.1</td><td>1.39</td><td>null</td><td>null</td><td>null</td><td>null</td></tr><tr><td>R100086</td><td>AC1021</td><td>2023-04-30T07:46:00.000Z</td><td>2023-02-01T17:51:00.000Z</td><td>2</td><td>Climb</td><td>18342</td><td>688</td><td>701.1</td><td>54.1</td><td>1480.0</td><td>0.41</td><td>null</td><td>null</td><td>null</td><td>null</td></tr><tr><td>R100086</td><td>AC1011</td><td>2023-01-31T23:45:00.000Z</td><td>2023-01-03T14:21:00.000Z</td><td>1</td><td>Climb</td><td>20002</td><td>694</td><td>663.8</td><td>21.9</td><td>4677.1</td><td>0.86</td><td>null</td><td>null</td><td>null</td><td>null</td></tr><tr><td>R100277</td><td>AC1000</td><td>2023-03-08T08:56:00.000Z</td><td>2023-06-28T17:44:00.000Z</td><td>2</td><td>Climb</td><td>56291</td><td>331</td><td>487.9</td><td>34.6</td><td>4174.6</td><td>0.92</td><td>null</td><td>null</td><td>null</td><td>null</td></tr><tr><td>R100400</td><td>AC1022</td><td>2023-04-12T22:56:00.000Z</td><td>2023-06-15T05:09:00.000Z</td><td>1</td><td>Descent</td><td>58560</td><td>475</td><td>785.3</td><td>36.5</td><td>1300.7</td><td>0.38</td><td>null</td><td>null</td><td>null</td><td>null</td></tr><tr><td>R100554</td><td>AC1026</td><td>2023-01-19T14:11:00.000Z</td><td>2023-03-22T12:44:00.000Z</td><td>1</td><td>Climb</td><td>21867</td><td>631</td><td>785.0</td><td>92.1</td><td>2219.2</td><td>1.38</td><td>null</td><td>null</td><td>null</td><td>null</td></tr><tr><td>R100961</td><td>AC1071</td><td>2023-06-08T01:35:00.000Z</td><td>2023-05-19T11:07:00.000Z</td><td>2</td><td>Climb</td><td>11985</td><td>646</td><td>386.1</td><td>67.4</td><td>4926.0</td><td>1.45</td><td>null</td><td>null</td><td>null</td><td>null</td></tr><tr><td>R100712</td><td>AC1058</td><td>2023-04-04T16:22:00.000Z</td><td>2023-02-10T07:26:00.000Z</td><td>1</td><td>Cruise</td><td>53791</td><td>445</td><td>885.8</td><td>76.3</td><td>3540.8</td><td>0.35</td><td>null</td><td>null</td><td>null</td><td>null</td></tr><tr><td>R100717</td><td>AC1016</td><td>2023-04-15T08:30:00.000Z</td><td>2023-05-03T19:11:00.000Z</td><td>1</td><td>Climb</td><td>7143</td><td>638</td><td>629.3</td><td>28.1</td><td>3513.6</td><td>1.15</td><td>null</td><td>null</td><td>null</td><td>null</td></tr><tr><td>R100895</td><td>AC1069</td><td>2023-04-29T19:35:00.000Z</td><td>2023-04-06T20:48:00.000Z</td><td>2</td><td>Taxi</td><td>58338</td><td>469</td><td>443.6</td><td>29.6</td><td>5109.3</td><td>0.88</td><td>null</td><td>null</td><td>null</td><td>null</td></tr><tr><td>R100948</td><td>AC1025</td><td>2023-04-04T12:27:00.000Z</td><td>2023-02-01T11:10:00.000Z</td><td>1</td><td>Cruise</td><td>52334</td><td>169</td><td>749.2</td><td>73.5</td><td>4918.9</td><td>1.36</td><td>null</td><td>null</td><td>null</td><td>null</td></tr><tr><td>R100961</td><td>AC1016</td><td>2023-06-25T04:39:00.000Z</td><td>2023-04-29T04:50:00.000Z</td><td>2</td><td>Climb</td><td>13942</td><td>678</td><td>616.1</td><td>60.8</td><td>3254.9</td><td>1.04</td><td>null</td><td>null</td><td>null</td><td>null</td></tr><tr><td>R100038</td><td>AC1065</td><td>2023-03-22T22:24:00.000Z</td><td>2023-02-05T13:55:00.000Z</td><td>1</td><td>Takeoff</td><td>54639</td><td>430</td><td>834.0</td><td>82.6</td><td>2457.1</td><td>1.39</td><td>null</td><td>null</td><td>null</td><td>null</td></tr><tr><td>R100086</td><td>AC1021</td><td>2023-04-30T07:46:00.000Z</td><td>2023-02-01T17:51:00.000Z</td><td>2</td><td>Climb</td><td>18342</td><td>688</td><td>701.1</td><td>54.1</td><td>1480.0</td><td>0.41</td><td>null</td><td>null</td><td>null</td><td>null</td></tr><tr><td>R100086</td><td>AC1011</td><td>2023-01-31T23:45:00.000Z</td><td>2023-01-03T14:21:00.000Z</td><td>1</td><td>Climb</td><td>20002</td><td>694</td><td>663.8</td><td>21.9</td><td>4677.1</td><td>0.86</td><td>null</td><td>null</td><td>null</td><td>null</td></tr><tr><td>R100277</td><td>AC1000</td><td>2023-03-08T08:56:00.000Z</td><td>2023-06-28T17:44:00.000Z</td><td>2</td><td>Climb</td><td>56291</td><td>331</td><td>487.9</td><td>34.6</td><td>4174.6</td><td>0.92</td><td>null</td><td>null</td><td>null</td><td>null</td></tr><tr><td>R100400</td><td>AC1022</td><td>2023-04-12T22:56:00.000Z</td><td>2023-06-15T05:09:00.000Z</td><td>1</td><td>Descent</td><td>58560</td><td>475</td><td>785.3</td><td>36.5</td><td>1300.7</td><td>0.38</td><td>null</td><td>null</td><td>null</td><td>null</td></tr><tr><td>R100554</td><td>AC1026</td><td>2023-01-19T14:11:00.000Z</td><td>2023-03-22T12:44:00.000Z</td><td>1</td><td>Climb</td><td>21867</td><td>631</td><td>785.0</td><td>92.1</td><td>2219.2</td><td>1.38</td><td>null</td><td>null</td><td>null</td><td>null</td></tr><tr><td>R100961</td><td>AC1071</td><td>2023-06-08T01:35:00.000Z</td><td>2023-05-19T11:07:00.000Z</td><td>2</td><td>Climb</td><td>11985</td><td>646</td><td>386.1</td><td>67.4</td><td>4926.0</td><td>1.45</td><td>null</td><td>null</td><td>null</td><td>null</td></tr><tr><td>R100712</td><td>AC1058</td><td>2023-04-04T16:22:00.000Z</td><td>2023-02-10T07:26:00.000Z</td><td>1</td><td>Cruise</td><td>53791</td><td>445</td><td>885.8</td><td>76.3</td><td>3540.8</td><td>0.35</td><td>null</td><td>null</td><td>null</td><td>null</td></tr><tr><td>R100717</td><td>AC1016</td><td>2023-04-15T08:30:00.000Z</td><td>2023-05-03T19:11:00.000Z</td><td>1</td><td>Climb</td><td>7143</td><td>638</td><td>629.3</td><td>28.1</td><td>3513.6</td><td>1.15</td><td>null</td><td>null</td><td>null</td><td>null</td></tr><tr><td>R100895</td><td>AC1069</td><td>2023-04-29T19:35:00.000Z</td><td>2023-04-06T20:48:00.000Z</td><td>2</td><td>Taxi</td><td>58338</td><td>469</td><td>443.6</td><td>29.6</td><td>5109.3</td><td>0.88</td><td>null</td><td>null</td><td>null</td><td>null</td></tr><tr><td>R100948</td><td>AC1025</td><td>2023-04-04T12:27:00.000Z</td><td>2023-02-01T11:10:00.000Z</td><td>1</td><td>Cruise</td><td>52334</td><td>169</td><td>749.2</td><td>73.5</td><td>4918.9</td><td>1.36</td><td>null</td><td>null</td><td>null</td><td>null</td></tr><tr><td>R100961</td><td>AC1016</td><td>2023-06-25T04:39:00.000Z</td><td>2023-04-29T04:50:00.000Z</td><td>2</td><td>Climb</td><td>13942</td><td>678</td><td>616.1</td><td>60.8</td><td>3254.9</td><td>1.04</td><td>null</td><td>null</td><td>null</td><td>null</td></tr><tr><td>R0001</td><td>AC1000</td><td>2023-10-01T10:00:00.000Z</td><td>2023-10-01T10:00:00.000Z</td><td>1</td><td>CLIMB</td><td>15000</td><td>280</td><td>650.5</td><td>87.3</td><td>2200.0</td><td>0.8</td><td>null</td><td>null</td><td>null</td><td>null</td></tr><tr><td>R0001</td><td>AC1000</td><td>2023-10-01T10:01:00.000Z</td><td>2023-10-01T10:01:00.000Z</td><td>1</td><td>CLIMB</td><td>16000</td><td>290</td><td>660.1</td><td>88.0</td><td>2300.0</td><td>0.7</td><td>null</td><td>null</td><td>null</td><td>null</td></tr><tr><td>null</td><td>AC2001</td><td>2023-11-05T12:00:00.000Z</td><td>2023-11-05T12:00:00.000Z</td><td>2</td><td>CRUISE</td><td>35000</td><td>450</td><td>720.0</td><td>90.0</td><td>2600.0</td><td>0.6</td><td>null</td><td>null</td><td>null</td><td>null</td></tr><tr><td>   </td><td>AC2002</td><td>2023-11-05T12:05:00.000Z</td><td>2023-11-05T12:05:00.000Z</td><td>2</td><td>CRUISE</td><td>36000</td><td>440</td><td>710.0</td><td>89.5</td><td>2550.0</td><td>0.5</td><td>null</td><td>null</td><td>null</td><td>null</td></tr><tr><td>R0002</td><td>AC2003</td><td>2023-11-06T08:00:00.000Z</td><td>2023-11-06T08:00:00.000Z</td><td>1</td><td>CRUISE</td><td>60000</td><td>420</td><td>700.0</td><td>88.0</td><td>2400.0</td><td>0.4</td><td>null</td><td>null</td><td>null</td><td>null</td></tr><tr><td>R0003</td><td>AC2004</td><td>2023-11-06T08:05:00.000Z</td><td>2023-11-06T08:05:00.000Z</td><td>1</td><td>CRUISE</td><td>38000</td><td>-10</td><td>690.0</td><td>87.0</td><td>2350.0</td><td>0.3</td><td>null</td><td>null</td><td>null</td><td>null</td></tr><tr><td>R0004</td><td>AC2005</td><td>2023-11-06T08:10:00.000Z</td><td>2023-11-06T08:10:00.000Z</td><td>1</td><td>CRUISE</td><td>39000</td><td>430</td><td>1500.0</td><td>92.0</td><td>2700.0</td><td>0.9</td><td>null</td><td>null</td><td>null</td><td>null</td></tr><tr><td>R0005</td><td>AC2006</td><td>2023-11-06T08:15:00.000Z</td><td>2023-11-06T08:15:00.000Z</td><td>2</td><td>CRUISE</td><td>37000</td><td>440</td><td>680.0</td><td>85.0</td><td>-100.0</td><td>0.2</td><td>null</td><td>null</td><td>null</td><td>null</td></tr><tr><td>R0006</td><td>AC2006</td><td>2023-11-06T08:20:00.000Z</td><td>2023-11-06T08:20:00.000Z</td><td>2</td><td>DESCENT</td><td>25000</td><td>320</td><td>600.0</td><td>70.0</td><td>1800.0</td><td>5.5</td><td>null</td><td>null</td><td>null</td><td>null</td></tr></tbody></table></div>"
      ]
     },
     "metadata": {
      "application/vnd.databricks.v1+output": {
       "addedWidgets": {},
       "aggData": [],
       "aggError": "",
       "aggOverflow": false,
       "aggSchema": [],
       "aggSeriesLimitReached": false,
       "aggType": "",
       "arguments": {},
       "columnCustomDisplayInfos": {},
       "data": [
        [
         "R100038",
         "AC1065",
         "2023-03-22T22:24:00.000Z",
         "2023-02-05T13:55:00.000Z",
         1,
         "Takeoff",
         54639,
         430,
         834.0,
         82.6,
         2457.1,
         1.39,
         null,
         null,
         null,
         null
        ],
        [
         "R100086",
         "AC1021",
         "2023-04-30T07:46:00.000Z",
         "2023-02-01T17:51:00.000Z",
         2,
         "Climb",
         18342,
         688,
         701.1,
         54.1,
         1480.0,
         0.41,
         null,
         null,
         null,
         null
        ],
        [
         "R100086",
         "AC1011",
         "2023-01-31T23:45:00.000Z",
         "2023-01-03T14:21:00.000Z",
         1,
         "Climb",
         20002,
         694,
         663.8,
         21.9,
         4677.1,
         0.86,
         null,
         null,
         null,
         null
        ],
        [
         "R100277",
         "AC1000",
         "2023-03-08T08:56:00.000Z",
         "2023-06-28T17:44:00.000Z",
         2,
         "Climb",
         56291,
         331,
         487.9,
         34.6,
         4174.6,
         0.92,
         null,
         null,
         null,
         null
        ],
        [
         "R100400",
         "AC1022",
         "2023-04-12T22:56:00.000Z",
         "2023-06-15T05:09:00.000Z",
         1,
         "Descent",
         58560,
         475,
         785.3,
         36.5,
         1300.7,
         0.38,
         null,
         null,
         null,
         null
        ],
        [
         "R100554",
         "AC1026",
         "2023-01-19T14:11:00.000Z",
         "2023-03-22T12:44:00.000Z",
         1,
         "Climb",
         21867,
         631,
         785.0,
         92.1,
         2219.2,
         1.38,
         null,
         null,
         null,
         null
        ],
        [
         "R100961",
         "AC1071",
         "2023-06-08T01:35:00.000Z",
         "2023-05-19T11:07:00.000Z",
         2,
         "Climb",
         11985,
         646,
         386.1,
         67.4,
         4926.0,
         1.45,
         null,
         null,
         null,
         null
        ],
        [
         "R100712",
         "AC1058",
         "2023-04-04T16:22:00.000Z",
         "2023-02-10T07:26:00.000Z",
         1,
         "Cruise",
         53791,
         445,
         885.8,
         76.3,
         3540.8,
         0.35,
         null,
         null,
         null,
         null
        ],
        [
         "R100717",
         "AC1016",
         "2023-04-15T08:30:00.000Z",
         "2023-05-03T19:11:00.000Z",
         1,
         "Climb",
         7143,
         638,
         629.3,
         28.1,
         3513.6,
         1.15,
         null,
         null,
         null,
         null
        ],
        [
         "R100895",
         "AC1069",
         "2023-04-29T19:35:00.000Z",
         "2023-04-06T20:48:00.000Z",
         2,
         "Taxi",
         58338,
         469,
         443.6,
         29.6,
         5109.3,
         0.88,
         null,
         null,
         null,
         null
        ],
        [
         "R100948",
         "AC1025",
         "2023-04-04T12:27:00.000Z",
         "2023-02-01T11:10:00.000Z",
         1,
         "Cruise",
         52334,
         169,
         749.2,
         73.5,
         4918.9,
         1.36,
         null,
         null,
         null,
         null
        ],
        [
         "R100961",
         "AC1016",
         "2023-06-25T04:39:00.000Z",
         "2023-04-29T04:50:00.000Z",
         2,
         "Climb",
         13942,
         678,
         616.1,
         60.8,
         3254.9,
         1.04,
         null,
         null,
         null,
         null
        ],
        [
         "R100038",
         "AC1065",
         "2023-03-22T22:24:00.000Z",
         "2023-02-05T13:55:00.000Z",
         1,
         "Takeoff",
         54639,
         430,
         834.0,
         82.6,
         2457.1,
         1.39,
         null,
         null,
         null,
         null
        ],
        [
         "R100086",
         "AC1021",
         "2023-04-30T07:46:00.000Z",
         "2023-02-01T17:51:00.000Z",
         2,
         "Climb",
         18342,
         688,
         701.1,
         54.1,
         1480.0,
         0.41,
         null,
         null,
         null,
         null
        ],
        [
         "R100086",
         "AC1011",
         "2023-01-31T23:45:00.000Z",
         "2023-01-03T14:21:00.000Z",
         1,
         "Climb",
         20002,
         694,
         663.8,
         21.9,
         4677.1,
         0.86,
         null,
         null,
         null,
         null
        ],
        [
         "R100277",
         "AC1000",
         "2023-03-08T08:56:00.000Z",
         "2023-06-28T17:44:00.000Z",
         2,
         "Climb",
         56291,
         331,
         487.9,
         34.6,
         4174.6,
         0.92,
         null,
         null,
         null,
         null
        ],
        [
         "R100400",
         "AC1022",
         "2023-04-12T22:56:00.000Z",
         "2023-06-15T05:09:00.000Z",
         1,
         "Descent",
         58560,
         475,
         785.3,
         36.5,
         1300.7,
         0.38,
         null,
         null,
         null,
         null
        ],
        [
         "R100554",
         "AC1026",
         "2023-01-19T14:11:00.000Z",
         "2023-03-22T12:44:00.000Z",
         1,
         "Climb",
         21867,
         631,
         785.0,
         92.1,
         2219.2,
         1.38,
         null,
         null,
         null,
         null
        ],
        [
         "R100961",
         "AC1071",
         "2023-06-08T01:35:00.000Z",
         "2023-05-19T11:07:00.000Z",
         2,
         "Climb",
         11985,
         646,
         386.1,
         67.4,
         4926.0,
         1.45,
         null,
         null,
         null,
         null
        ],
        [
         "R100712",
         "AC1058",
         "2023-04-04T16:22:00.000Z",
         "2023-02-10T07:26:00.000Z",
         1,
         "Cruise",
         53791,
         445,
         885.8,
         76.3,
         3540.8,
         0.35,
         null,
         null,
         null,
         null
        ],
        [
         "R100717",
         "AC1016",
         "2023-04-15T08:30:00.000Z",
         "2023-05-03T19:11:00.000Z",
         1,
         "Climb",
         7143,
         638,
         629.3,
         28.1,
         3513.6,
         1.15,
         null,
         null,
         null,
         null
        ],
        [
         "R100895",
         "AC1069",
         "2023-04-29T19:35:00.000Z",
         "2023-04-06T20:48:00.000Z",
         2,
         "Taxi",
         58338,
         469,
         443.6,
         29.6,
         5109.3,
         0.88,
         null,
         null,
         null,
         null
        ],
        [
         "R100948",
         "AC1025",
         "2023-04-04T12:27:00.000Z",
         "2023-02-01T11:10:00.000Z",
         1,
         "Cruise",
         52334,
         169,
         749.2,
         73.5,
         4918.9,
         1.36,
         null,
         null,
         null,
         null
        ],
        [
         "R100961",
         "AC1016",
         "2023-06-25T04:39:00.000Z",
         "2023-04-29T04:50:00.000Z",
         2,
         "Climb",
         13942,
         678,
         616.1,
         60.8,
         3254.9,
         1.04,
         null,
         null,
         null,
         null
        ],
        [
         "R100038",
         "AC1065",
         "2023-03-22T22:24:00.000Z",
         "2023-02-05T13:55:00.000Z",
         1,
         "Takeoff",
         54639,
         430,
         834.0,
         82.6,
         2457.1,
         1.39,
         null,
         null,
         null,
         null
        ],
        [
         "R100086",
         "AC1021",
         "2023-04-30T07:46:00.000Z",
         "2023-02-01T17:51:00.000Z",
         2,
         "Climb",
         18342,
         688,
         701.1,
         54.1,
         1480.0,
         0.41,
         null,
         null,
         null,
         null
        ],
        [
         "R100086",
         "AC1011",
         "2023-01-31T23:45:00.000Z",
         "2023-01-03T14:21:00.000Z",
         1,
         "Climb",
         20002,
         694,
         663.8,
         21.9,
         4677.1,
         0.86,
         null,
         null,
         null,
         null
        ],
        [
         "R100277",
         "AC1000",
         "2023-03-08T08:56:00.000Z",
         "2023-06-28T17:44:00.000Z",
         2,
         "Climb",
         56291,
         331,
         487.9,
         34.6,
         4174.6,
         0.92,
         null,
         null,
         null,
         null
        ],
        [
         "R100400",
         "AC1022",
         "2023-04-12T22:56:00.000Z",
         "2023-06-15T05:09:00.000Z",
         1,
         "Descent",
         58560,
         475,
         785.3,
         36.5,
         1300.7,
         0.38,
         null,
         null,
         null,
         null
        ],
        [
         "R100554",
         "AC1026",
         "2023-01-19T14:11:00.000Z",
         "2023-03-22T12:44:00.000Z",
         1,
         "Climb",
         21867,
         631,
         785.0,
         92.1,
         2219.2,
         1.38,
         null,
         null,
         null,
         null
        ],
        [
         "R100961",
         "AC1071",
         "2023-06-08T01:35:00.000Z",
         "2023-05-19T11:07:00.000Z",
         2,
         "Climb",
         11985,
         646,
         386.1,
         67.4,
         4926.0,
         1.45,
         null,
         null,
         null,
         null
        ],
        [
         "R100712",
         "AC1058",
         "2023-04-04T16:22:00.000Z",
         "2023-02-10T07:26:00.000Z",
         1,
         "Cruise",
         53791,
         445,
         885.8,
         76.3,
         3540.8,
         0.35,
         null,
         null,
         null,
         null
        ],
        [
         "R100717",
         "AC1016",
         "2023-04-15T08:30:00.000Z",
         "2023-05-03T19:11:00.000Z",
         1,
         "Climb",
         7143,
         638,
         629.3,
         28.1,
         3513.6,
         1.15,
         null,
         null,
         null,
         null
        ],
        [
         "R100895",
         "AC1069",
         "2023-04-29T19:35:00.000Z",
         "2023-04-06T20:48:00.000Z",
         2,
         "Taxi",
         58338,
         469,
         443.6,
         29.6,
         5109.3,
         0.88,
         null,
         null,
         null,
         null
        ],
        [
         "R100948",
         "AC1025",
         "2023-04-04T12:27:00.000Z",
         "2023-02-01T11:10:00.000Z",
         1,
         "Cruise",
         52334,
         169,
         749.2,
         73.5,
         4918.9,
         1.36,
         null,
         null,
         null,
         null
        ],
        [
         "R100961",
         "AC1016",
         "2023-06-25T04:39:00.000Z",
         "2023-04-29T04:50:00.000Z",
         2,
         "Climb",
         13942,
         678,
         616.1,
         60.8,
         3254.9,
         1.04,
         null,
         null,
         null,
         null
        ],
        [
         "R100038",
         "AC1065",
         "2023-03-22T22:24:00.000Z",
         "2023-02-05T13:55:00.000Z",
         1,
         "Takeoff",
         54639,
         430,
         834.0,
         82.6,
         2457.1,
         1.39,
         null,
         null,
         null,
         null
        ],
        [
         "R100086",
         "AC1021",
         "2023-04-30T07:46:00.000Z",
         "2023-02-01T17:51:00.000Z",
         2,
         "Climb",
         18342,
         688,
         701.1,
         54.1,
         1480.0,
         0.41,
         null,
         null,
         null,
         null
        ],
        [
         "R100086",
         "AC1011",
         "2023-01-31T23:45:00.000Z",
         "2023-01-03T14:21:00.000Z",
         1,
         "Climb",
         20002,
         694,
         663.8,
         21.9,
         4677.1,
         0.86,
         null,
         null,
         null,
         null
        ],
        [
         "R100277",
         "AC1000",
         "2023-03-08T08:56:00.000Z",
         "2023-06-28T17:44:00.000Z",
         2,
         "Climb",
         56291,
         331,
         487.9,
         34.6,
         4174.6,
         0.92,
         null,
         null,
         null,
         null
        ],
        [
         "R100400",
         "AC1022",
         "2023-04-12T22:56:00.000Z",
         "2023-06-15T05:09:00.000Z",
         1,
         "Descent",
         58560,
         475,
         785.3,
         36.5,
         1300.7,
         0.38,
         null,
         null,
         null,
         null
        ],
        [
         "R100554",
         "AC1026",
         "2023-01-19T14:11:00.000Z",
         "2023-03-22T12:44:00.000Z",
         1,
         "Climb",
         21867,
         631,
         785.0,
         92.1,
         2219.2,
         1.38,
         null,
         null,
         null,
         null
        ],
        [
         "R100961",
         "AC1071",
         "2023-06-08T01:35:00.000Z",
         "2023-05-19T11:07:00.000Z",
         2,
         "Climb",
         11985,
         646,
         386.1,
         67.4,
         4926.0,
         1.45,
         null,
         null,
         null,
         null
        ],
        [
         "R100712",
         "AC1058",
         "2023-04-04T16:22:00.000Z",
         "2023-02-10T07:26:00.000Z",
         1,
         "Cruise",
         53791,
         445,
         885.8,
         76.3,
         3540.8,
         0.35,
         null,
         null,
         null,
         null
        ],
        [
         "R100717",
         "AC1016",
         "2023-04-15T08:30:00.000Z",
         "2023-05-03T19:11:00.000Z",
         1,
         "Climb",
         7143,
         638,
         629.3,
         28.1,
         3513.6,
         1.15,
         null,
         null,
         null,
         null
        ],
        [
         "R100895",
         "AC1069",
         "2023-04-29T19:35:00.000Z",
         "2023-04-06T20:48:00.000Z",
         2,
         "Taxi",
         58338,
         469,
         443.6,
         29.6,
         5109.3,
         0.88,
         null,
         null,
         null,
         null
        ],
        [
         "R100948",
         "AC1025",
         "2023-04-04T12:27:00.000Z",
         "2023-02-01T11:10:00.000Z",
         1,
         "Cruise",
         52334,
         169,
         749.2,
         73.5,
         4918.9,
         1.36,
         null,
         null,
         null,
         null
        ],
        [
         "R100961",
         "AC1016",
         "2023-06-25T04:39:00.000Z",
         "2023-04-29T04:50:00.000Z",
         2,
         "Climb",
         13942,
         678,
         616.1,
         60.8,
         3254.9,
         1.04,
         null,
         null,
         null,
         null
        ],
        [
         "R100038",
         "AC1065",
         "2023-03-22T22:24:00.000Z",
         "2023-02-05T13:55:00.000Z",
         1,
         "Takeoff",
         54639,
         430,
         834.0,
         82.6,
         2457.1,
         1.39,
         null,
         null,
         null,
         null
        ],
        [
         "R100086",
         "AC1021",
         "2023-04-30T07:46:00.000Z",
         "2023-02-01T17:51:00.000Z",
         2,
         "Climb",
         18342,
         688,
         701.1,
         54.1,
         1480.0,
         0.41,
         null,
         null,
         null,
         null
        ],
        [
         "R100086",
         "AC1011",
         "2023-01-31T23:45:00.000Z",
         "2023-01-03T14:21:00.000Z",
         1,
         "Climb",
         20002,
         694,
         663.8,
         21.9,
         4677.1,
         0.86,
         null,
         null,
         null,
         null
        ],
        [
         "R100277",
         "AC1000",
         "2023-03-08T08:56:00.000Z",
         "2023-06-28T17:44:00.000Z",
         2,
         "Climb",
         56291,
         331,
         487.9,
         34.6,
         4174.6,
         0.92,
         null,
         null,
         null,
         null
        ],
        [
         "R100400",
         "AC1022",
         "2023-04-12T22:56:00.000Z",
         "2023-06-15T05:09:00.000Z",
         1,
         "Descent",
         58560,
         475,
         785.3,
         36.5,
         1300.7,
         0.38,
         null,
         null,
         null,
         null
        ],
        [
         "R100554",
         "AC1026",
         "2023-01-19T14:11:00.000Z",
         "2023-03-22T12:44:00.000Z",
         1,
         "Climb",
         21867,
         631,
         785.0,
         92.1,
         2219.2,
         1.38,
         null,
         null,
         null,
         null
        ],
        [
         "R100961",
         "AC1071",
         "2023-06-08T01:35:00.000Z",
         "2023-05-19T11:07:00.000Z",
         2,
         "Climb",
         11985,
         646,
         386.1,
         67.4,
         4926.0,
         1.45,
         null,
         null,
         null,
         null
        ],
        [
         "R100712",
         "AC1058",
         "2023-04-04T16:22:00.000Z",
         "2023-02-10T07:26:00.000Z",
         1,
         "Cruise",
         53791,
         445,
         885.8,
         76.3,
         3540.8,
         0.35,
         null,
         null,
         null,
         null
        ],
        [
         "R100717",
         "AC1016",
         "2023-04-15T08:30:00.000Z",
         "2023-05-03T19:11:00.000Z",
         1,
         "Climb",
         7143,
         638,
         629.3,
         28.1,
         3513.6,
         1.15,
         null,
         null,
         null,
         null
        ],
        [
         "R100895",
         "AC1069",
         "2023-04-29T19:35:00.000Z",
         "2023-04-06T20:48:00.000Z",
         2,
         "Taxi",
         58338,
         469,
         443.6,
         29.6,
         5109.3,
         0.88,
         null,
         null,
         null,
         null
        ],
        [
         "R100948",
         "AC1025",
         "2023-04-04T12:27:00.000Z",
         "2023-02-01T11:10:00.000Z",
         1,
         "Cruise",
         52334,
         169,
         749.2,
         73.5,
         4918.9,
         1.36,
         null,
         null,
         null,
         null
        ],
        [
         "R100961",
         "AC1016",
         "2023-06-25T04:39:00.000Z",
         "2023-04-29T04:50:00.000Z",
         2,
         "Climb",
         13942,
         678,
         616.1,
         60.8,
         3254.9,
         1.04,
         null,
         null,
         null,
         null
        ],
        [
         "R100038",
         "AC1065",
         "2023-03-22T22:24:00.000Z",
         "2023-02-05T13:55:00.000Z",
         1,
         "Takeoff",
         54639,
         430,
         834.0,
         82.6,
         2457.1,
         1.39,
         null,
         null,
         null,
         null
        ],
        [
         "R100086",
         "AC1021",
         "2023-04-30T07:46:00.000Z",
         "2023-02-01T17:51:00.000Z",
         2,
         "Climb",
         18342,
         688,
         701.1,
         54.1,
         1480.0,
         0.41,
         null,
         null,
         null,
         null
        ],
        [
         "R100086",
         "AC1011",
         "2023-01-31T23:45:00.000Z",
         "2023-01-03T14:21:00.000Z",
         1,
         "Climb",
         20002,
         694,
         663.8,
         21.9,
         4677.1,
         0.86,
         null,
         null,
         null,
         null
        ],
        [
         "R100277",
         "AC1000",
         "2023-03-08T08:56:00.000Z",
         "2023-06-28T17:44:00.000Z",
         2,
         "Climb",
         56291,
         331,
         487.9,
         34.6,
         4174.6,
         0.92,
         null,
         null,
         null,
         null
        ],
        [
         "R100400",
         "AC1022",
         "2023-04-12T22:56:00.000Z",
         "2023-06-15T05:09:00.000Z",
         1,
         "Descent",
         58560,
         475,
         785.3,
         36.5,
         1300.7,
         0.38,
         null,
         null,
         null,
         null
        ],
        [
         "R100554",
         "AC1026",
         "2023-01-19T14:11:00.000Z",
         "2023-03-22T12:44:00.000Z",
         1,
         "Climb",
         21867,
         631,
         785.0,
         92.1,
         2219.2,
         1.38,
         null,
         null,
         null,
         null
        ],
        [
         "R100961",
         "AC1071",
         "2023-06-08T01:35:00.000Z",
         "2023-05-19T11:07:00.000Z",
         2,
         "Climb",
         11985,
         646,
         386.1,
         67.4,
         4926.0,
         1.45,
         null,
         null,
         null,
         null
        ],
        [
         "R100712",
         "AC1058",
         "2023-04-04T16:22:00.000Z",
         "2023-02-10T07:26:00.000Z",
         1,
         "Cruise",
         53791,
         445,
         885.8,
         76.3,
         3540.8,
         0.35,
         null,
         null,
         null,
         null
        ],
        [
         "R100717",
         "AC1016",
         "2023-04-15T08:30:00.000Z",
         "2023-05-03T19:11:00.000Z",
         1,
         "Climb",
         7143,
         638,
         629.3,
         28.1,
         3513.6,
         1.15,
         null,
         null,
         null,
         null
        ],
        [
         "R100895",
         "AC1069",
         "2023-04-29T19:35:00.000Z",
         "2023-04-06T20:48:00.000Z",
         2,
         "Taxi",
         58338,
         469,
         443.6,
         29.6,
         5109.3,
         0.88,
         null,
         null,
         null,
         null
        ],
        [
         "R100948",
         "AC1025",
         "2023-04-04T12:27:00.000Z",
         "2023-02-01T11:10:00.000Z",
         1,
         "Cruise",
         52334,
         169,
         749.2,
         73.5,
         4918.9,
         1.36,
         null,
         null,
         null,
         null
        ],
        [
         "R100961",
         "AC1016",
         "2023-06-25T04:39:00.000Z",
         "2023-04-29T04:50:00.000Z",
         2,
         "Climb",
         13942,
         678,
         616.1,
         60.8,
         3254.9,
         1.04,
         null,
         null,
         null,
         null
        ],
        [
         "R0001",
         "AC1000",
         "2023-10-01T10:00:00.000Z",
         "2023-10-01T10:00:00.000Z",
         1,
         "CLIMB",
         15000,
         280,
         650.5,
         87.3,
         2200.0,
         0.8,
         null,
         null,
         null,
         null
        ],
        [
         "R0001",
         "AC1000",
         "2023-10-01T10:01:00.000Z",
         "2023-10-01T10:01:00.000Z",
         1,
         "CLIMB",
         16000,
         290,
         660.1,
         88.0,
         2300.0,
         0.7,
         null,
         null,
         null,
         null
        ],
        [
         null,
         "AC2001",
         "2023-11-05T12:00:00.000Z",
         "2023-11-05T12:00:00.000Z",
         2,
         "CRUISE",
         35000,
         450,
         720.0,
         90.0,
         2600.0,
         0.6,
         null,
         null,
         null,
         null
        ],
        [
         "   ",
         "AC2002",
         "2023-11-05T12:05:00.000Z",
         "2023-11-05T12:05:00.000Z",
         2,
         "CRUISE",
         36000,
         440,
         710.0,
         89.5,
         2550.0,
         0.5,
         null,
         null,
         null,
         null
        ],
        [
         "R0002",
         "AC2003",
         "2023-11-06T08:00:00.000Z",
         "2023-11-06T08:00:00.000Z",
         1,
         "CRUISE",
         60000,
         420,
         700.0,
         88.0,
         2400.0,
         0.4,
         null,
         null,
         null,
         null
        ],
        [
         "R0003",
         "AC2004",
         "2023-11-06T08:05:00.000Z",
         "2023-11-06T08:05:00.000Z",
         1,
         "CRUISE",
         38000,
         -10,
         690.0,
         87.0,
         2350.0,
         0.3,
         null,
         null,
         null,
         null
        ],
        [
         "R0004",
         "AC2005",
         "2023-11-06T08:10:00.000Z",
         "2023-11-06T08:10:00.000Z",
         1,
         "CRUISE",
         39000,
         430,
         1500.0,
         92.0,
         2700.0,
         0.9,
         null,
         null,
         null,
         null
        ],
        [
         "R0005",
         "AC2006",
         "2023-11-06T08:15:00.000Z",
         "2023-11-06T08:15:00.000Z",
         2,
         "CRUISE",
         37000,
         440,
         680.0,
         85.0,
         -100.0,
         0.2,
         null,
         null,
         null,
         null
        ],
        [
         "R0006",
         "AC2006",
         "2023-11-06T08:20:00.000Z",
         "2023-11-06T08:20:00.000Z",
         2,
         "DESCENT",
         25000,
         320,
         600.0,
         70.0,
         1800.0,
         5.5,
         null,
         null,
         null,
         null
        ]
       ],
       "datasetInfos": [
        {
         "name": "_sqldf",
         "schema": {
          "fields": [
           {
            "metadata": {},
            "name": "reading_id",
            "nullable": true,
            "type": "string"
           },
           {
            "metadata": {},
            "name": "aircraft_id",
            "nullable": true,
            "type": "string"
           },
           {
            "metadata": {},
            "name": "event_ts",
            "nullable": true,
            "type": "timestamp"
           },
           {
            "metadata": {},
            "name": "event_date",
            "nullable": true,
            "type": "timestamp"
           },
           {
            "metadata": {},
            "name": "engine_pos",
            "nullable": true,
            "type": "integer"
           },
           {
            "metadata": {},
            "name": "phase_of_flight",
            "nullable": true,
            "type": "string"
           },
           {
            "metadata": {},
            "name": "altitude_ft",
            "nullable": true,
            "type": "integer"
           },
           {
            "metadata": {},
            "name": "ias_kts",
            "nullable": true,
            "type": "integer"
           },
           {
            "metadata": {},
            "name": "egt_c",
            "nullable": true,
            "type": "double"
           },
           {
            "metadata": {},
            "name": "n1_pct",
            "nullable": true,
            "type": "double"
           },
           {
            "metadata": {},
            "name": "fuel_flow_kg_h",
            "nullable": true,
            "type": "double"
           },
           {
            "metadata": {},
            "name": "vib_ips",
            "nullable": true,
            "type": "double"
           },
           {
            "metadata": {},
            "name": "fixed",
            "nullable": true,
            "type": "boolean"
           },
           {
            "metadata": {},
            "name": "type_fix",
            "nullable": true,
            "type": "string"
           },
           {
            "metadata": {},
            "name": "date_fix",
            "nullable": true,
            "type": "timestamp"
           },
           {
            "metadata": {},
            "name": "fix_version",
            "nullable": true,
            "type": "integer"
           }
          ],
          "type": "struct"
         },
         "tableIdentifier": null,
         "typeStr": "pyspark.sql.connect.dataframe.DataFrame"
        }
       ],
       "dbfsResultPath": null,
       "isJsonSchema": true,
       "metadata": {
        "createTempViewForImplicitDf": true,
        "dataframeName": "_sqldf",
        "executionCount": 8
       },
       "overflow": false,
       "plotOptions": {
        "customPlotOptions": {},
        "displayType": "table",
        "pivotAggregation": null,
        "pivotColumns": null,
        "xColumns": null,
        "yColumns": null
       },
       "removedWidgets": [],
       "schema": [
        {
         "metadata": "{}",
         "name": "reading_id",
         "type": "\"string\""
        },
        {
         "metadata": "{}",
         "name": "aircraft_id",
         "type": "\"string\""
        },
        {
         "metadata": "{}",
         "name": "event_ts",
         "type": "\"timestamp\""
        },
        {
         "metadata": "{}",
         "name": "event_date",
         "type": "\"timestamp\""
        },
        {
         "metadata": "{}",
         "name": "engine_pos",
         "type": "\"integer\""
        },
        {
         "metadata": "{}",
         "name": "phase_of_flight",
         "type": "\"string\""
        },
        {
         "metadata": "{}",
         "name": "altitude_ft",
         "type": "\"integer\""
        },
        {
         "metadata": "{}",
         "name": "ias_kts",
         "type": "\"integer\""
        },
        {
         "metadata": "{}",
         "name": "egt_c",
         "type": "\"double\""
        },
        {
         "metadata": "{}",
         "name": "n1_pct",
         "type": "\"double\""
        },
        {
         "metadata": "{}",
         "name": "fuel_flow_kg_h",
         "type": "\"double\""
        },
        {
         "metadata": "{}",
         "name": "vib_ips",
         "type": "\"double\""
        },
        {
         "metadata": "{}",
         "name": "fixed",
         "type": "\"boolean\""
        },
        {
         "metadata": "{}",
         "name": "type_fix",
         "type": "\"string\""
        },
        {
         "metadata": "{}",
         "name": "date_fix",
         "type": "\"timestamp\""
        },
        {
         "metadata": "{}",
         "name": "fix_version",
         "type": "\"integer\""
        }
       ],
       "type": "table"
      }
     },
     "output_type": "display_data"
    }
   ],
   "source": [
    "%sql\n",
    "select *\n",
    "from sesion1_2.layer30_silver_quarantine.fact_engine_sensor_quarantine"
   ]
  },
  {
   "cell_type": "markdown",
   "metadata": {
    "application/vnd.databricks.v1+cell": {
     "cellMetadata": {},
     "inputWidgets": {},
     "nuid": "b15a7d78-1b79-4099-8081-ebafe7b30e03",
     "showTitle": false,
     "tableResultSettingsMap": {},
     "title": ""
    }
   },
   "source": [
    "### 1.2.0 Creamos columnas de trazabilidad de fallos"
   ]
  },
  {
   "cell_type": "markdown",
   "metadata": {
    "application/vnd.databricks.v1+cell": {
     "cellMetadata": {},
     "inputWidgets": {},
     "nuid": "33501071-64dc-4892-a53a-75205c9311ab",
     "showTitle": false,
     "tableResultSettingsMap": {},
     "title": ""
    }
   },
   "source": [
    "de la misma manera creamos las mismas columnas que nos ayuden con la trazabilidad de errores"
   ]
  },
  {
   "cell_type": "code",
   "execution_count": 0,
   "metadata": {
    "application/vnd.databricks.v1+cell": {
     "cellMetadata": {
      "byteLimit": 2048000,
      "implicitDf": true,
      "rowLimit": 10000
     },
     "inputWidgets": {},
     "nuid": "f761179a-c8f2-48b0-9d3d-0e623a1a3392",
     "showTitle": false,
     "tableResultSettingsMap": {},
     "title": ""
    }
   },
   "outputs": [
    {
     "output_type": "display_data",
     "data": {
      "text/plain": [
       "\u001B[0;31m---------------------------------------------------------------------------\u001B[0m\n",
       "\u001B[0;31mAnalysisException\u001B[0m                         Traceback (most recent call last)\n",
       "File \u001B[0;32m<command-4819517383387231>, line 1\u001B[0m\n",
       "\u001B[0;32m----> 1\u001B[0m get_ipython()\u001B[38;5;241m.\u001B[39mrun_cell_magic(\u001B[38;5;124m'\u001B[39m\u001B[38;5;124msql\u001B[39m\u001B[38;5;124m'\u001B[39m, \u001B[38;5;124m'\u001B[39m\u001B[38;5;124m'\u001B[39m, \u001B[38;5;124m'\u001B[39m\u001B[38;5;124mALTER TABLE sesion1_2.layer30_silver_quarantine.fact_engine_sensor_quarantine\u001B[39m\u001B[38;5;130;01m\\n\u001B[39;00m\u001B[38;5;124mADD COLUMNS (\u001B[39m\u001B[38;5;130;01m\\n\u001B[39;00m\u001B[38;5;124m  fixed BOOLEAN,\u001B[39m\u001B[38;5;130;01m\\n\u001B[39;00m\u001B[38;5;124m  type_fix STRING,\u001B[39m\u001B[38;5;130;01m\\n\u001B[39;00m\u001B[38;5;124m  date_fix TIMESTAMP,\u001B[39m\u001B[38;5;130;01m\\n\u001B[39;00m\u001B[38;5;124m  fix_version INT\u001B[39m\u001B[38;5;130;01m\\n\u001B[39;00m\u001B[38;5;124m);\u001B[39m\u001B[38;5;130;01m\\n\u001B[39;00m\u001B[38;5;124m'\u001B[39m)\n",
       "\n",
       "File \u001B[0;32m/databricks/python/lib/python3.12/site-packages/IPython/core/interactiveshell.py:2543\u001B[0m, in \u001B[0;36mInteractiveShell.run_cell_magic\u001B[0;34m(self, magic_name, line, cell)\u001B[0m\n",
       "\u001B[1;32m   2541\u001B[0m \u001B[38;5;28;01mwith\u001B[39;00m \u001B[38;5;28mself\u001B[39m\u001B[38;5;241m.\u001B[39mbuiltin_trap:\n",
       "\u001B[1;32m   2542\u001B[0m     args \u001B[38;5;241m=\u001B[39m (magic_arg_s, cell)\n",
       "\u001B[0;32m-> 2543\u001B[0m     result \u001B[38;5;241m=\u001B[39m fn(\u001B[38;5;241m*\u001B[39margs, \u001B[38;5;241m*\u001B[39m\u001B[38;5;241m*\u001B[39mkwargs)\n",
       "\u001B[1;32m   2545\u001B[0m \u001B[38;5;66;03m# The code below prevents the output from being displayed\u001B[39;00m\n",
       "\u001B[1;32m   2546\u001B[0m \u001B[38;5;66;03m# when using magics with decorator @output_can_be_silenced\u001B[39;00m\n",
       "\u001B[1;32m   2547\u001B[0m \u001B[38;5;66;03m# when the last Python token in the expression is a ';'.\u001B[39;00m\n",
       "\u001B[1;32m   2548\u001B[0m \u001B[38;5;28;01mif\u001B[39;00m \u001B[38;5;28mgetattr\u001B[39m(fn, magic\u001B[38;5;241m.\u001B[39mMAGIC_OUTPUT_CAN_BE_SILENCED, \u001B[38;5;28;01mFalse\u001B[39;00m):\n",
       "\n",
       "File \u001B[0;32m/databricks/python_shell/lib/dbruntime/sql_magic/sql_magic.py:135\u001B[0m, in \u001B[0;36mSqlMagic.sql\u001B[0;34m(self, line, cell)\u001B[0m\n",
       "\u001B[1;32m    129\u001B[0m \u001B[38;5;28;01mexcept\u001B[39;00m \u001B[38;5;167;01mBaseException\u001B[39;00m \u001B[38;5;28;01mas\u001B[39;00m e:\n",
       "\u001B[1;32m    130\u001B[0m     \u001B[38;5;28mself\u001B[39m\u001B[38;5;241m.\u001B[39mdriver_activity_logger\u001B[38;5;241m.\u001B[39mlogExecuteCommandEvent(\n",
       "\u001B[1;32m    131\u001B[0m         \u001B[38;5;124m\"\u001B[39m\u001B[38;5;124mSQL_MAGIC_PY4J_FAILED\u001B[39m\u001B[38;5;124m\"\u001B[39m,\n",
       "\u001B[1;32m    132\u001B[0m         exceptionClassName\u001B[38;5;241m=\u001B[39me\u001B[38;5;241m.\u001B[39m\u001B[38;5;18m__class__\u001B[39m\u001B[38;5;241m.\u001B[39m\u001B[38;5;18m__name__\u001B[39m,\n",
       "\u001B[1;32m    133\u001B[0m         sqlState\u001B[38;5;241m=\u001B[39msafe_call(e, \u001B[38;5;124m\"\u001B[39m\u001B[38;5;124mgetSqlState\u001B[39m\u001B[38;5;124m\"\u001B[39m),\n",
       "\u001B[1;32m    134\u001B[0m         errorClass\u001B[38;5;241m=\u001B[39msafe_call(e, \u001B[38;5;124m\"\u001B[39m\u001B[38;5;124mgetCondition\u001B[39m\u001B[38;5;124m\"\u001B[39m))\n",
       "\u001B[0;32m--> 135\u001B[0m     \u001B[38;5;28;01mraise\u001B[39;00m e\n",
       "\u001B[1;32m    136\u001B[0m \u001B[38;5;28mself\u001B[39m\u001B[38;5;241m.\u001B[39mdriver_activity_logger\u001B[38;5;241m.\u001B[39mlogExecuteCommandEvent(\u001B[38;5;124m\"\u001B[39m\u001B[38;5;124mSQL_MAGIC_PY4J_SUCCEEDED\u001B[39m\u001B[38;5;124m\"\u001B[39m)\n",
       "\u001B[1;32m    137\u001B[0m \u001B[38;5;28;01mreturn\u001B[39;00m result\n",
       "\n",
       "File \u001B[0;32m/databricks/python_shell/lib/dbruntime/sql_magic/sql_magic.py:128\u001B[0m, in \u001B[0;36mSqlMagic.sql\u001B[0;34m(self, line, cell)\u001B[0m\n",
       "\u001B[1;32m    126\u001B[0m         query_text \u001B[38;5;241m=\u001B[39m sub_query\u001B[38;5;241m.\u001B[39mquery()\n",
       "\u001B[1;32m    127\u001B[0m         sql_directive \u001B[38;5;241m=\u001B[39m \u001B[38;5;28mself\u001B[39m\u001B[38;5;241m.\u001B[39mentry_point\u001B[38;5;241m.\u001B[39mgetSqlDirective(query_text)\n",
       "\u001B[0;32m--> 128\u001B[0m         result \u001B[38;5;241m=\u001B[39m \u001B[38;5;28mself\u001B[39m\u001B[38;5;241m.\u001B[39mhandle_sql_directive(sql_directive, i \u001B[38;5;241m==\u001B[39m number_of_sub_queries \u001B[38;5;241m-\u001B[39m \u001B[38;5;241m1\u001B[39m)\n",
       "\u001B[1;32m    129\u001B[0m \u001B[38;5;28;01mexcept\u001B[39;00m \u001B[38;5;167;01mBaseException\u001B[39;00m \u001B[38;5;28;01mas\u001B[39;00m e:\n",
       "\u001B[1;32m    130\u001B[0m     \u001B[38;5;28mself\u001B[39m\u001B[38;5;241m.\u001B[39mdriver_activity_logger\u001B[38;5;241m.\u001B[39mlogExecuteCommandEvent(\n",
       "\u001B[1;32m    131\u001B[0m         \u001B[38;5;124m\"\u001B[39m\u001B[38;5;124mSQL_MAGIC_PY4J_FAILED\u001B[39m\u001B[38;5;124m\"\u001B[39m,\n",
       "\u001B[1;32m    132\u001B[0m         exceptionClassName\u001B[38;5;241m=\u001B[39me\u001B[38;5;241m.\u001B[39m\u001B[38;5;18m__class__\u001B[39m\u001B[38;5;241m.\u001B[39m\u001B[38;5;18m__name__\u001B[39m,\n",
       "\u001B[1;32m    133\u001B[0m         sqlState\u001B[38;5;241m=\u001B[39msafe_call(e, \u001B[38;5;124m\"\u001B[39m\u001B[38;5;124mgetSqlState\u001B[39m\u001B[38;5;124m\"\u001B[39m),\n",
       "\u001B[1;32m    134\u001B[0m         errorClass\u001B[38;5;241m=\u001B[39msafe_call(e, \u001B[38;5;124m\"\u001B[39m\u001B[38;5;124mgetCondition\u001B[39m\u001B[38;5;124m\"\u001B[39m))\n",
       "\n",
       "File \u001B[0;32m/databricks/python_shell/lib/dbruntime/sql_magic/sql_magic.py:155\u001B[0m, in \u001B[0;36mSqlMagic.handle_sql_directive\u001B[0;34m(self, sql_directive, is_last_query)\u001B[0m\n",
       "\u001B[1;32m    152\u001B[0m query \u001B[38;5;241m=\u001B[39m sql_directive\u001B[38;5;241m.\u001B[39msql()\n",
       "\u001B[1;32m    153\u001B[0m \u001B[38;5;28mself\u001B[39m\u001B[38;5;241m.\u001B[39m_register_udf_if_needed(\n",
       "\u001B[1;32m    154\u001B[0m     query, \u001B[38;5;28mself\u001B[39m\u001B[38;5;241m.\u001B[39mentry_point\u001B[38;5;241m.\u001B[39mescapeWidgetValues(\u001B[38;5;28mself\u001B[39m\u001B[38;5;241m.\u001B[39mdbutils\u001B[38;5;241m.\u001B[39mwidgets\u001B[38;5;241m.\u001B[39mgetAll()))\n",
       "\u001B[0;32m--> 155\u001B[0m df \u001B[38;5;241m=\u001B[39m \u001B[38;5;28mself\u001B[39m\u001B[38;5;241m.\u001B[39mget_query_request_result(query)\n",
       "\u001B[1;32m    156\u001B[0m \u001B[38;5;28;01mif\u001B[39;00m df \u001B[38;5;129;01mis\u001B[39;00m \u001B[38;5;28;01mNone\u001B[39;00m \u001B[38;5;129;01mor\u001B[39;00m \u001B[38;5;28mlen\u001B[39m(df\u001B[38;5;241m.\u001B[39mschema) \u001B[38;5;241m==\u001B[39m \u001B[38;5;241m0\u001B[39m:\n",
       "\u001B[1;32m    157\u001B[0m     \u001B[38;5;66;03m# E.g. \"create or replace temp view abc as select 1\" gets us here and we should not return a result in this case.\u001B[39;00m\n",
       "\u001B[1;32m    158\u001B[0m     \u001B[38;5;28;01mreturn\u001B[39;00m \u001B[38;5;28;01mNone\u001B[39;00m\n",
       "\n",
       "File \u001B[0;32m/databricks/python_shell/lib/dbruntime/sql_magic/sql_magic.py:95\u001B[0m, in \u001B[0;36mSqlMagic.get_query_request_result\u001B[0;34m(self, query)\u001B[0m\n",
       "\u001B[1;32m     93\u001B[0m \u001B[38;5;28;01mif\u001B[39;00m \u001B[38;5;28mlen\u001B[39m(widget_bindings \u001B[38;5;241m:=\u001B[39m \u001B[38;5;28mself\u001B[39m\u001B[38;5;241m.\u001B[39mdbutils\u001B[38;5;241m.\u001B[39mwidgets\u001B[38;5;241m.\u001B[39mgetAll()) \u001B[38;5;241m>\u001B[39m \u001B[38;5;241m0\u001B[39m:\n",
       "\u001B[1;32m     94\u001B[0m     \u001B[38;5;28mself\u001B[39m\u001B[38;5;241m.\u001B[39mdriver_activity_logger\u001B[38;5;241m.\u001B[39mlogExecuteCommandEvent(\u001B[38;5;124m\"\u001B[39m\u001B[38;5;124mPARAM_SYNTAX_USAGE\u001B[39m\u001B[38;5;124m\"\u001B[39m)\n",
       "\u001B[0;32m---> 95\u001B[0m df \u001B[38;5;241m=\u001B[39m \u001B[38;5;28mself\u001B[39m\u001B[38;5;241m.\u001B[39mspark\u001B[38;5;241m.\u001B[39msql(query, widget_bindings)\n",
       "\u001B[1;32m     96\u001B[0m \u001B[38;5;28;01mreturn\u001B[39;00m df\n",
       "\n",
       "File \u001B[0;32m/databricks/python/lib/python3.12/site-packages/pyspark/sql/connect/session.py:821\u001B[0m, in \u001B[0;36mSparkSession.sql\u001B[0;34m(self, sqlQuery, args, **kwargs)\u001B[0m\n",
       "\u001B[1;32m    818\u001B[0m         _views\u001B[38;5;241m.\u001B[39mappend(SubqueryAlias(df\u001B[38;5;241m.\u001B[39m_plan, name))\n",
       "\u001B[1;32m    820\u001B[0m cmd \u001B[38;5;241m=\u001B[39m SQL(sqlQuery, _args, _named_args, _views)\n",
       "\u001B[0;32m--> 821\u001B[0m data, properties, ei \u001B[38;5;241m=\u001B[39m \u001B[38;5;28mself\u001B[39m\u001B[38;5;241m.\u001B[39mclient\u001B[38;5;241m.\u001B[39mexecute_command(cmd\u001B[38;5;241m.\u001B[39mcommand(\u001B[38;5;28mself\u001B[39m\u001B[38;5;241m.\u001B[39m_client))\n",
       "\u001B[1;32m    822\u001B[0m \u001B[38;5;28;01mif\u001B[39;00m \u001B[38;5;124m\"\u001B[39m\u001B[38;5;124msql_command_result\u001B[39m\u001B[38;5;124m\"\u001B[39m \u001B[38;5;129;01min\u001B[39;00m properties:\n",
       "\u001B[1;32m    823\u001B[0m     df \u001B[38;5;241m=\u001B[39m DataFrame(CachedRelation(properties[\u001B[38;5;124m\"\u001B[39m\u001B[38;5;124msql_command_result\u001B[39m\u001B[38;5;124m\"\u001B[39m]), \u001B[38;5;28mself\u001B[39m)\n",
       "\n",
       "File \u001B[0;32m/databricks/python/lib/python3.12/site-packages/pyspark/sql/connect/client/core.py:1483\u001B[0m, in \u001B[0;36mSparkConnectClient.execute_command\u001B[0;34m(self, command, observations, extra_request_metadata)\u001B[0m\n",
       "\u001B[1;32m   1481\u001B[0m     req\u001B[38;5;241m.\u001B[39muser_context\u001B[38;5;241m.\u001B[39muser_id \u001B[38;5;241m=\u001B[39m \u001B[38;5;28mself\u001B[39m\u001B[38;5;241m.\u001B[39m_user_id\n",
       "\u001B[1;32m   1482\u001B[0m req\u001B[38;5;241m.\u001B[39mplan\u001B[38;5;241m.\u001B[39mcommand\u001B[38;5;241m.\u001B[39mCopyFrom(command)\n",
       "\u001B[0;32m-> 1483\u001B[0m data, _, metrics, observed_metrics, properties \u001B[38;5;241m=\u001B[39m \u001B[38;5;28mself\u001B[39m\u001B[38;5;241m.\u001B[39m_execute_and_fetch(\n",
       "\u001B[1;32m   1484\u001B[0m     req, observations \u001B[38;5;129;01mor\u001B[39;00m {}, extra_request_metadata\n",
       "\u001B[1;32m   1485\u001B[0m )\n",
       "\u001B[1;32m   1486\u001B[0m \u001B[38;5;66;03m# Create a query execution object.\u001B[39;00m\n",
       "\u001B[1;32m   1487\u001B[0m ei \u001B[38;5;241m=\u001B[39m ExecutionInfo(metrics, observed_metrics)\n",
       "\n",
       "File \u001B[0;32m/databricks/python/lib/python3.12/site-packages/pyspark/sql/connect/client/core.py:1972\u001B[0m, in \u001B[0;36mSparkConnectClient._execute_and_fetch\u001B[0;34m(self, req, observations, extra_request_metadata, self_destruct)\u001B[0m\n",
       "\u001B[1;32m   1969\u001B[0m properties: Dict[\u001B[38;5;28mstr\u001B[39m, Any] \u001B[38;5;241m=\u001B[39m {}\n",
       "\u001B[1;32m   1971\u001B[0m \u001B[38;5;28;01mwith\u001B[39;00m Progress(handlers\u001B[38;5;241m=\u001B[39m\u001B[38;5;28mself\u001B[39m\u001B[38;5;241m.\u001B[39m_progress_handlers, operation_id\u001B[38;5;241m=\u001B[39mreq\u001B[38;5;241m.\u001B[39moperation_id) \u001B[38;5;28;01mas\u001B[39;00m progress:\n",
       "\u001B[0;32m-> 1972\u001B[0m     \u001B[38;5;28;01mfor\u001B[39;00m response \u001B[38;5;129;01min\u001B[39;00m \u001B[38;5;28mself\u001B[39m\u001B[38;5;241m.\u001B[39m_execute_and_fetch_as_iterator(\n",
       "\u001B[1;32m   1973\u001B[0m         req, observations, extra_request_metadata \u001B[38;5;129;01mor\u001B[39;00m [], progress\u001B[38;5;241m=\u001B[39mprogress\n",
       "\u001B[1;32m   1974\u001B[0m     ):\n",
       "\u001B[1;32m   1975\u001B[0m         \u001B[38;5;28;01mif\u001B[39;00m \u001B[38;5;28misinstance\u001B[39m(response, StructType):\n",
       "\u001B[1;32m   1976\u001B[0m             schema \u001B[38;5;241m=\u001B[39m response\n",
       "\n",
       "File \u001B[0;32m/databricks/python/lib/python3.12/site-packages/pyspark/sql/connect/client/core.py:1948\u001B[0m, in \u001B[0;36mSparkConnectClient._execute_and_fetch_as_iterator\u001B[0;34m(self, req, observations, extra_request_metadata, progress)\u001B[0m\n",
       "\u001B[1;32m   1946\u001B[0m     \u001B[38;5;28;01mraise\u001B[39;00m kb\n",
       "\u001B[1;32m   1947\u001B[0m \u001B[38;5;28;01mexcept\u001B[39;00m \u001B[38;5;167;01mException\u001B[39;00m \u001B[38;5;28;01mas\u001B[39;00m error:\n",
       "\u001B[0;32m-> 1948\u001B[0m     \u001B[38;5;28mself\u001B[39m\u001B[38;5;241m.\u001B[39m_handle_error(error)\n",
       "\n",
       "File \u001B[0;32m/databricks/python/lib/python3.12/site-packages/pyspark/sql/connect/client/core.py:2268\u001B[0m, in \u001B[0;36mSparkConnectClient._handle_error\u001B[0;34m(self, error)\u001B[0m\n",
       "\u001B[1;32m   2266\u001B[0m \u001B[38;5;28mself\u001B[39m\u001B[38;5;241m.\u001B[39mthread_local\u001B[38;5;241m.\u001B[39minside_error_handling \u001B[38;5;241m=\u001B[39m \u001B[38;5;28;01mTrue\u001B[39;00m\n",
       "\u001B[1;32m   2267\u001B[0m \u001B[38;5;28;01mif\u001B[39;00m \u001B[38;5;28misinstance\u001B[39m(error, grpc\u001B[38;5;241m.\u001B[39mRpcError):\n",
       "\u001B[0;32m-> 2268\u001B[0m     \u001B[38;5;28mself\u001B[39m\u001B[38;5;241m.\u001B[39m_handle_rpc_error(error)\n",
       "\u001B[1;32m   2269\u001B[0m \u001B[38;5;28;01melif\u001B[39;00m \u001B[38;5;28misinstance\u001B[39m(error, \u001B[38;5;167;01mValueError\u001B[39;00m):\n",
       "\u001B[1;32m   2270\u001B[0m     \u001B[38;5;28;01mif\u001B[39;00m \u001B[38;5;124m\"\u001B[39m\u001B[38;5;124mCannot invoke RPC\u001B[39m\u001B[38;5;124m\"\u001B[39m \u001B[38;5;129;01min\u001B[39;00m \u001B[38;5;28mstr\u001B[39m(error) \u001B[38;5;129;01mand\u001B[39;00m \u001B[38;5;124m\"\u001B[39m\u001B[38;5;124mclosed\u001B[39m\u001B[38;5;124m\"\u001B[39m \u001B[38;5;129;01min\u001B[39;00m \u001B[38;5;28mstr\u001B[39m(error):\n",
       "\n",
       "File \u001B[0;32m/databricks/python/lib/python3.12/site-packages/pyspark/sql/connect/client/core.py:2351\u001B[0m, in \u001B[0;36mSparkConnectClient._handle_rpc_error\u001B[0;34m(self, rpc_error)\u001B[0m\n",
       "\u001B[1;32m   2347\u001B[0m             logger\u001B[38;5;241m.\u001B[39mdebug(\u001B[38;5;124mf\u001B[39m\u001B[38;5;124m\"\u001B[39m\u001B[38;5;124mReceived ErrorInfo: \u001B[39m\u001B[38;5;132;01m{\u001B[39;00minfo\u001B[38;5;132;01m}\u001B[39;00m\u001B[38;5;124m\"\u001B[39m)\n",
       "\u001B[1;32m   2349\u001B[0m             \u001B[38;5;28mself\u001B[39m\u001B[38;5;241m.\u001B[39m_handle_rpc_error_with_error_info(info, status\u001B[38;5;241m.\u001B[39mmessage, status_code)  \u001B[38;5;66;03m# EDGE\u001B[39;00m\n",
       "\u001B[0;32m-> 2351\u001B[0m             \u001B[38;5;28;01mraise\u001B[39;00m convert_exception(\n",
       "\u001B[1;32m   2352\u001B[0m                 info,\n",
       "\u001B[1;32m   2353\u001B[0m                 status\u001B[38;5;241m.\u001B[39mmessage,\n",
       "\u001B[1;32m   2354\u001B[0m                 \u001B[38;5;28mself\u001B[39m\u001B[38;5;241m.\u001B[39m_fetch_enriched_error(info),\n",
       "\u001B[1;32m   2355\u001B[0m                 \u001B[38;5;28mself\u001B[39m\u001B[38;5;241m.\u001B[39m_display_server_stack_trace(),\n",
       "\u001B[1;32m   2356\u001B[0m             ) \u001B[38;5;28;01mfrom\u001B[39;00m \u001B[38;5;28;01mNone\u001B[39;00m\n",
       "\u001B[1;32m   2358\u001B[0m     \u001B[38;5;28;01mraise\u001B[39;00m SparkConnectGrpcException(\n",
       "\u001B[1;32m   2359\u001B[0m         message\u001B[38;5;241m=\u001B[39mstatus\u001B[38;5;241m.\u001B[39mmessage,\n",
       "\u001B[1;32m   2360\u001B[0m         sql_state\u001B[38;5;241m=\u001B[39mErrorCode\u001B[38;5;241m.\u001B[39mCLIENT_UNEXPECTED_MISSING_SQL_STATE,  \u001B[38;5;66;03m# EDGE\u001B[39;00m\n",
       "\u001B[1;32m   2361\u001B[0m     ) \u001B[38;5;28;01mfrom\u001B[39;00m \u001B[38;5;28;01mNone\u001B[39;00m\n",
       "\u001B[1;32m   2362\u001B[0m \u001B[38;5;28;01melse\u001B[39;00m:\n",
       "\n",
       "\u001B[0;31mAnalysisException\u001B[0m: [FIELD_ALREADY_EXISTS] Cannot add column, because `fixed` already exists in \"STRUCT<reading_id: STRING, aircraft_id: STRING, event_ts: TIMESTAMP, event_date: TIMESTAMP, engine_pos: INT, phase_of_flight: STRING, altitude_ft: INT, ias_kts: INT, egt_c: DOUBLE, n1_pct: DOUBLE, fuel_flow_kg_h: DOUBLE, vib_ips: DOUBLE, fixed: BOOLEAN, type_fix: STRING, date_fix: TIMESTAMP, fix_version: INT>\". SQLSTATE: 42710; line 1 pos 0;\n",
       "AddColumns [QualifiedColType(None,fixed,BooleanType,true,None,None,None,None), QualifiedColType(None,type_fix,StringType,true,None,None,None,None), QualifiedColType(None,date_fix,TimestampType,true,None,None,None,None), QualifiedColType(None,fix_version,IntegerType,true,None,None,None,None)]\n",
       "+- ResolvedTable com.databricks.sql.managedcatalog.UnityCatalogV2Proxy@51565a9f, layer30_silver_quarantine.fact_engine_sensor_quarantine, DeltaTableV2(org.apache.spark.sql.classic.SparkSession@2793b043,s3://dbstorage-prod-nmmp3/uc/3e454ef6-0234-431e-bba1-372858b87e1c/24251221-5fcd-4ccf-90bc-f7e819553b47/__unitystorage/catalogs/f810eb45-31c5-4f39-99ab-8f397a903f92/tables/ade706d7-1adc-4817-a142-401c63b86325,Some(CatalogTable(\n",
       "Catalog: sesion1_2\n",
       "Database: layer30_silver_quarantine\n",
       "Table: fact_engine_sensor_quarantine\n",
       "Owner: 251008javiceste@gmail.com\n",
       "Created Time: Thu Oct 09 11:44:48 UTC 2025\n",
       "Last Access: UNKNOWN\n",
       "Created By: Spark \n",
       "Type: MANAGED\n",
       "Provider: delta\n",
       "Collation: UTF8_BINARY\n",
       "Table Properties: [collation=UTF8_BINARY, delta.enableDeletionVectors=true, delta.feature.appendOnly=supported, delta.feature.deletionVectors=supported, delta.feature.invariants=supported, delta.lastCommitTimestamp=1760079228000, delta.lastUpdateVersion=7, delta.minReaderVersion=3, delta.minWriterVersion=7]\n",
       "Statistics: 26856 bytes, 81 rows\n",
       "Location: s3://dbstorage-prod-nmmp3/uc/3e454ef6-0234-431e-bba1-372858b87e1c/24251221-5fcd-4ccf-90bc-f7e819553b47/__unitystorage/catalogs/f810eb45-31c5-4f39-99ab-8f397a903f92/tables/ade706d7-1adc-4817-a142-401c63b86325\n",
       "Partition Provider: Catalog\n",
       "Schema: root\n",
       " |-- reading_id: string (nullable = true)\n",
       " |-- aircraft_id: string (nullable = true)\n",
       " |-- event_ts: timestamp (nullable = true)\n",
       " |-- event_date: timestamp (nullable = true)\n",
       " |-- engine_pos: integer (nullable = true)\n",
       " |-- phase_of_flight: string (nullable = true)\n",
       " |-- altitude_ft: integer (nullable = true)\n",
       " |-- ias_kts: integer (nullable = true)\n",
       " |-- egt_c: double (nullable = true)\n",
       " |-- n1_pct: double (nullable = true)\n",
       " |-- fuel_flow_kg_h: double (nullable = true)\n",
       " |-- vib_ips: double (nullable = true)\n",
       " |-- fixed: boolean (nullable = true)\n",
       " |-- type_fix: string (nullable = true)\n",
       " |-- date_fix: timestamp (nullable = true)\n",
       " |-- fix_version: integer (nullable = true)\n",
       "\n",
       "Predictive Optimization: ENABLE (inherited from METASTORE metastore_aws_us_east_2))),Some(sesion1_2.layer30_silver_quarantine.fact_engine_sensor_quarantine),None,Map()), [reading_id#12631, aircraft_id#12632, event_ts#12633, event_date#12634, engine_pos#12635, phase_of_flight#12636, altitude_ft#12637, ias_kts#12638, egt_c#12639, n1_pct#12640, fuel_flow_kg_h#12641, vib_ips#12642, fixed#12643, type_fix#12644, date_fix#12645, fix_version#12646]\n",
       "\n",
       "\n",
       "JVM stacktrace:\n",
       "org.apache.spark.sql.catalyst.ExtendedAnalysisException\n",
       "\tat org.apache.spark.sql.catalyst.analysis.package$AnalysisErrorAt.failAnalysis(package.scala:55)\n",
       "\tat org.apache.spark.sql.catalyst.analysis.CheckAnalysis.checkColumnNotExists$1(CheckAnalysis.scala:1138)\n",
       "\tat org.apache.spark.sql.catalyst.analysis.CheckAnalysis.$anonfun$checkAlterTableCommand$3(CheckAnalysis.scala:1157)\n",
       "\tat org.apache.spark.sql.catalyst.analysis.CheckAnalysis.$anonfun$checkAlterTableCommand$3$adapted(CheckAnalysis.scala:1156)\n",
       "\tat scala.collection.immutable.List.foreach(List.scala:334)\n",
       "\tat org.apache.spark.sql.catalyst.analysis.CheckAnalysis.checkAlterTableCommand(CheckAnalysis.scala:1156)\n",
       "\tat org.apache.spark.sql.catalyst.analysis.CheckAnalysis.$anonfun$checkAnalysis0$2(CheckAnalysis.scala:842)\n",
       "\tat org.apache.spark.sql.catalyst.analysis.CheckAnalysis.$anonfun$checkAnalysis0$2$adapted(CheckAnalysis.scala:324)\n",
       "\tat org.apache.spark.sql.catalyst.trees.TreeNode.foreachUp(TreeNode.scala:312)\n",
       "\tat org.apache.spark.sql.catalyst.analysis.CheckAnalysis.checkAnalysis0(CheckAnalysis.scala:324)\n",
       "\tat org.apache.spark.sql.catalyst.analysis.CheckAnalysis.checkAnalysis0$(CheckAnalysis.scala:295)\n",
       "\tat org.apache.spark.sql.catalyst.analysis.Analyzer.checkAnalysis0(Analyzer.scala:542)\n",
       "\tat org.apache.spark.sql.catalyst.analysis.CheckAnalysis.$anonfun$checkAnalysis$1(CheckAnalysis.scala:280)\n",
       "\tat scala.runtime.java8.JFunction0$mcV$sp.apply(JFunction0$mcV$sp.scala:18)\n",
       "\tat com.databricks.spark.util.FrameProfiler$.$anonfun$record$1(FrameProfiler.scala:114)\n",
       "\tat com.databricks.spark.util.FrameProfilerExporter$.maybeExportFrameProfiler(FrameProfilerExporter.scala:200)\n",
       "\tat com.databricks.spark.util.FrameProfiler$.record(FrameProfiler.scala:105)\n",
       "\tat org.apache.spark.sql.catalyst.analysis.CheckAnalysis.checkAnalysis(CheckAnalysis.scala:266)\n",
       "\tat org.apache.spark.sql.catalyst.analysis.CheckAnalysis.checkAnalysis$(CheckAnalysis.scala:262)\n",
       "\tat org.apache.spark.sql.catalyst.analysis.Analyzer.checkAnalysis(Analyzer.scala:542)\n",
       "\tat org.apache.spark.sql.catalyst.analysis.resolver.HybridAnalyzer.$anonfun$resolveInFixedPoint$1(HybridAnalyzer.scala:413)\n",
       "\tat scala.runtime.java8.JFunction0$mcV$sp.apply(JFunction0$mcV$sp.scala:18)\n",
       "\tat org.apache.spark.sql.catalyst.QueryPlanningTracker$.withTracker(QueryPlanningTracker.scala:267)\n",
       "\tat org.apache.spark.sql.catalyst.analysis.resolver.HybridAnalyzer.resolveInFixedPoint(HybridAnalyzer.scala:413)\n",
       "\tat org.apache.spark.sql.catalyst.analysis.resolver.HybridAnalyzer.$anonfun$apply$1(HybridAnalyzer.scala:99)\n",
       "\tat org.apache.spark.sql.catalyst.analysis.resolver.HybridAnalyzer.withTrackedAnalyzerBridgeState(HybridAnalyzer.scala:136)\n",
       "\tat org.apache.spark.sql.catalyst.analysis.resolver.HybridAnalyzer.apply(HybridAnalyzer.scala:92)\n",
       "\tat org.apache.spark.sql.catalyst.analysis.Analyzer.$anonfun$executeAndCheck$2(Analyzer.scala:598)\n",
       "\tat org.apache.spark.sql.catalyst.plans.logical.AnalysisHelper$.markInAnalyzer(AnalysisHelper.scala:425)\n",
       "\tat org.apache.spark.sql.catalyst.analysis.Analyzer.$anonfun$executeAndCheck$1(Analyzer.scala:598)\n",
       "\tat com.databricks.sql.unity.SAMSnapshotHelper$.visitPlansDuringAnalysis(SAMSnapshotHelper.scala:41)\n",
       "\tat org.apache.spark.sql.catalyst.analysis.Analyzer.executeAndCheck(Analyzer.scala:591)\n",
       "\tat org.apache.spark.sql.execution.QueryExecution.$anonfun$lazyAnalyzed$3(QueryExecution.scala:341)\n",
       "\tat com.databricks.spark.util.FrameProfiler$.$anonfun$record$1(FrameProfiler.scala:114)\n",
       "\tat com.databricks.spark.util.FrameProfilerExporter$.maybeExportFrameProfiler(FrameProfilerExporter.scala:200)\n",
       "\tat com.databricks.spark.util.FrameProfiler$.record(FrameProfiler.scala:105)\n",
       "\tat org.apache.spark.sql.catalyst.QueryPlanningTracker.measurePhase(QueryPlanningTracker.scala:675)\n",
       "\tat org.apache.spark.sql.execution.QueryExecution.$anonfun$executePhase$8(QueryExecution.scala:826)\n",
       "\tat org.apache.spark.sql.execution.SQLExecution$.$anonfun$withExecutionPhase$1(SQLExecution.scala:157)\n",
       "\tat com.databricks.logging.AttributionContext$.$anonfun$withValue$1(AttributionContext.scala:328)\n",
       "\tat scala.util.DynamicVariable.withValue(DynamicVariable.scala:59)\n",
       "\tat com.databricks.logging.AttributionContext$.withValue(AttributionContext.scala:324)\n",
       "\tat com.databricks.util.TracingSpanUtils$.$anonfun$withTracing$4(TracingSpanUtils.scala:235)\n",
       "\tat com.databricks.util.TracingSpanUtils$.withTracing(TracingSpanUtils.scala:129)\n",
       "\tat com.databricks.util.TracingSpanUtils$.withTracing(TracingSpanUtils.scala:233)\n",
       "\tat com.databricks.tracing.TracingUtils$.withTracing(TracingUtils.scala:296)\n",
       "\tat com.databricks.spark.util.DatabricksTracingHelper.withSpan(DatabricksSparkTracingHelper.scala:115)\n",
       "\tat com.databricks.spark.util.DBRTracing$.withSpan(DBRTracing.scala:47)\n",
       "\tat org.apache.spark.sql.execution.SQLExecution$.withExecutionPhase(SQLExecution.scala:138)\n",
       "\tat org.apache.spark.sql.execution.QueryExecution.$anonfun$executePhase$7(QueryExecution.scala:826)\n",
       "\tat org.apache.spark.sql.execution.QueryExecution$.withInternalError(QueryExecution.scala:1472)\n",
       "\tat org.apache.spark.sql.execution.QueryExecution.$anonfun$executePhase$5(QueryExecution.scala:819)\n",
       "\tat com.databricks.util.LexicalThreadLocal$Handle.runWith(LexicalThreadLocal.scala:63)\n",
       "\tat org.apache.spark.sql.execution.QueryExecution.$anonfun$executePhase$4(QueryExecution.scala:816)\n",
       "\tat com.databricks.util.LexicalThreadLocal$Handle.runWith(LexicalThreadLocal.scala:63)\n",
       "\tat org.apache.spark.sql.execution.QueryExecution.$anonfun$executePhase$3(QueryExecution.scala:816)\n",
       "\tat com.databricks.util.LexicalThreadLocal$Handle.runWith(LexicalThreadLocal.scala:63)\n",
       "\tat org.apache.spark.sql.execution.QueryExecution.$anonfun$executePhase$2(QueryExecution.scala:815)\n",
       "\tat com.databricks.util.LexicalThreadLocal$Handle.runWith(LexicalThreadLocal.scala:63)\n",
       "\tat org.apache.spark.sql.execution.QueryExecution.withQueryExecutionId(QueryExecution.scala:803)\n",
       "\tat org.apache.spark.sql.execution.QueryExecution.$anonfun$executePhase$1(QueryExecution.scala:814)\n",
       "\tat org.apache.spark.sql.SparkSession.withActive(SparkSession.scala:860)\n",
       "\tat org.apache.spark.sql.execution.QueryExecution.executePhase(QueryExecution.scala:813)\n",
       "\tat org.apache.spark.sql.execution.QueryExecution.$anonfun$lazyAnalyzed$2(QueryExecution.scala:323)\n",
       "\tat com.databricks.sql.util.MemoryTrackerHelper.withMemoryTracking(MemoryTrackerHelper.scala:111)\n",
       "\tat org.apache.spark.sql.execution.QueryExecution.$anonfun$lazyAnalyzed$1(QueryExecution.scala:322)\n",
       "\tat scala.util.Try$.apply(Try.scala:217)\n",
       "\tat org.apache.spark.util.Utils$.doTryWithCallerStacktrace(Utils.scala:1687)\n",
       "\tat org.apache.spark.util.LazyTry.tryT$lzycompute(LazyTry.scala:60)\n",
       "\tat org.apache.spark.util.LazyTry.tryT(LazyTry.scala:59)\n",
       "\tat org.apache.spark.util.LazyTry.get(LazyTry.scala:75)\n",
       "\tat org.apache.spark.sql.execution.QueryExecution.analyzed(QueryExecution.scala:383)\n",
       "\tat org.apache.spark.sql.execution.QueryExecution.assertAnalyzed(QueryExecution.scala:302)\n",
       "\tat org.apache.spark.sql.classic.Dataset$.$anonfun$ofRows$3(Dataset.scala:154)\n",
       "\tat org.apache.spark.sql.SparkSession.withActive(SparkSession.scala:860)\n",
       "\tat org.apache.spark.sql.classic.SparkSession.$anonfun$withActiveAndFrameProfiler$1(SparkSession.scala:1077)\n",
       "\tat com.databricks.spark.util.FrameProfiler$.$anonfun$record$1(FrameProfiler.scala:114)\n",
       "\tat com.databricks.spark.util.FrameProfilerExporter$.maybeExportFrameProfiler(FrameProfilerExporter.scala:200)\n",
       "\tat com.databricks.spark.util.FrameProfiler$.record(FrameProfiler.scala:105)\n",
       "\tat org.apache.spark.sql.classic.SparkSession.withActiveAndFrameProfiler(SparkSession.scala:1077)\n",
       "\tat org.apache.spark.sql.classic.Dataset$.ofRows(Dataset.scala:146)\n",
       "\tat org.apache.spark.sql.classic.SparkSession.$anonfun$sql$5(SparkSession.scala:856)\n",
       "\tat org.apache.spark.sql.SparkSession.withActive(SparkSession.scala:860)\n",
       "\tat org.apache.spark.sql.classic.SparkSession.sql(SparkSession.scala:819)\n",
       "\tat org.apache.spark.sql.connect.planner.SparkConnectPlanner.executeSQL(SparkConnectPlanner.scala:3548)\n",
       "\tat org.apache.spark.sql.connect.planner.SparkConnectPlanner.handleSqlCommand(SparkConnectPlanner.scala:3378)\n",
       "\tat org.apache.spark.sql.connect.planner.SparkConnectPlanner.process(SparkConnectPlanner.scala:3255)\n",
       "\tat org.apache.spark.sql.connect.execution.ExecuteThreadRunner.handleCommand(ExecuteThreadRunner.scala:383)\n",
       "\tat org.apache.spark.util.Utils$.getTryWithCallerStacktrace(Utils.scala:1748)\n",
       "\tat org.apache.spark.util.LazyTry.get(LazyTry.scala:75)\n",
       "\tat org.apache.spark.sql.execution.QueryExecution.executedPlan(QueryExecution.scala:747)\n",
       "\tat com.databricks.spark.sqlgateway.history.SqlExecutionMetrics.$anonfun$setQueryExecution$1(SqlExecutionMetrics.scala:186)\n",
       "\tat scala.Option.flatMap(Option.scala:283)\n",
       "\tat com.databricks.spark.sqlgateway.history.SqlExecutionMetrics.setQueryExecution(SqlExecutionMetrics.scala:186)\n",
       "\tat com.databricks.spark.sqlgateway.history.SqlGatewayHistorySparkListener.$anonfun$onSqlStart$1(SqlGatewayHistorySparkListener.scala:704)\n",
       "\tat scala.runtime.java8.JFunction0$mcV$sp.apply(JFunction0$mcV$sp.scala:18)\n",
       "\tat com.databricks.spark.util.FrameProfiler$.$anonfun$record$1(FrameProfiler.scala:114)\n",
       "\tat com.databricks.spark.util.FrameProfilerExporter$.maybeExportFrameProfiler(FrameProfilerExporter.scala:200)\n",
       "\tat com.databricks.spark.util.FrameProfiler$.record(FrameProfiler.scala:105)\n",
       "\tat com.databricks.spark.sqlgateway.history.SqlGatewayHistorySparkListener.com$databricks$spark$sqlgateway$history$SqlGatewayHistorySparkListener$$onSqlStart(SqlGatewayHistorySparkListener.scala:668)\n",
       "\tat com.databricks.spark.sqlgateway.history.SqlGatewayHistorySparkListener$$anonfun$onOtherEventDefault$1.applyOrElse(SqlGatewayHistorySparkListener.scala:241)\n",
       "\tat com.databricks.spark.sqlgateway.history.SqlGatewayHistorySparkListener$$anonfun$onOtherEventDefault$1.applyOrElse(SqlGatewayHistorySparkListener.scala:229)\n",
       "\tat scala.runtime.AbstractPartialFunction.apply(AbstractPartialFunction.scala:35)\n",
       "\tat com.databricks.spark.sqlgateway.history.utils.RuntimeVersionBridge$$anonfun$onOtherEvent$1.applyOrElse(RuntimeVersionBridge.scala:200)\n",
       "\tat com.databricks.spark.sqlgateway.history.utils.RuntimeVersionBridge$$anonfun$onOtherEvent$1.applyOrElse(RuntimeVersionBridge.scala:200)\n",
       "\tat com.databricks.spark.sqlgateway.history.SqlGatewayHistorySparkListener.$anonfun$onOtherEvent$1(SqlGatewayHistorySparkListener.scala:207)\n",
       "\tat scala.runtime.java8.JFunction0$mcV$sp.apply(JFunction0$mcV$sp.scala:18)\n",
       "\tat com.databricks.spark.util.FrameProfiler$.$anonfun$record$1(FrameProfiler.scala:114)\n",
       "\tat com.databricks.spark.util.FrameProfilerExporter$.maybeExportFrameProfiler(FrameProfilerExporter.scala:200)\n",
       "\tat com.databricks.spark.util.FrameProfiler$.record(FrameProfiler.scala:105)\n",
       "\tat com.databricks.spark.sqlgateway.history.SqlGatewayHistorySparkListener.onOtherEvent(SqlGatewayHistorySparkListener.scala:207)\n",
       "\tat org.apache.spark.scheduler.SparkListenerBus.doPostEvent(SparkListenerBus.scala:108)\n",
       "\tat org.apache.spark.scheduler.SparkListenerBus.doPostEvent$(SparkListenerBus.scala:28)\n",
       "\tat org.apache.spark.scheduler.AsyncEventQueue.doPostEvent(AsyncEventQueue.scala:46)\n",
       "\tat org.apache.spark.scheduler.AsyncEventQueue.doPostEvent(AsyncEventQueue.scala:46)\n",
       "\tat org.apache.spark.util.ListenerBus.postToAll(ListenerBus.scala:208)\n",
       "\tat org.apache.spark.util.ListenerBus.postToAll$(ListenerBus.scala:172)\n",
       "\tat org.apache.spark.scheduler.AsyncEventQueue.super$postToAll(AsyncEventQueue.scala:130)\n",
       "\tat org.apache.spark.scheduler.AsyncEventQueue.$anonfun$dispatch$1(AsyncEventQueue.scala:130)\n",
       "\tat scala.runtime.java8.JFunction0$mcJ$sp.apply(JFunction0$mcJ$sp.scala:17)\n",
       "\tat scala.util.DynamicVariable.withValue(DynamicVariable.scala:59)\n",
       "\tat org.apache.spark.scheduler.AsyncEventQueue.org$apache$spark$scheduler$AsyncEventQueue$$dispatch(AsyncEventQueue.scala:116)\n",
       "\tat org.apache.spark.scheduler.AsyncEventQueue$$anon$2.$anonfun$run$1(AsyncEventQueue.scala:112)\n",
       "\tat org.apache.spark.util.Utils$.tryOrStopSparkContext(Utils.scala:1575)\n",
       "\tat org.apache.spark.scheduler.AsyncEventQueue$$anon$2.run(AsyncEventQueue.scala:112)"
      ]
     },
     "metadata": {
      "application/vnd.databricks.v1+output": {
       "addedWidgets": {},
       "arguments": {},
       "datasetInfos": [],
       "jupyterProps": {
        "ename": "AnalysisException",
        "evalue": "[FIELD_ALREADY_EXISTS] Cannot add column, because `fixed` already exists in \"STRUCT<reading_id: STRING, aircraft_id: STRING, event_ts: TIMESTAMP, event_date: TIMESTAMP, engine_pos: INT, phase_of_flight: STRING, altitude_ft: INT, ias_kts: INT, egt_c: DOUBLE, n1_pct: DOUBLE, fuel_flow_kg_h: DOUBLE, vib_ips: DOUBLE, fixed: BOOLEAN, type_fix: STRING, date_fix: TIMESTAMP, fix_version: INT>\". SQLSTATE: 42710; line 1 pos 0;\nAddColumns [QualifiedColType(None,fixed,BooleanType,true,None,None,None,None), QualifiedColType(None,type_fix,StringType,true,None,None,None,None), QualifiedColType(None,date_fix,TimestampType,true,None,None,None,None), QualifiedColType(None,fix_version,IntegerType,true,None,None,None,None)]\n+- ResolvedTable com.databricks.sql.managedcatalog.UnityCatalogV2Proxy@51565a9f, layer30_silver_quarantine.fact_engine_sensor_quarantine, DeltaTableV2(org.apache.spark.sql.classic.SparkSession@2793b043,s3://dbstorage-prod-nmmp3/uc/3e454ef6-0234-431e-bba1-372858b87e1c/24251221-5fcd-4ccf-90bc-f7e819553b47/__unitystorage/catalogs/f810eb45-31c5-4f39-99ab-8f397a903f92/tables/ade706d7-1adc-4817-a142-401c63b86325,Some(CatalogTable(\nCatalog: sesion1_2\nDatabase: layer30_silver_quarantine\nTable: fact_engine_sensor_quarantine\nOwner: 251008javiceste@gmail.com\nCreated Time: Thu Oct 09 11:44:48 UTC 2025\nLast Access: UNKNOWN\nCreated By: Spark \nType: MANAGED\nProvider: delta\nCollation: UTF8_BINARY\nTable Properties: [collation=UTF8_BINARY, delta.enableDeletionVectors=true, delta.feature.appendOnly=supported, delta.feature.deletionVectors=supported, delta.feature.invariants=supported, delta.lastCommitTimestamp=1760079228000, delta.lastUpdateVersion=7, delta.minReaderVersion=3, delta.minWriterVersion=7]\nStatistics: 26856 bytes, 81 rows\nLocation: s3://dbstorage-prod-nmmp3/uc/3e454ef6-0234-431e-bba1-372858b87e1c/24251221-5fcd-4ccf-90bc-f7e819553b47/__unitystorage/catalogs/f810eb45-31c5-4f39-99ab-8f397a903f92/tables/ade706d7-1adc-4817-a142-401c63b86325\nPartition Provider: Catalog\nSchema: root\n |-- reading_id: string (nullable = true)\n |-- aircraft_id: string (nullable = true)\n |-- event_ts: timestamp (nullable = true)\n |-- event_date: timestamp (nullable = true)\n |-- engine_pos: integer (nullable = true)\n |-- phase_of_flight: string (nullable = true)\n |-- altitude_ft: integer (nullable = true)\n |-- ias_kts: integer (nullable = true)\n |-- egt_c: double (nullable = true)\n |-- n1_pct: double (nullable = true)\n |-- fuel_flow_kg_h: double (nullable = true)\n |-- vib_ips: double (nullable = true)\n |-- fixed: boolean (nullable = true)\n |-- type_fix: string (nullable = true)\n |-- date_fix: timestamp (nullable = true)\n |-- fix_version: integer (nullable = true)\n\nPredictive Optimization: ENABLE (inherited from METASTORE metastore_aws_us_east_2))),Some(sesion1_2.layer30_silver_quarantine.fact_engine_sensor_quarantine),None,Map()), [reading_id#12631, aircraft_id#12632, event_ts#12633, event_date#12634, engine_pos#12635, phase_of_flight#12636, altitude_ft#12637, ias_kts#12638, egt_c#12639, n1_pct#12640, fuel_flow_kg_h#12641, vib_ips#12642, fixed#12643, type_fix#12644, date_fix#12645, fix_version#12646]\n\n\nJVM stacktrace:\norg.apache.spark.sql.catalyst.ExtendedAnalysisException\n\tat org.apache.spark.sql.catalyst.analysis.package$AnalysisErrorAt.failAnalysis(package.scala:55)\n\tat org.apache.spark.sql.catalyst.analysis.CheckAnalysis.checkColumnNotExists$1(CheckAnalysis.scala:1138)\n\tat org.apache.spark.sql.catalyst.analysis.CheckAnalysis.$anonfun$checkAlterTableCommand$3(CheckAnalysis.scala:1157)\n\tat org.apache.spark.sql.catalyst.analysis.CheckAnalysis.$anonfun$checkAlterTableCommand$3$adapted(CheckAnalysis.scala:1156)\n\tat scala.collection.immutable.List.foreach(List.scala:334)\n\tat org.apache.spark.sql.catalyst.analysis.CheckAnalysis.checkAlterTableCommand(CheckAnalysis.scala:1156)\n\tat org.apache.spark.sql.catalyst.analysis.CheckAnalysis.$anonfun$checkAnalysis0$2(CheckAnalysis.scala:842)\n\tat org.apache.spark.sql.catalyst.analysis.CheckAnalysis.$anonfun$checkAnalysis0$2$adapted(CheckAnalysis.scala:324)\n\tat org.apache.spark.sql.catalyst.trees.TreeNode.foreachUp(TreeNode.scala:312)\n\tat org.apache.spark.sql.catalyst.analysis.CheckAnalysis.checkAnalysis0(CheckAnalysis.scala:324)\n\tat org.apache.spark.sql.catalyst.analysis.CheckAnalysis.checkAnalysis0$(CheckAnalysis.scala:295)\n\tat org.apache.spark.sql.catalyst.analysis.Analyzer.checkAnalysis0(Analyzer.scala:542)\n\tat org.apache.spark.sql.catalyst.analysis.CheckAnalysis.$anonfun$checkAnalysis$1(CheckAnalysis.scala:280)\n\tat scala.runtime.java8.JFunction0$mcV$sp.apply(JFunction0$mcV$sp.scala:18)\n\tat com.databricks.spark.util.FrameProfiler$.$anonfun$record$1(FrameProfiler.scala:114)\n\tat com.databricks.spark.util.FrameProfilerExporter$.maybeExportFrameProfiler(FrameProfilerExporter.scala:200)\n\tat com.databricks.spark.util.FrameProfiler$.record(FrameProfiler.scala:105)\n\tat org.apache.spark.sql.catalyst.analysis.CheckAnalysis.checkAnalysis(CheckAnalysis.scala:266)\n\tat org.apache.spark.sql.catalyst.analysis.CheckAnalysis.checkAnalysis$(CheckAnalysis.scala:262)\n\tat org.apache.spark.sql.catalyst.analysis.Analyzer.checkAnalysis(Analyzer.scala:542)\n\tat org.apache.spark.sql.catalyst.analysis.resolver.HybridAnalyzer.$anonfun$resolveInFixedPoint$1(HybridAnalyzer.scala:413)\n\tat scala.runtime.java8.JFunction0$mcV$sp.apply(JFunction0$mcV$sp.scala:18)\n\tat org.apache.spark.sql.catalyst.QueryPlanningTracker$.withTracker(QueryPlanningTracker.scala:267)\n\tat org.apache.spark.sql.catalyst.analysis.resolver.HybridAnalyzer.resolveInFixedPoint(HybridAnalyzer.scala:413)\n\tat org.apache.spark.sql.catalyst.analysis.resolver.HybridAnalyzer.$anonfun$apply$1(HybridAnalyzer.scala:99)\n\tat org.apache.spark.sql.catalyst.analysis.resolver.HybridAnalyzer.withTrackedAnalyzerBridgeState(HybridAnalyzer.scala:136)\n\tat org.apache.spark.sql.catalyst.analysis.resolver.HybridAnalyzer.apply(HybridAnalyzer.scala:92)\n\tat org.apache.spark.sql.catalyst.analysis.Analyzer.$anonfun$executeAndCheck$2(Analyzer.scala:598)\n\tat org.apache.spark.sql.catalyst.plans.logical.AnalysisHelper$.markInAnalyzer(AnalysisHelper.scala:425)\n\tat org.apache.spark.sql.catalyst.analysis.Analyzer.$anonfun$executeAndCheck$1(Analyzer.scala:598)\n\tat com.databricks.sql.unity.SAMSnapshotHelper$.visitPlansDuringAnalysis(SAMSnapshotHelper.scala:41)\n\tat org.apache.spark.sql.catalyst.analysis.Analyzer.executeAndCheck(Analyzer.scala:591)\n\tat org.apache.spark.sql.execution.QueryExecution.$anonfun$lazyAnalyzed$3(QueryExecution.scala:341)\n\tat com.databricks.spark.util.FrameProfiler$.$anonfun$record$1(FrameProfiler.scala:114)\n\tat com.databricks.spark.util.FrameProfilerExporter$.maybeExportFrameProfiler(FrameProfilerExporter.scala:200)\n\tat com.databricks.spark.util.FrameProfiler$.record(FrameProfiler.scala:105)\n\tat org.apache.spark.sql.catalyst.QueryPlanningTracker.measurePhase(QueryPlanningTracker.scala:675)\n\tat org.apache.spark.sql.execution.QueryExecution.$anonfun$executePhase$8(QueryExecution.scala:826)\n\tat org.apache.spark.sql.execution.SQLExecution$.$anonfun$withExecutionPhase$1(SQLExecution.scala:157)\n\tat com.databricks.logging.AttributionContext$.$anonfun$withValue$1(AttributionContext.scala:328)\n\tat scala.util.DynamicVariable.withValue(DynamicVariable.scala:59)\n\tat com.databricks.logging.AttributionContext$.withValue(AttributionContext.scala:324)\n\tat com.databricks.util.TracingSpanUtils$.$anonfun$withTracing$4(TracingSpanUtils.scala:235)\n\tat com.databricks.util.TracingSpanUtils$.withTracing(TracingSpanUtils.scala:129)\n\tat com.databricks.util.TracingSpanUtils$.withTracing(TracingSpanUtils.scala:233)\n\tat com.databricks.tracing.TracingUtils$.withTracing(TracingUtils.scala:296)\n\tat com.databricks.spark.util.DatabricksTracingHelper.withSpan(DatabricksSparkTracingHelper.scala:115)\n\tat com.databricks.spark.util.DBRTracing$.withSpan(DBRTracing.scala:47)\n\tat org.apache.spark.sql.execution.SQLExecution$.withExecutionPhase(SQLExecution.scala:138)\n\tat org.apache.spark.sql.execution.QueryExecution.$anonfun$executePhase$7(QueryExecution.scala:826)\n\tat org.apache.spark.sql.execution.QueryExecution$.withInternalError(QueryExecution.scala:1472)\n\tat org.apache.spark.sql.execution.QueryExecution.$anonfun$executePhase$5(QueryExecution.scala:819)\n\tat com.databricks.util.LexicalThreadLocal$Handle.runWith(LexicalThreadLocal.scala:63)\n\tat org.apache.spark.sql.execution.QueryExecution.$anonfun$executePhase$4(QueryExecution.scala:816)\n\tat com.databricks.util.LexicalThreadLocal$Handle.runWith(LexicalThreadLocal.scala:63)\n\tat org.apache.spark.sql.execution.QueryExecution.$anonfun$executePhase$3(QueryExecution.scala:816)\n\tat com.databricks.util.LexicalThreadLocal$Handle.runWith(LexicalThreadLocal.scala:63)\n\tat org.apache.spark.sql.execution.QueryExecution.$anonfun$executePhase$2(QueryExecution.scala:815)\n\tat com.databricks.util.LexicalThreadLocal$Handle.runWith(LexicalThreadLocal.scala:63)\n\tat org.apache.spark.sql.execution.QueryExecution.withQueryExecutionId(QueryExecution.scala:803)\n\tat org.apache.spark.sql.execution.QueryExecution.$anonfun$executePhase$1(QueryExecution.scala:814)\n\tat org.apache.spark.sql.SparkSession.withActive(SparkSession.scala:860)\n\tat org.apache.spark.sql.execution.QueryExecution.executePhase(QueryExecution.scala:813)\n\tat org.apache.spark.sql.execution.QueryExecution.$anonfun$lazyAnalyzed$2(QueryExecution.scala:323)\n\tat com.databricks.sql.util.MemoryTrackerHelper.withMemoryTracking(MemoryTrackerHelper.scala:111)\n\tat org.apache.spark.sql.execution.QueryExecution.$anonfun$lazyAnalyzed$1(QueryExecution.scala:322)\n\tat scala.util.Try$.apply(Try.scala:217)\n\tat org.apache.spark.util.Utils$.doTryWithCallerStacktrace(Utils.scala:1687)\n\tat org.apache.spark.util.LazyTry.tryT$lzycompute(LazyTry.scala:60)\n\tat org.apache.spark.util.LazyTry.tryT(LazyTry.scala:59)\n\tat org.apache.spark.util.LazyTry.get(LazyTry.scala:75)\n\tat org.apache.spark.sql.execution.QueryExecution.analyzed(QueryExecution.scala:383)\n\tat org.apache.spark.sql.execution.QueryExecution.assertAnalyzed(QueryExecution.scala:302)\n\tat org.apache.spark.sql.classic.Dataset$.$anonfun$ofRows$3(Dataset.scala:154)\n\tat org.apache.spark.sql.SparkSession.withActive(SparkSession.scala:860)\n\tat org.apache.spark.sql.classic.SparkSession.$anonfun$withActiveAndFrameProfiler$1(SparkSession.scala:1077)\n\tat com.databricks.spark.util.FrameProfiler$.$anonfun$record$1(FrameProfiler.scala:114)\n\tat com.databricks.spark.util.FrameProfilerExporter$.maybeExportFrameProfiler(FrameProfilerExporter.scala:200)\n\tat com.databricks.spark.util.FrameProfiler$.record(FrameProfiler.scala:105)\n\tat org.apache.spark.sql.classic.SparkSession.withActiveAndFrameProfiler(SparkSession.scala:1077)\n\tat org.apache.spark.sql.classic.Dataset$.ofRows(Dataset.scala:146)\n\tat org.apache.spark.sql.classic.SparkSession.$anonfun$sql$5(SparkSession.scala:856)\n\tat org.apache.spark.sql.SparkSession.withActive(SparkSession.scala:860)\n\tat org.apache.spark.sql.classic.SparkSession.sql(SparkSession.scala:819)\n\tat org.apache.spark.sql.connect.planner.SparkConnectPlanner.executeSQL(SparkConnectPlanner.scala:3548)\n\tat org.apache.spark.sql.connect.planner.SparkConnectPlanner.handleSqlCommand(SparkConnectPlanner.scala:3378)\n\tat org.apache.spark.sql.connect.planner.SparkConnectPlanner.process(SparkConnectPlanner.scala:3255)\n\tat org.apache.spark.sql.connect.execution.ExecuteThreadRunner.handleCommand(ExecuteThreadRunner.scala:383)\n\tat org.apache.spark.util.Utils$.getTryWithCallerStacktrace(Utils.scala:1748)\n\tat org.apache.spark.util.LazyTry.get(LazyTry.scala:75)\n\tat org.apache.spark.sql.execution.QueryExecution.executedPlan(QueryExecution.scala:747)\n\tat com.databricks.spark.sqlgateway.history.SqlExecutionMetrics.$anonfun$setQueryExecution$1(SqlExecutionMetrics.scala:186)\n\tat scala.Option.flatMap(Option.scala:283)\n\tat com.databricks.spark.sqlgateway.history.SqlExecutionMetrics.setQueryExecution(SqlExecutionMetrics.scala:186)\n\tat com.databricks.spark.sqlgateway.history.SqlGatewayHistorySparkListener.$anonfun$onSqlStart$1(SqlGatewayHistorySparkListener.scala:704)\n\tat scala.runtime.java8.JFunction0$mcV$sp.apply(JFunction0$mcV$sp.scala:18)\n\tat com.databricks.spark.util.FrameProfiler$.$anonfun$record$1(FrameProfiler.scala:114)\n\tat com.databricks.spark.util.FrameProfilerExporter$.maybeExportFrameProfiler(FrameProfilerExporter.scala:200)\n\tat com.databricks.spark.util.FrameProfiler$.record(FrameProfiler.scala:105)\n\tat com.databricks.spark.sqlgateway.history.SqlGatewayHistorySparkListener.com$databricks$spark$sqlgateway$history$SqlGatewayHistorySparkListener$$onSqlStart(SqlGatewayHistorySparkListener.scala:668)\n\tat com.databricks.spark.sqlgateway.history.SqlGatewayHistorySparkListener$$anonfun$onOtherEventDefault$1.applyOrElse(SqlGatewayHistorySparkListener.scala:241)\n\tat com.databricks.spark.sqlgateway.history.SqlGatewayHistorySparkListener$$anonfun$onOtherEventDefault$1.applyOrElse(SqlGatewayHistorySparkListener.scala:229)\n\tat scala.runtime.AbstractPartialFunction.apply(AbstractPartialFunction.scala:35)\n\tat com.databricks.spark.sqlgateway.history.utils.RuntimeVersionBridge$$anonfun$onOtherEvent$1.applyOrElse(RuntimeVersionBridge.scala:200)\n\tat com.databricks.spark.sqlgateway.history.utils.RuntimeVersionBridge$$anonfun$onOtherEvent$1.applyOrElse(RuntimeVersionBridge.scala:200)\n\tat com.databricks.spark.sqlgateway.history.SqlGatewayHistorySparkListener.$anonfun$onOtherEvent$1(SqlGatewayHistorySparkListener.scala:207)\n\tat scala.runtime.java8.JFunction0$mcV$sp.apply(JFunction0$mcV$sp.scala:18)\n\tat com.databricks.spark.util.FrameProfiler$.$anonfun$record$1(FrameProfiler.scala:114)\n\tat com.databricks.spark.util.FrameProfilerExporter$.maybeExportFrameProfiler(FrameProfilerExporter.scala:200)\n\tat com.databricks.spark.util.FrameProfiler$.record(FrameProfiler.scala:105)\n\tat com.databricks.spark.sqlgateway.history.SqlGatewayHistorySparkListener.onOtherEvent(SqlGatewayHistorySparkListener.scala:207)\n\tat org.apache.spark.scheduler.SparkListenerBus.doPostEvent(SparkListenerBus.scala:108)\n\tat org.apache.spark.scheduler.SparkListenerBus.doPostEvent$(SparkListenerBus.scala:28)\n\tat org.apache.spark.scheduler.AsyncEventQueue.doPostEvent(AsyncEventQueue.scala:46)\n\tat org.apache.spark.scheduler.AsyncEventQueue.doPostEvent(AsyncEventQueue.scala:46)\n\tat org.apache.spark.util.ListenerBus.postToAll(ListenerBus.scala:208)\n\tat org.apache.spark.util.ListenerBus.postToAll$(ListenerBus.scala:172)\n\tat org.apache.spark.scheduler.AsyncEventQueue.super$postToAll(AsyncEventQueue.scala:130)\n\tat org.apache.spark.scheduler.AsyncEventQueue.$anonfun$dispatch$1(AsyncEventQueue.scala:130)\n\tat scala.runtime.java8.JFunction0$mcJ$sp.apply(JFunction0$mcJ$sp.scala:17)\n\tat scala.util.DynamicVariable.withValue(DynamicVariable.scala:59)\n\tat org.apache.spark.scheduler.AsyncEventQueue.org$apache$spark$scheduler$AsyncEventQueue$$dispatch(AsyncEventQueue.scala:116)\n\tat org.apache.spark.scheduler.AsyncEventQueue$$anon$2.$anonfun$run$1(AsyncEventQueue.scala:112)\n\tat org.apache.spark.util.Utils$.tryOrStopSparkContext(Utils.scala:1575)\n\tat org.apache.spark.scheduler.AsyncEventQueue$$anon$2.run(AsyncEventQueue.scala:112)"
       },
       "metadata": {
        "errorSummary": "[FIELD_ALREADY_EXISTS] Cannot add column, because `fixed` already exists in \"STRUCT<reading_id: STRING, aircraft_id: STRING, event_ts: TIMESTAMP, event_date: TIMESTAMP, engine_pos: INT, phase_of_flight: STRING, altitude_ft: INT, ias_kts: INT, egt_c: DOUBLE, n1_pct: DOUBLE, fuel_flow_kg_h: DOUBLE, vib_ips: DOUBLE, fixed: BOOLEAN, type_fix: STRING, date_fix: TIMESTAMP, fix_version: INT>\". SQLSTATE: 42710\n== SQL (line 1, position 1) ==\nALTER TABLE sesion1_2.layer30_silver_quarantine.fact_engine_sensor_quarantine\n^^^^^^^^^^^^^^^^^^^^^^^^^^^^^^^^^^^^^^^^^^^^^^^^^^^^^^^^^^^^^^^^^^^^^^^^^^^^^\nADD COLUMNS (\n^^^^^^^^^^^^^\n  fixed BOOLEAN,\n^^^^^^^^^^^^^^^^\n  type_fix STRING,\n^^^^^^^^^^^^^^^^^^\n  date_fix TIMESTAMP,\n^^^^^^^^^^^^^^^^^^^^^\n  fix_version INT\n^^^^^^^^^^^^^^^^^\n)\n^\n"
       },
       "removedWidgets": [],
       "sqlProps": {
        "breakingChangeInfo": null,
        "errorClass": "FIELD_ALREADY_EXISTS",
        "pysparkCallSite": "",
        "pysparkFragment": "",
        "pysparkSummary": "== SQL (line 1, position 1) ==\nALTER TABLE sesion1_2.layer30_silver_quarantine.fact_engine_sensor_quarantine\n^^^^^^^^^^^^^^^^^^^^^^^^^^^^^^^^^^^^^^^^^^^^^^^^^^^^^^^^^^^^^^^^^^^^^^^^^^^^^\nADD COLUMNS (\n^^^^^^^^^^^^^\n  fixed BOOLEAN,\n^^^^^^^^^^^^^^^^\n  type_fix STRING,\n^^^^^^^^^^^^^^^^^^\n  date_fix TIMESTAMP,\n^^^^^^^^^^^^^^^^^^^^^\n  fix_version INT\n^^^^^^^^^^^^^^^^^\n)\n^\n",
        "sqlState": "42710",
        "stackTrace": "org.apache.spark.sql.catalyst.ExtendedAnalysisException\n\tat org.apache.spark.sql.catalyst.analysis.package$AnalysisErrorAt.failAnalysis(package.scala:55)\n\tat org.apache.spark.sql.catalyst.analysis.CheckAnalysis.checkColumnNotExists$1(CheckAnalysis.scala:1138)\n\tat org.apache.spark.sql.catalyst.analysis.CheckAnalysis.$anonfun$checkAlterTableCommand$3(CheckAnalysis.scala:1157)\n\tat org.apache.spark.sql.catalyst.analysis.CheckAnalysis.$anonfun$checkAlterTableCommand$3$adapted(CheckAnalysis.scala:1156)\n\tat scala.collection.immutable.List.foreach(List.scala:334)\n\tat org.apache.spark.sql.catalyst.analysis.CheckAnalysis.checkAlterTableCommand(CheckAnalysis.scala:1156)\n\tat org.apache.spark.sql.catalyst.analysis.CheckAnalysis.$anonfun$checkAnalysis0$2(CheckAnalysis.scala:842)\n\tat org.apache.spark.sql.catalyst.analysis.CheckAnalysis.$anonfun$checkAnalysis0$2$adapted(CheckAnalysis.scala:324)\n\tat org.apache.spark.sql.catalyst.trees.TreeNode.foreachUp(TreeNode.scala:312)\n\tat org.apache.spark.sql.catalyst.analysis.CheckAnalysis.checkAnalysis0(CheckAnalysis.scala:324)\n\tat org.apache.spark.sql.catalyst.analysis.CheckAnalysis.checkAnalysis0$(CheckAnalysis.scala:295)\n\tat org.apache.spark.sql.catalyst.analysis.Analyzer.checkAnalysis0(Analyzer.scala:542)\n\tat org.apache.spark.sql.catalyst.analysis.CheckAnalysis.$anonfun$checkAnalysis$1(CheckAnalysis.scala:280)\n\tat scala.runtime.java8.JFunction0$mcV$sp.apply(JFunction0$mcV$sp.scala:18)\n\tat com.databricks.spark.util.FrameProfiler$.$anonfun$record$1(FrameProfiler.scala:114)\n\tat com.databricks.spark.util.FrameProfilerExporter$.maybeExportFrameProfiler(FrameProfilerExporter.scala:200)\n\tat com.databricks.spark.util.FrameProfiler$.record(FrameProfiler.scala:105)\n\tat org.apache.spark.sql.catalyst.analysis.CheckAnalysis.checkAnalysis(CheckAnalysis.scala:266)\n\tat org.apache.spark.sql.catalyst.analysis.CheckAnalysis.checkAnalysis$(CheckAnalysis.scala:262)\n\tat org.apache.spark.sql.catalyst.analysis.Analyzer.checkAnalysis(Analyzer.scala:542)\n\tat org.apache.spark.sql.catalyst.analysis.resolver.HybridAnalyzer.$anonfun$resolveInFixedPoint$1(HybridAnalyzer.scala:413)\n\tat scala.runtime.java8.JFunction0$mcV$sp.apply(JFunction0$mcV$sp.scala:18)\n\tat org.apache.spark.sql.catalyst.QueryPlanningTracker$.withTracker(QueryPlanningTracker.scala:267)\n\tat org.apache.spark.sql.catalyst.analysis.resolver.HybridAnalyzer.resolveInFixedPoint(HybridAnalyzer.scala:413)\n\tat org.apache.spark.sql.catalyst.analysis.resolver.HybridAnalyzer.$anonfun$apply$1(HybridAnalyzer.scala:99)\n\tat org.apache.spark.sql.catalyst.analysis.resolver.HybridAnalyzer.withTrackedAnalyzerBridgeState(HybridAnalyzer.scala:136)\n\tat org.apache.spark.sql.catalyst.analysis.resolver.HybridAnalyzer.apply(HybridAnalyzer.scala:92)\n\tat org.apache.spark.sql.catalyst.analysis.Analyzer.$anonfun$executeAndCheck$2(Analyzer.scala:598)\n\tat org.apache.spark.sql.catalyst.plans.logical.AnalysisHelper$.markInAnalyzer(AnalysisHelper.scala:425)\n\tat org.apache.spark.sql.catalyst.analysis.Analyzer.$anonfun$executeAndCheck$1(Analyzer.scala:598)\n\tat com.databricks.sql.unity.SAMSnapshotHelper$.visitPlansDuringAnalysis(SAMSnapshotHelper.scala:41)\n\tat org.apache.spark.sql.catalyst.analysis.Analyzer.executeAndCheck(Analyzer.scala:591)\n\tat org.apache.spark.sql.execution.QueryExecution.$anonfun$lazyAnalyzed$3(QueryExecution.scala:341)\n\tat com.databricks.spark.util.FrameProfiler$.$anonfun$record$1(FrameProfiler.scala:114)\n\tat com.databricks.spark.util.FrameProfilerExporter$.maybeExportFrameProfiler(FrameProfilerExporter.scala:200)\n\tat com.databricks.spark.util.FrameProfiler$.record(FrameProfiler.scala:105)\n\tat org.apache.spark.sql.catalyst.QueryPlanningTracker.measurePhase(QueryPlanningTracker.scala:675)\n\tat org.apache.spark.sql.execution.QueryExecution.$anonfun$executePhase$8(QueryExecution.scala:826)\n\tat org.apache.spark.sql.execution.SQLExecution$.$anonfun$withExecutionPhase$1(SQLExecution.scala:157)\n\tat com.databricks.logging.AttributionContext$.$anonfun$withValue$1(AttributionContext.scala:328)\n\tat scala.util.DynamicVariable.withValue(DynamicVariable.scala:59)\n\tat com.databricks.logging.AttributionContext$.withValue(AttributionContext.scala:324)\n\tat com.databricks.util.TracingSpanUtils$.$anonfun$withTracing$4(TracingSpanUtils.scala:235)\n\tat com.databricks.util.TracingSpanUtils$.withTracing(TracingSpanUtils.scala:129)\n\tat com.databricks.util.TracingSpanUtils$.withTracing(TracingSpanUtils.scala:233)\n\tat com.databricks.tracing.TracingUtils$.withTracing(TracingUtils.scala:296)\n\tat com.databricks.spark.util.DatabricksTracingHelper.withSpan(DatabricksSparkTracingHelper.scala:115)\n\tat com.databricks.spark.util.DBRTracing$.withSpan(DBRTracing.scala:47)\n\tat org.apache.spark.sql.execution.SQLExecution$.withExecutionPhase(SQLExecution.scala:138)\n\tat org.apache.spark.sql.execution.QueryExecution.$anonfun$executePhase$7(QueryExecution.scala:826)\n\tat org.apache.spark.sql.execution.QueryExecution$.withInternalError(QueryExecution.scala:1472)\n\tat org.apache.spark.sql.execution.QueryExecution.$anonfun$executePhase$5(QueryExecution.scala:819)\n\tat com.databricks.util.LexicalThreadLocal$Handle.runWith(LexicalThreadLocal.scala:63)\n\tat org.apache.spark.sql.execution.QueryExecution.$anonfun$executePhase$4(QueryExecution.scala:816)\n\tat com.databricks.util.LexicalThreadLocal$Handle.runWith(LexicalThreadLocal.scala:63)\n\tat org.apache.spark.sql.execution.QueryExecution.$anonfun$executePhase$3(QueryExecution.scala:816)\n\tat com.databricks.util.LexicalThreadLocal$Handle.runWith(LexicalThreadLocal.scala:63)\n\tat org.apache.spark.sql.execution.QueryExecution.$anonfun$executePhase$2(QueryExecution.scala:815)\n\tat com.databricks.util.LexicalThreadLocal$Handle.runWith(LexicalThreadLocal.scala:63)\n\tat org.apache.spark.sql.execution.QueryExecution.withQueryExecutionId(QueryExecution.scala:803)\n\tat org.apache.spark.sql.execution.QueryExecution.$anonfun$executePhase$1(QueryExecution.scala:814)\n\tat org.apache.spark.sql.SparkSession.withActive(SparkSession.scala:860)\n\tat org.apache.spark.sql.execution.QueryExecution.executePhase(QueryExecution.scala:813)\n\tat org.apache.spark.sql.execution.QueryExecution.$anonfun$lazyAnalyzed$2(QueryExecution.scala:323)\n\tat com.databricks.sql.util.MemoryTrackerHelper.withMemoryTracking(MemoryTrackerHelper.scala:111)\n\tat org.apache.spark.sql.execution.QueryExecution.$anonfun$lazyAnalyzed$1(QueryExecution.scala:322)\n\tat scala.util.Try$.apply(Try.scala:217)\n\tat org.apache.spark.util.Utils$.doTryWithCallerStacktrace(Utils.scala:1687)\n\tat org.apache.spark.util.LazyTry.tryT$lzycompute(LazyTry.scala:60)\n\tat org.apache.spark.util.LazyTry.tryT(LazyTry.scala:59)\n\tat org.apache.spark.util.LazyTry.get(LazyTry.scala:75)\n\tat org.apache.spark.sql.execution.QueryExecution.analyzed(QueryExecution.scala:383)\n\tat org.apache.spark.sql.execution.QueryExecution.assertAnalyzed(QueryExecution.scala:302)\n\tat org.apache.spark.sql.classic.Dataset$.$anonfun$ofRows$3(Dataset.scala:154)\n\tat org.apache.spark.sql.SparkSession.withActive(SparkSession.scala:860)\n\tat org.apache.spark.sql.classic.SparkSession.$anonfun$withActiveAndFrameProfiler$1(SparkSession.scala:1077)\n\tat com.databricks.spark.util.FrameProfiler$.$anonfun$record$1(FrameProfiler.scala:114)\n\tat com.databricks.spark.util.FrameProfilerExporter$.maybeExportFrameProfiler(FrameProfilerExporter.scala:200)\n\tat com.databricks.spark.util.FrameProfiler$.record(FrameProfiler.scala:105)\n\tat org.apache.spark.sql.classic.SparkSession.withActiveAndFrameProfiler(SparkSession.scala:1077)\n\tat org.apache.spark.sql.classic.Dataset$.ofRows(Dataset.scala:146)\n\tat org.apache.spark.sql.classic.SparkSession.$anonfun$sql$5(SparkSession.scala:856)\n\tat org.apache.spark.sql.SparkSession.withActive(SparkSession.scala:860)\n\tat org.apache.spark.sql.classic.SparkSession.sql(SparkSession.scala:819)\n\tat org.apache.spark.sql.connect.planner.SparkConnectPlanner.executeSQL(SparkConnectPlanner.scala:3548)\n\tat org.apache.spark.sql.connect.planner.SparkConnectPlanner.handleSqlCommand(SparkConnectPlanner.scala:3378)\n\tat org.apache.spark.sql.connect.planner.SparkConnectPlanner.process(SparkConnectPlanner.scala:3255)\n\tat org.apache.spark.sql.connect.execution.ExecuteThreadRunner.handleCommand(ExecuteThreadRunner.scala:383)\n\tat org.apache.spark.util.Utils$.getTryWithCallerStacktrace(Utils.scala:1748)\n\tat org.apache.spark.util.LazyTry.get(LazyTry.scala:75)\n\tat org.apache.spark.sql.execution.QueryExecution.executedPlan(QueryExecution.scala:747)\n\tat com.databricks.spark.sqlgateway.history.SqlExecutionMetrics.$anonfun$setQueryExecution$1(SqlExecutionMetrics.scala:186)\n\tat scala.Option.flatMap(Option.scala:283)\n\tat com.databricks.spark.sqlgateway.history.SqlExecutionMetrics.setQueryExecution(SqlExecutionMetrics.scala:186)\n\tat com.databricks.spark.sqlgateway.history.SqlGatewayHistorySparkListener.$anonfun$onSqlStart$1(SqlGatewayHistorySparkListener.scala:704)\n\tat scala.runtime.java8.JFunction0$mcV$sp.apply(JFunction0$mcV$sp.scala:18)\n\tat com.databricks.spark.util.FrameProfiler$.$anonfun$record$1(FrameProfiler.scala:114)\n\tat com.databricks.spark.util.FrameProfilerExporter$.maybeExportFrameProfiler(FrameProfilerExporter.scala:200)\n\tat com.databricks.spark.util.FrameProfiler$.record(FrameProfiler.scala:105)\n\tat com.databricks.spark.sqlgateway.history.SqlGatewayHistorySparkListener.com$databricks$spark$sqlgateway$history$SqlGatewayHistorySparkListener$$onSqlStart(SqlGatewayHistorySparkListener.scala:668)\n\tat com.databricks.spark.sqlgateway.history.SqlGatewayHistorySparkListener$$anonfun$onOtherEventDefault$1.applyOrElse(SqlGatewayHistorySparkListener.scala:241)\n\tat com.databricks.spark.sqlgateway.history.SqlGatewayHistorySparkListener$$anonfun$onOtherEventDefault$1.applyOrElse(SqlGatewayHistorySparkListener.scala:229)\n\tat scala.runtime.AbstractPartialFunction.apply(AbstractPartialFunction.scala:35)\n\tat com.databricks.spark.sqlgateway.history.utils.RuntimeVersionBridge$$anonfun$onOtherEvent$1.applyOrElse(RuntimeVersionBridge.scala:200)\n\tat com.databricks.spark.sqlgateway.history.utils.RuntimeVersionBridge$$anonfun$onOtherEvent$1.applyOrElse(RuntimeVersionBridge.scala:200)\n\tat com.databricks.spark.sqlgateway.history.SqlGatewayHistorySparkListener.$anonfun$onOtherEvent$1(SqlGatewayHistorySparkListener.scala:207)\n\tat scala.runtime.java8.JFunction0$mcV$sp.apply(JFunction0$mcV$sp.scala:18)\n\tat com.databricks.spark.util.FrameProfiler$.$anonfun$record$1(FrameProfiler.scala:114)\n\tat com.databricks.spark.util.FrameProfilerExporter$.maybeExportFrameProfiler(FrameProfilerExporter.scala:200)\n\tat com.databricks.spark.util.FrameProfiler$.record(FrameProfiler.scala:105)\n\tat com.databricks.spark.sqlgateway.history.SqlGatewayHistorySparkListener.onOtherEvent(SqlGatewayHistorySparkListener.scala:207)\n\tat org.apache.spark.scheduler.SparkListenerBus.doPostEvent(SparkListenerBus.scala:108)\n\tat org.apache.spark.scheduler.SparkListenerBus.doPostEvent$(SparkListenerBus.scala:28)\n\tat org.apache.spark.scheduler.AsyncEventQueue.doPostEvent(AsyncEventQueue.scala:46)\n\tat org.apache.spark.scheduler.AsyncEventQueue.doPostEvent(AsyncEventQueue.scala:46)\n\tat org.apache.spark.util.ListenerBus.postToAll(ListenerBus.scala:208)\n\tat org.apache.spark.util.ListenerBus.postToAll$(ListenerBus.scala:172)\n\tat org.apache.spark.scheduler.AsyncEventQueue.super$postToAll(AsyncEventQueue.scala:130)\n\tat org.apache.spark.scheduler.AsyncEventQueue.$anonfun$dispatch$1(AsyncEventQueue.scala:130)\n\tat scala.runtime.java8.JFunction0$mcJ$sp.apply(JFunction0$mcJ$sp.scala:17)\n\tat scala.util.DynamicVariable.withValue(DynamicVariable.scala:59)\n\tat org.apache.spark.scheduler.AsyncEventQueue.org$apache$spark$scheduler$AsyncEventQueue$$dispatch(AsyncEventQueue.scala:116)\n\tat org.apache.spark.scheduler.AsyncEventQueue$$anon$2.$anonfun$run$1(AsyncEventQueue.scala:112)\n\tat org.apache.spark.util.Utils$.tryOrStopSparkContext(Utils.scala:1575)\n\tat org.apache.spark.scheduler.AsyncEventQueue$$anon$2.run(AsyncEventQueue.scala:112)",
        "startIndex": 0,
        "stopIndex": 168
       },
       "stackFrames": [
        "\u001B[0;31m---------------------------------------------------------------------------\u001B[0m",
        "\u001B[0;31mAnalysisException\u001B[0m                         Traceback (most recent call last)",
        "File \u001B[0;32m<command-4819517383387231>, line 1\u001B[0m\n\u001B[0;32m----> 1\u001B[0m get_ipython()\u001B[38;5;241m.\u001B[39mrun_cell_magic(\u001B[38;5;124m'\u001B[39m\u001B[38;5;124msql\u001B[39m\u001B[38;5;124m'\u001B[39m, \u001B[38;5;124m'\u001B[39m\u001B[38;5;124m'\u001B[39m, \u001B[38;5;124m'\u001B[39m\u001B[38;5;124mALTER TABLE sesion1_2.layer30_silver_quarantine.fact_engine_sensor_quarantine\u001B[39m\u001B[38;5;130;01m\\n\u001B[39;00m\u001B[38;5;124mADD COLUMNS (\u001B[39m\u001B[38;5;130;01m\\n\u001B[39;00m\u001B[38;5;124m  fixed BOOLEAN,\u001B[39m\u001B[38;5;130;01m\\n\u001B[39;00m\u001B[38;5;124m  type_fix STRING,\u001B[39m\u001B[38;5;130;01m\\n\u001B[39;00m\u001B[38;5;124m  date_fix TIMESTAMP,\u001B[39m\u001B[38;5;130;01m\\n\u001B[39;00m\u001B[38;5;124m  fix_version INT\u001B[39m\u001B[38;5;130;01m\\n\u001B[39;00m\u001B[38;5;124m);\u001B[39m\u001B[38;5;130;01m\\n\u001B[39;00m\u001B[38;5;124m'\u001B[39m)\n",
        "File \u001B[0;32m/databricks/python/lib/python3.12/site-packages/IPython/core/interactiveshell.py:2543\u001B[0m, in \u001B[0;36mInteractiveShell.run_cell_magic\u001B[0;34m(self, magic_name, line, cell)\u001B[0m\n\u001B[1;32m   2541\u001B[0m \u001B[38;5;28;01mwith\u001B[39;00m \u001B[38;5;28mself\u001B[39m\u001B[38;5;241m.\u001B[39mbuiltin_trap:\n\u001B[1;32m   2542\u001B[0m     args \u001B[38;5;241m=\u001B[39m (magic_arg_s, cell)\n\u001B[0;32m-> 2543\u001B[0m     result \u001B[38;5;241m=\u001B[39m fn(\u001B[38;5;241m*\u001B[39margs, \u001B[38;5;241m*\u001B[39m\u001B[38;5;241m*\u001B[39mkwargs)\n\u001B[1;32m   2545\u001B[0m \u001B[38;5;66;03m# The code below prevents the output from being displayed\u001B[39;00m\n\u001B[1;32m   2546\u001B[0m \u001B[38;5;66;03m# when using magics with decorator @output_can_be_silenced\u001B[39;00m\n\u001B[1;32m   2547\u001B[0m \u001B[38;5;66;03m# when the last Python token in the expression is a ';'.\u001B[39;00m\n\u001B[1;32m   2548\u001B[0m \u001B[38;5;28;01mif\u001B[39;00m \u001B[38;5;28mgetattr\u001B[39m(fn, magic\u001B[38;5;241m.\u001B[39mMAGIC_OUTPUT_CAN_BE_SILENCED, \u001B[38;5;28;01mFalse\u001B[39;00m):\n",
        "File \u001B[0;32m/databricks/python_shell/lib/dbruntime/sql_magic/sql_magic.py:135\u001B[0m, in \u001B[0;36mSqlMagic.sql\u001B[0;34m(self, line, cell)\u001B[0m\n\u001B[1;32m    129\u001B[0m \u001B[38;5;28;01mexcept\u001B[39;00m \u001B[38;5;167;01mBaseException\u001B[39;00m \u001B[38;5;28;01mas\u001B[39;00m e:\n\u001B[1;32m    130\u001B[0m     \u001B[38;5;28mself\u001B[39m\u001B[38;5;241m.\u001B[39mdriver_activity_logger\u001B[38;5;241m.\u001B[39mlogExecuteCommandEvent(\n\u001B[1;32m    131\u001B[0m         \u001B[38;5;124m\"\u001B[39m\u001B[38;5;124mSQL_MAGIC_PY4J_FAILED\u001B[39m\u001B[38;5;124m\"\u001B[39m,\n\u001B[1;32m    132\u001B[0m         exceptionClassName\u001B[38;5;241m=\u001B[39me\u001B[38;5;241m.\u001B[39m\u001B[38;5;18m__class__\u001B[39m\u001B[38;5;241m.\u001B[39m\u001B[38;5;18m__name__\u001B[39m,\n\u001B[1;32m    133\u001B[0m         sqlState\u001B[38;5;241m=\u001B[39msafe_call(e, \u001B[38;5;124m\"\u001B[39m\u001B[38;5;124mgetSqlState\u001B[39m\u001B[38;5;124m\"\u001B[39m),\n\u001B[1;32m    134\u001B[0m         errorClass\u001B[38;5;241m=\u001B[39msafe_call(e, \u001B[38;5;124m\"\u001B[39m\u001B[38;5;124mgetCondition\u001B[39m\u001B[38;5;124m\"\u001B[39m))\n\u001B[0;32m--> 135\u001B[0m     \u001B[38;5;28;01mraise\u001B[39;00m e\n\u001B[1;32m    136\u001B[0m \u001B[38;5;28mself\u001B[39m\u001B[38;5;241m.\u001B[39mdriver_activity_logger\u001B[38;5;241m.\u001B[39mlogExecuteCommandEvent(\u001B[38;5;124m\"\u001B[39m\u001B[38;5;124mSQL_MAGIC_PY4J_SUCCEEDED\u001B[39m\u001B[38;5;124m\"\u001B[39m)\n\u001B[1;32m    137\u001B[0m \u001B[38;5;28;01mreturn\u001B[39;00m result\n",
        "File \u001B[0;32m/databricks/python_shell/lib/dbruntime/sql_magic/sql_magic.py:128\u001B[0m, in \u001B[0;36mSqlMagic.sql\u001B[0;34m(self, line, cell)\u001B[0m\n\u001B[1;32m    126\u001B[0m         query_text \u001B[38;5;241m=\u001B[39m sub_query\u001B[38;5;241m.\u001B[39mquery()\n\u001B[1;32m    127\u001B[0m         sql_directive \u001B[38;5;241m=\u001B[39m \u001B[38;5;28mself\u001B[39m\u001B[38;5;241m.\u001B[39mentry_point\u001B[38;5;241m.\u001B[39mgetSqlDirective(query_text)\n\u001B[0;32m--> 128\u001B[0m         result \u001B[38;5;241m=\u001B[39m \u001B[38;5;28mself\u001B[39m\u001B[38;5;241m.\u001B[39mhandle_sql_directive(sql_directive, i \u001B[38;5;241m==\u001B[39m number_of_sub_queries \u001B[38;5;241m-\u001B[39m \u001B[38;5;241m1\u001B[39m)\n\u001B[1;32m    129\u001B[0m \u001B[38;5;28;01mexcept\u001B[39;00m \u001B[38;5;167;01mBaseException\u001B[39;00m \u001B[38;5;28;01mas\u001B[39;00m e:\n\u001B[1;32m    130\u001B[0m     \u001B[38;5;28mself\u001B[39m\u001B[38;5;241m.\u001B[39mdriver_activity_logger\u001B[38;5;241m.\u001B[39mlogExecuteCommandEvent(\n\u001B[1;32m    131\u001B[0m         \u001B[38;5;124m\"\u001B[39m\u001B[38;5;124mSQL_MAGIC_PY4J_FAILED\u001B[39m\u001B[38;5;124m\"\u001B[39m,\n\u001B[1;32m    132\u001B[0m         exceptionClassName\u001B[38;5;241m=\u001B[39me\u001B[38;5;241m.\u001B[39m\u001B[38;5;18m__class__\u001B[39m\u001B[38;5;241m.\u001B[39m\u001B[38;5;18m__name__\u001B[39m,\n\u001B[1;32m    133\u001B[0m         sqlState\u001B[38;5;241m=\u001B[39msafe_call(e, \u001B[38;5;124m\"\u001B[39m\u001B[38;5;124mgetSqlState\u001B[39m\u001B[38;5;124m\"\u001B[39m),\n\u001B[1;32m    134\u001B[0m         errorClass\u001B[38;5;241m=\u001B[39msafe_call(e, \u001B[38;5;124m\"\u001B[39m\u001B[38;5;124mgetCondition\u001B[39m\u001B[38;5;124m\"\u001B[39m))\n",
        "File \u001B[0;32m/databricks/python_shell/lib/dbruntime/sql_magic/sql_magic.py:155\u001B[0m, in \u001B[0;36mSqlMagic.handle_sql_directive\u001B[0;34m(self, sql_directive, is_last_query)\u001B[0m\n\u001B[1;32m    152\u001B[0m query \u001B[38;5;241m=\u001B[39m sql_directive\u001B[38;5;241m.\u001B[39msql()\n\u001B[1;32m    153\u001B[0m \u001B[38;5;28mself\u001B[39m\u001B[38;5;241m.\u001B[39m_register_udf_if_needed(\n\u001B[1;32m    154\u001B[0m     query, \u001B[38;5;28mself\u001B[39m\u001B[38;5;241m.\u001B[39mentry_point\u001B[38;5;241m.\u001B[39mescapeWidgetValues(\u001B[38;5;28mself\u001B[39m\u001B[38;5;241m.\u001B[39mdbutils\u001B[38;5;241m.\u001B[39mwidgets\u001B[38;5;241m.\u001B[39mgetAll()))\n\u001B[0;32m--> 155\u001B[0m df \u001B[38;5;241m=\u001B[39m \u001B[38;5;28mself\u001B[39m\u001B[38;5;241m.\u001B[39mget_query_request_result(query)\n\u001B[1;32m    156\u001B[0m \u001B[38;5;28;01mif\u001B[39;00m df \u001B[38;5;129;01mis\u001B[39;00m \u001B[38;5;28;01mNone\u001B[39;00m \u001B[38;5;129;01mor\u001B[39;00m \u001B[38;5;28mlen\u001B[39m(df\u001B[38;5;241m.\u001B[39mschema) \u001B[38;5;241m==\u001B[39m \u001B[38;5;241m0\u001B[39m:\n\u001B[1;32m    157\u001B[0m     \u001B[38;5;66;03m# E.g. \"create or replace temp view abc as select 1\" gets us here and we should not return a result in this case.\u001B[39;00m\n\u001B[1;32m    158\u001B[0m     \u001B[38;5;28;01mreturn\u001B[39;00m \u001B[38;5;28;01mNone\u001B[39;00m\n",
        "File \u001B[0;32m/databricks/python_shell/lib/dbruntime/sql_magic/sql_magic.py:95\u001B[0m, in \u001B[0;36mSqlMagic.get_query_request_result\u001B[0;34m(self, query)\u001B[0m\n\u001B[1;32m     93\u001B[0m \u001B[38;5;28;01mif\u001B[39;00m \u001B[38;5;28mlen\u001B[39m(widget_bindings \u001B[38;5;241m:=\u001B[39m \u001B[38;5;28mself\u001B[39m\u001B[38;5;241m.\u001B[39mdbutils\u001B[38;5;241m.\u001B[39mwidgets\u001B[38;5;241m.\u001B[39mgetAll()) \u001B[38;5;241m>\u001B[39m \u001B[38;5;241m0\u001B[39m:\n\u001B[1;32m     94\u001B[0m     \u001B[38;5;28mself\u001B[39m\u001B[38;5;241m.\u001B[39mdriver_activity_logger\u001B[38;5;241m.\u001B[39mlogExecuteCommandEvent(\u001B[38;5;124m\"\u001B[39m\u001B[38;5;124mPARAM_SYNTAX_USAGE\u001B[39m\u001B[38;5;124m\"\u001B[39m)\n\u001B[0;32m---> 95\u001B[0m df \u001B[38;5;241m=\u001B[39m \u001B[38;5;28mself\u001B[39m\u001B[38;5;241m.\u001B[39mspark\u001B[38;5;241m.\u001B[39msql(query, widget_bindings)\n\u001B[1;32m     96\u001B[0m \u001B[38;5;28;01mreturn\u001B[39;00m df\n",
        "File \u001B[0;32m/databricks/python/lib/python3.12/site-packages/pyspark/sql/connect/session.py:821\u001B[0m, in \u001B[0;36mSparkSession.sql\u001B[0;34m(self, sqlQuery, args, **kwargs)\u001B[0m\n\u001B[1;32m    818\u001B[0m         _views\u001B[38;5;241m.\u001B[39mappend(SubqueryAlias(df\u001B[38;5;241m.\u001B[39m_plan, name))\n\u001B[1;32m    820\u001B[0m cmd \u001B[38;5;241m=\u001B[39m SQL(sqlQuery, _args, _named_args, _views)\n\u001B[0;32m--> 821\u001B[0m data, properties, ei \u001B[38;5;241m=\u001B[39m \u001B[38;5;28mself\u001B[39m\u001B[38;5;241m.\u001B[39mclient\u001B[38;5;241m.\u001B[39mexecute_command(cmd\u001B[38;5;241m.\u001B[39mcommand(\u001B[38;5;28mself\u001B[39m\u001B[38;5;241m.\u001B[39m_client))\n\u001B[1;32m    822\u001B[0m \u001B[38;5;28;01mif\u001B[39;00m \u001B[38;5;124m\"\u001B[39m\u001B[38;5;124msql_command_result\u001B[39m\u001B[38;5;124m\"\u001B[39m \u001B[38;5;129;01min\u001B[39;00m properties:\n\u001B[1;32m    823\u001B[0m     df \u001B[38;5;241m=\u001B[39m DataFrame(CachedRelation(properties[\u001B[38;5;124m\"\u001B[39m\u001B[38;5;124msql_command_result\u001B[39m\u001B[38;5;124m\"\u001B[39m]), \u001B[38;5;28mself\u001B[39m)\n",
        "File \u001B[0;32m/databricks/python/lib/python3.12/site-packages/pyspark/sql/connect/client/core.py:1483\u001B[0m, in \u001B[0;36mSparkConnectClient.execute_command\u001B[0;34m(self, command, observations, extra_request_metadata)\u001B[0m\n\u001B[1;32m   1481\u001B[0m     req\u001B[38;5;241m.\u001B[39muser_context\u001B[38;5;241m.\u001B[39muser_id \u001B[38;5;241m=\u001B[39m \u001B[38;5;28mself\u001B[39m\u001B[38;5;241m.\u001B[39m_user_id\n\u001B[1;32m   1482\u001B[0m req\u001B[38;5;241m.\u001B[39mplan\u001B[38;5;241m.\u001B[39mcommand\u001B[38;5;241m.\u001B[39mCopyFrom(command)\n\u001B[0;32m-> 1483\u001B[0m data, _, metrics, observed_metrics, properties \u001B[38;5;241m=\u001B[39m \u001B[38;5;28mself\u001B[39m\u001B[38;5;241m.\u001B[39m_execute_and_fetch(\n\u001B[1;32m   1484\u001B[0m     req, observations \u001B[38;5;129;01mor\u001B[39;00m {}, extra_request_metadata\n\u001B[1;32m   1485\u001B[0m )\n\u001B[1;32m   1486\u001B[0m \u001B[38;5;66;03m# Create a query execution object.\u001B[39;00m\n\u001B[1;32m   1487\u001B[0m ei \u001B[38;5;241m=\u001B[39m ExecutionInfo(metrics, observed_metrics)\n",
        "File \u001B[0;32m/databricks/python/lib/python3.12/site-packages/pyspark/sql/connect/client/core.py:1972\u001B[0m, in \u001B[0;36mSparkConnectClient._execute_and_fetch\u001B[0;34m(self, req, observations, extra_request_metadata, self_destruct)\u001B[0m\n\u001B[1;32m   1969\u001B[0m properties: Dict[\u001B[38;5;28mstr\u001B[39m, Any] \u001B[38;5;241m=\u001B[39m {}\n\u001B[1;32m   1971\u001B[0m \u001B[38;5;28;01mwith\u001B[39;00m Progress(handlers\u001B[38;5;241m=\u001B[39m\u001B[38;5;28mself\u001B[39m\u001B[38;5;241m.\u001B[39m_progress_handlers, operation_id\u001B[38;5;241m=\u001B[39mreq\u001B[38;5;241m.\u001B[39moperation_id) \u001B[38;5;28;01mas\u001B[39;00m progress:\n\u001B[0;32m-> 1972\u001B[0m     \u001B[38;5;28;01mfor\u001B[39;00m response \u001B[38;5;129;01min\u001B[39;00m \u001B[38;5;28mself\u001B[39m\u001B[38;5;241m.\u001B[39m_execute_and_fetch_as_iterator(\n\u001B[1;32m   1973\u001B[0m         req, observations, extra_request_metadata \u001B[38;5;129;01mor\u001B[39;00m [], progress\u001B[38;5;241m=\u001B[39mprogress\n\u001B[1;32m   1974\u001B[0m     ):\n\u001B[1;32m   1975\u001B[0m         \u001B[38;5;28;01mif\u001B[39;00m \u001B[38;5;28misinstance\u001B[39m(response, StructType):\n\u001B[1;32m   1976\u001B[0m             schema \u001B[38;5;241m=\u001B[39m response\n",
        "File \u001B[0;32m/databricks/python/lib/python3.12/site-packages/pyspark/sql/connect/client/core.py:1948\u001B[0m, in \u001B[0;36mSparkConnectClient._execute_and_fetch_as_iterator\u001B[0;34m(self, req, observations, extra_request_metadata, progress)\u001B[0m\n\u001B[1;32m   1946\u001B[0m     \u001B[38;5;28;01mraise\u001B[39;00m kb\n\u001B[1;32m   1947\u001B[0m \u001B[38;5;28;01mexcept\u001B[39;00m \u001B[38;5;167;01mException\u001B[39;00m \u001B[38;5;28;01mas\u001B[39;00m error:\n\u001B[0;32m-> 1948\u001B[0m     \u001B[38;5;28mself\u001B[39m\u001B[38;5;241m.\u001B[39m_handle_error(error)\n",
        "File \u001B[0;32m/databricks/python/lib/python3.12/site-packages/pyspark/sql/connect/client/core.py:2268\u001B[0m, in \u001B[0;36mSparkConnectClient._handle_error\u001B[0;34m(self, error)\u001B[0m\n\u001B[1;32m   2266\u001B[0m \u001B[38;5;28mself\u001B[39m\u001B[38;5;241m.\u001B[39mthread_local\u001B[38;5;241m.\u001B[39minside_error_handling \u001B[38;5;241m=\u001B[39m \u001B[38;5;28;01mTrue\u001B[39;00m\n\u001B[1;32m   2267\u001B[0m \u001B[38;5;28;01mif\u001B[39;00m \u001B[38;5;28misinstance\u001B[39m(error, grpc\u001B[38;5;241m.\u001B[39mRpcError):\n\u001B[0;32m-> 2268\u001B[0m     \u001B[38;5;28mself\u001B[39m\u001B[38;5;241m.\u001B[39m_handle_rpc_error(error)\n\u001B[1;32m   2269\u001B[0m \u001B[38;5;28;01melif\u001B[39;00m \u001B[38;5;28misinstance\u001B[39m(error, \u001B[38;5;167;01mValueError\u001B[39;00m):\n\u001B[1;32m   2270\u001B[0m     \u001B[38;5;28;01mif\u001B[39;00m \u001B[38;5;124m\"\u001B[39m\u001B[38;5;124mCannot invoke RPC\u001B[39m\u001B[38;5;124m\"\u001B[39m \u001B[38;5;129;01min\u001B[39;00m \u001B[38;5;28mstr\u001B[39m(error) \u001B[38;5;129;01mand\u001B[39;00m \u001B[38;5;124m\"\u001B[39m\u001B[38;5;124mclosed\u001B[39m\u001B[38;5;124m\"\u001B[39m \u001B[38;5;129;01min\u001B[39;00m \u001B[38;5;28mstr\u001B[39m(error):\n",
        "File \u001B[0;32m/databricks/python/lib/python3.12/site-packages/pyspark/sql/connect/client/core.py:2351\u001B[0m, in \u001B[0;36mSparkConnectClient._handle_rpc_error\u001B[0;34m(self, rpc_error)\u001B[0m\n\u001B[1;32m   2347\u001B[0m             logger\u001B[38;5;241m.\u001B[39mdebug(\u001B[38;5;124mf\u001B[39m\u001B[38;5;124m\"\u001B[39m\u001B[38;5;124mReceived ErrorInfo: \u001B[39m\u001B[38;5;132;01m{\u001B[39;00minfo\u001B[38;5;132;01m}\u001B[39;00m\u001B[38;5;124m\"\u001B[39m)\n\u001B[1;32m   2349\u001B[0m             \u001B[38;5;28mself\u001B[39m\u001B[38;5;241m.\u001B[39m_handle_rpc_error_with_error_info(info, status\u001B[38;5;241m.\u001B[39mmessage, status_code)  \u001B[38;5;66;03m# EDGE\u001B[39;00m\n\u001B[0;32m-> 2351\u001B[0m             \u001B[38;5;28;01mraise\u001B[39;00m convert_exception(\n\u001B[1;32m   2352\u001B[0m                 info,\n\u001B[1;32m   2353\u001B[0m                 status\u001B[38;5;241m.\u001B[39mmessage,\n\u001B[1;32m   2354\u001B[0m                 \u001B[38;5;28mself\u001B[39m\u001B[38;5;241m.\u001B[39m_fetch_enriched_error(info),\n\u001B[1;32m   2355\u001B[0m                 \u001B[38;5;28mself\u001B[39m\u001B[38;5;241m.\u001B[39m_display_server_stack_trace(),\n\u001B[1;32m   2356\u001B[0m             ) \u001B[38;5;28;01mfrom\u001B[39;00m \u001B[38;5;28;01mNone\u001B[39;00m\n\u001B[1;32m   2358\u001B[0m     \u001B[38;5;28;01mraise\u001B[39;00m SparkConnectGrpcException(\n\u001B[1;32m   2359\u001B[0m         message\u001B[38;5;241m=\u001B[39mstatus\u001B[38;5;241m.\u001B[39mmessage,\n\u001B[1;32m   2360\u001B[0m         sql_state\u001B[38;5;241m=\u001B[39mErrorCode\u001B[38;5;241m.\u001B[39mCLIENT_UNEXPECTED_MISSING_SQL_STATE,  \u001B[38;5;66;03m# EDGE\u001B[39;00m\n\u001B[1;32m   2361\u001B[0m     ) \u001B[38;5;28;01mfrom\u001B[39;00m \u001B[38;5;28;01mNone\u001B[39;00m\n\u001B[1;32m   2362\u001B[0m \u001B[38;5;28;01melse\u001B[39;00m:\n",
        "\u001B[0;31mAnalysisException\u001B[0m: [FIELD_ALREADY_EXISTS] Cannot add column, because `fixed` already exists in \"STRUCT<reading_id: STRING, aircraft_id: STRING, event_ts: TIMESTAMP, event_date: TIMESTAMP, engine_pos: INT, phase_of_flight: STRING, altitude_ft: INT, ias_kts: INT, egt_c: DOUBLE, n1_pct: DOUBLE, fuel_flow_kg_h: DOUBLE, vib_ips: DOUBLE, fixed: BOOLEAN, type_fix: STRING, date_fix: TIMESTAMP, fix_version: INT>\". SQLSTATE: 42710; line 1 pos 0;\nAddColumns [QualifiedColType(None,fixed,BooleanType,true,None,None,None,None), QualifiedColType(None,type_fix,StringType,true,None,None,None,None), QualifiedColType(None,date_fix,TimestampType,true,None,None,None,None), QualifiedColType(None,fix_version,IntegerType,true,None,None,None,None)]\n+- ResolvedTable com.databricks.sql.managedcatalog.UnityCatalogV2Proxy@51565a9f, layer30_silver_quarantine.fact_engine_sensor_quarantine, DeltaTableV2(org.apache.spark.sql.classic.SparkSession@2793b043,s3://dbstorage-prod-nmmp3/uc/3e454ef6-0234-431e-bba1-372858b87e1c/24251221-5fcd-4ccf-90bc-f7e819553b47/__unitystorage/catalogs/f810eb45-31c5-4f39-99ab-8f397a903f92/tables/ade706d7-1adc-4817-a142-401c63b86325,Some(CatalogTable(\nCatalog: sesion1_2\nDatabase: layer30_silver_quarantine\nTable: fact_engine_sensor_quarantine\nOwner: 251008javiceste@gmail.com\nCreated Time: Thu Oct 09 11:44:48 UTC 2025\nLast Access: UNKNOWN\nCreated By: Spark \nType: MANAGED\nProvider: delta\nCollation: UTF8_BINARY\nTable Properties: [collation=UTF8_BINARY, delta.enableDeletionVectors=true, delta.feature.appendOnly=supported, delta.feature.deletionVectors=supported, delta.feature.invariants=supported, delta.lastCommitTimestamp=1760079228000, delta.lastUpdateVersion=7, delta.minReaderVersion=3, delta.minWriterVersion=7]\nStatistics: 26856 bytes, 81 rows\nLocation: s3://dbstorage-prod-nmmp3/uc/3e454ef6-0234-431e-bba1-372858b87e1c/24251221-5fcd-4ccf-90bc-f7e819553b47/__unitystorage/catalogs/f810eb45-31c5-4f39-99ab-8f397a903f92/tables/ade706d7-1adc-4817-a142-401c63b86325\nPartition Provider: Catalog\nSchema: root\n |-- reading_id: string (nullable = true)\n |-- aircraft_id: string (nullable = true)\n |-- event_ts: timestamp (nullable = true)\n |-- event_date: timestamp (nullable = true)\n |-- engine_pos: integer (nullable = true)\n |-- phase_of_flight: string (nullable = true)\n |-- altitude_ft: integer (nullable = true)\n |-- ias_kts: integer (nullable = true)\n |-- egt_c: double (nullable = true)\n |-- n1_pct: double (nullable = true)\n |-- fuel_flow_kg_h: double (nullable = true)\n |-- vib_ips: double (nullable = true)\n |-- fixed: boolean (nullable = true)\n |-- type_fix: string (nullable = true)\n |-- date_fix: timestamp (nullable = true)\n |-- fix_version: integer (nullable = true)\n\nPredictive Optimization: ENABLE (inherited from METASTORE metastore_aws_us_east_2))),Some(sesion1_2.layer30_silver_quarantine.fact_engine_sensor_quarantine),None,Map()), [reading_id#12631, aircraft_id#12632, event_ts#12633, event_date#12634, engine_pos#12635, phase_of_flight#12636, altitude_ft#12637, ias_kts#12638, egt_c#12639, n1_pct#12640, fuel_flow_kg_h#12641, vib_ips#12642, fixed#12643, type_fix#12644, date_fix#12645, fix_version#12646]\n\n\nJVM stacktrace:\norg.apache.spark.sql.catalyst.ExtendedAnalysisException\n\tat org.apache.spark.sql.catalyst.analysis.package$AnalysisErrorAt.failAnalysis(package.scala:55)\n\tat org.apache.spark.sql.catalyst.analysis.CheckAnalysis.checkColumnNotExists$1(CheckAnalysis.scala:1138)\n\tat org.apache.spark.sql.catalyst.analysis.CheckAnalysis.$anonfun$checkAlterTableCommand$3(CheckAnalysis.scala:1157)\n\tat org.apache.spark.sql.catalyst.analysis.CheckAnalysis.$anonfun$checkAlterTableCommand$3$adapted(CheckAnalysis.scala:1156)\n\tat scala.collection.immutable.List.foreach(List.scala:334)\n\tat org.apache.spark.sql.catalyst.analysis.CheckAnalysis.checkAlterTableCommand(CheckAnalysis.scala:1156)\n\tat org.apache.spark.sql.catalyst.analysis.CheckAnalysis.$anonfun$checkAnalysis0$2(CheckAnalysis.scala:842)\n\tat org.apache.spark.sql.catalyst.analysis.CheckAnalysis.$anonfun$checkAnalysis0$2$adapted(CheckAnalysis.scala:324)\n\tat org.apache.spark.sql.catalyst.trees.TreeNode.foreachUp(TreeNode.scala:312)\n\tat org.apache.spark.sql.catalyst.analysis.CheckAnalysis.checkAnalysis0(CheckAnalysis.scala:324)\n\tat org.apache.spark.sql.catalyst.analysis.CheckAnalysis.checkAnalysis0$(CheckAnalysis.scala:295)\n\tat org.apache.spark.sql.catalyst.analysis.Analyzer.checkAnalysis0(Analyzer.scala:542)\n\tat org.apache.spark.sql.catalyst.analysis.CheckAnalysis.$anonfun$checkAnalysis$1(CheckAnalysis.scala:280)\n\tat scala.runtime.java8.JFunction0$mcV$sp.apply(JFunction0$mcV$sp.scala:18)\n\tat com.databricks.spark.util.FrameProfiler$.$anonfun$record$1(FrameProfiler.scala:114)\n\tat com.databricks.spark.util.FrameProfilerExporter$.maybeExportFrameProfiler(FrameProfilerExporter.scala:200)\n\tat com.databricks.spark.util.FrameProfiler$.record(FrameProfiler.scala:105)\n\tat org.apache.spark.sql.catalyst.analysis.CheckAnalysis.checkAnalysis(CheckAnalysis.scala:266)\n\tat org.apache.spark.sql.catalyst.analysis.CheckAnalysis.checkAnalysis$(CheckAnalysis.scala:262)\n\tat org.apache.spark.sql.catalyst.analysis.Analyzer.checkAnalysis(Analyzer.scala:542)\n\tat org.apache.spark.sql.catalyst.analysis.resolver.HybridAnalyzer.$anonfun$resolveInFixedPoint$1(HybridAnalyzer.scala:413)\n\tat scala.runtime.java8.JFunction0$mcV$sp.apply(JFunction0$mcV$sp.scala:18)\n\tat org.apache.spark.sql.catalyst.QueryPlanningTracker$.withTracker(QueryPlanningTracker.scala:267)\n\tat org.apache.spark.sql.catalyst.analysis.resolver.HybridAnalyzer.resolveInFixedPoint(HybridAnalyzer.scala:413)\n\tat org.apache.spark.sql.catalyst.analysis.resolver.HybridAnalyzer.$anonfun$apply$1(HybridAnalyzer.scala:99)\n\tat org.apache.spark.sql.catalyst.analysis.resolver.HybridAnalyzer.withTrackedAnalyzerBridgeState(HybridAnalyzer.scala:136)\n\tat org.apache.spark.sql.catalyst.analysis.resolver.HybridAnalyzer.apply(HybridAnalyzer.scala:92)\n\tat org.apache.spark.sql.catalyst.analysis.Analyzer.$anonfun$executeAndCheck$2(Analyzer.scala:598)\n\tat org.apache.spark.sql.catalyst.plans.logical.AnalysisHelper$.markInAnalyzer(AnalysisHelper.scala:425)\n\tat org.apache.spark.sql.catalyst.analysis.Analyzer.$anonfun$executeAndCheck$1(Analyzer.scala:598)\n\tat com.databricks.sql.unity.SAMSnapshotHelper$.visitPlansDuringAnalysis(SAMSnapshotHelper.scala:41)\n\tat org.apache.spark.sql.catalyst.analysis.Analyzer.executeAndCheck(Analyzer.scala:591)\n\tat org.apache.spark.sql.execution.QueryExecution.$anonfun$lazyAnalyzed$3(QueryExecution.scala:341)\n\tat com.databricks.spark.util.FrameProfiler$.$anonfun$record$1(FrameProfiler.scala:114)\n\tat com.databricks.spark.util.FrameProfilerExporter$.maybeExportFrameProfiler(FrameProfilerExporter.scala:200)\n\tat com.databricks.spark.util.FrameProfiler$.record(FrameProfiler.scala:105)\n\tat org.apache.spark.sql.catalyst.QueryPlanningTracker.measurePhase(QueryPlanningTracker.scala:675)\n\tat org.apache.spark.sql.execution.QueryExecution.$anonfun$executePhase$8(QueryExecution.scala:826)\n\tat org.apache.spark.sql.execution.SQLExecution$.$anonfun$withExecutionPhase$1(SQLExecution.scala:157)\n\tat com.databricks.logging.AttributionContext$.$anonfun$withValue$1(AttributionContext.scala:328)\n\tat scala.util.DynamicVariable.withValue(DynamicVariable.scala:59)\n\tat com.databricks.logging.AttributionContext$.withValue(AttributionContext.scala:324)\n\tat com.databricks.util.TracingSpanUtils$.$anonfun$withTracing$4(TracingSpanUtils.scala:235)\n\tat com.databricks.util.TracingSpanUtils$.withTracing(TracingSpanUtils.scala:129)\n\tat com.databricks.util.TracingSpanUtils$.withTracing(TracingSpanUtils.scala:233)\n\tat com.databricks.tracing.TracingUtils$.withTracing(TracingUtils.scala:296)\n\tat com.databricks.spark.util.DatabricksTracingHelper.withSpan(DatabricksSparkTracingHelper.scala:115)\n\tat com.databricks.spark.util.DBRTracing$.withSpan(DBRTracing.scala:47)\n\tat org.apache.spark.sql.execution.SQLExecution$.withExecutionPhase(SQLExecution.scala:138)\n\tat org.apache.spark.sql.execution.QueryExecution.$anonfun$executePhase$7(QueryExecution.scala:826)\n\tat org.apache.spark.sql.execution.QueryExecution$.withInternalError(QueryExecution.scala:1472)\n\tat org.apache.spark.sql.execution.QueryExecution.$anonfun$executePhase$5(QueryExecution.scala:819)\n\tat com.databricks.util.LexicalThreadLocal$Handle.runWith(LexicalThreadLocal.scala:63)\n\tat org.apache.spark.sql.execution.QueryExecution.$anonfun$executePhase$4(QueryExecution.scala:816)\n\tat com.databricks.util.LexicalThreadLocal$Handle.runWith(LexicalThreadLocal.scala:63)\n\tat org.apache.spark.sql.execution.QueryExecution.$anonfun$executePhase$3(QueryExecution.scala:816)\n\tat com.databricks.util.LexicalThreadLocal$Handle.runWith(LexicalThreadLocal.scala:63)\n\tat org.apache.spark.sql.execution.QueryExecution.$anonfun$executePhase$2(QueryExecution.scala:815)\n\tat com.databricks.util.LexicalThreadLocal$Handle.runWith(LexicalThreadLocal.scala:63)\n\tat org.apache.spark.sql.execution.QueryExecution.withQueryExecutionId(QueryExecution.scala:803)\n\tat org.apache.spark.sql.execution.QueryExecution.$anonfun$executePhase$1(QueryExecution.scala:814)\n\tat org.apache.spark.sql.SparkSession.withActive(SparkSession.scala:860)\n\tat org.apache.spark.sql.execution.QueryExecution.executePhase(QueryExecution.scala:813)\n\tat org.apache.spark.sql.execution.QueryExecution.$anonfun$lazyAnalyzed$2(QueryExecution.scala:323)\n\tat com.databricks.sql.util.MemoryTrackerHelper.withMemoryTracking(MemoryTrackerHelper.scala:111)\n\tat org.apache.spark.sql.execution.QueryExecution.$anonfun$lazyAnalyzed$1(QueryExecution.scala:322)\n\tat scala.util.Try$.apply(Try.scala:217)\n\tat org.apache.spark.util.Utils$.doTryWithCallerStacktrace(Utils.scala:1687)\n\tat org.apache.spark.util.LazyTry.tryT$lzycompute(LazyTry.scala:60)\n\tat org.apache.spark.util.LazyTry.tryT(LazyTry.scala:59)\n\tat org.apache.spark.util.LazyTry.get(LazyTry.scala:75)\n\tat org.apache.spark.sql.execution.QueryExecution.analyzed(QueryExecution.scala:383)\n\tat org.apache.spark.sql.execution.QueryExecution.assertAnalyzed(QueryExecution.scala:302)\n\tat org.apache.spark.sql.classic.Dataset$.$anonfun$ofRows$3(Dataset.scala:154)\n\tat org.apache.spark.sql.SparkSession.withActive(SparkSession.scala:860)\n\tat org.apache.spark.sql.classic.SparkSession.$anonfun$withActiveAndFrameProfiler$1(SparkSession.scala:1077)\n\tat com.databricks.spark.util.FrameProfiler$.$anonfun$record$1(FrameProfiler.scala:114)\n\tat com.databricks.spark.util.FrameProfilerExporter$.maybeExportFrameProfiler(FrameProfilerExporter.scala:200)\n\tat com.databricks.spark.util.FrameProfiler$.record(FrameProfiler.scala:105)\n\tat org.apache.spark.sql.classic.SparkSession.withActiveAndFrameProfiler(SparkSession.scala:1077)\n\tat org.apache.spark.sql.classic.Dataset$.ofRows(Dataset.scala:146)\n\tat org.apache.spark.sql.classic.SparkSession.$anonfun$sql$5(SparkSession.scala:856)\n\tat org.apache.spark.sql.SparkSession.withActive(SparkSession.scala:860)\n\tat org.apache.spark.sql.classic.SparkSession.sql(SparkSession.scala:819)\n\tat org.apache.spark.sql.connect.planner.SparkConnectPlanner.executeSQL(SparkConnectPlanner.scala:3548)\n\tat org.apache.spark.sql.connect.planner.SparkConnectPlanner.handleSqlCommand(SparkConnectPlanner.scala:3378)\n\tat org.apache.spark.sql.connect.planner.SparkConnectPlanner.process(SparkConnectPlanner.scala:3255)\n\tat org.apache.spark.sql.connect.execution.ExecuteThreadRunner.handleCommand(ExecuteThreadRunner.scala:383)\n\tat org.apache.spark.util.Utils$.getTryWithCallerStacktrace(Utils.scala:1748)\n\tat org.apache.spark.util.LazyTry.get(LazyTry.scala:75)\n\tat org.apache.spark.sql.execution.QueryExecution.executedPlan(QueryExecution.scala:747)\n\tat com.databricks.spark.sqlgateway.history.SqlExecutionMetrics.$anonfun$setQueryExecution$1(SqlExecutionMetrics.scala:186)\n\tat scala.Option.flatMap(Option.scala:283)\n\tat com.databricks.spark.sqlgateway.history.SqlExecutionMetrics.setQueryExecution(SqlExecutionMetrics.scala:186)\n\tat com.databricks.spark.sqlgateway.history.SqlGatewayHistorySparkListener.$anonfun$onSqlStart$1(SqlGatewayHistorySparkListener.scala:704)\n\tat scala.runtime.java8.JFunction0$mcV$sp.apply(JFunction0$mcV$sp.scala:18)\n\tat com.databricks.spark.util.FrameProfiler$.$anonfun$record$1(FrameProfiler.scala:114)\n\tat com.databricks.spark.util.FrameProfilerExporter$.maybeExportFrameProfiler(FrameProfilerExporter.scala:200)\n\tat com.databricks.spark.util.FrameProfiler$.record(FrameProfiler.scala:105)\n\tat com.databricks.spark.sqlgateway.history.SqlGatewayHistorySparkListener.com$databricks$spark$sqlgateway$history$SqlGatewayHistorySparkListener$$onSqlStart(SqlGatewayHistorySparkListener.scala:668)\n\tat com.databricks.spark.sqlgateway.history.SqlGatewayHistorySparkListener$$anonfun$onOtherEventDefault$1.applyOrElse(SqlGatewayHistorySparkListener.scala:241)\n\tat com.databricks.spark.sqlgateway.history.SqlGatewayHistorySparkListener$$anonfun$onOtherEventDefault$1.applyOrElse(SqlGatewayHistorySparkListener.scala:229)\n\tat scala.runtime.AbstractPartialFunction.apply(AbstractPartialFunction.scala:35)\n\tat com.databricks.spark.sqlgateway.history.utils.RuntimeVersionBridge$$anonfun$onOtherEvent$1.applyOrElse(RuntimeVersionBridge.scala:200)\n\tat com.databricks.spark.sqlgateway.history.utils.RuntimeVersionBridge$$anonfun$onOtherEvent$1.applyOrElse(RuntimeVersionBridge.scala:200)\n\tat com.databricks.spark.sqlgateway.history.SqlGatewayHistorySparkListener.$anonfun$onOtherEvent$1(SqlGatewayHistorySparkListener.scala:207)\n\tat scala.runtime.java8.JFunction0$mcV$sp.apply(JFunction0$mcV$sp.scala:18)\n\tat com.databricks.spark.util.FrameProfiler$.$anonfun$record$1(FrameProfiler.scala:114)\n\tat com.databricks.spark.util.FrameProfilerExporter$.maybeExportFrameProfiler(FrameProfilerExporter.scala:200)\n\tat com.databricks.spark.util.FrameProfiler$.record(FrameProfiler.scala:105)\n\tat com.databricks.spark.sqlgateway.history.SqlGatewayHistorySparkListener.onOtherEvent(SqlGatewayHistorySparkListener.scala:207)\n\tat org.apache.spark.scheduler.SparkListenerBus.doPostEvent(SparkListenerBus.scala:108)\n\tat org.apache.spark.scheduler.SparkListenerBus.doPostEvent$(SparkListenerBus.scala:28)\n\tat org.apache.spark.scheduler.AsyncEventQueue.doPostEvent(AsyncEventQueue.scala:46)\n\tat org.apache.spark.scheduler.AsyncEventQueue.doPostEvent(AsyncEventQueue.scala:46)\n\tat org.apache.spark.util.ListenerBus.postToAll(ListenerBus.scala:208)\n\tat org.apache.spark.util.ListenerBus.postToAll$(ListenerBus.scala:172)\n\tat org.apache.spark.scheduler.AsyncEventQueue.super$postToAll(AsyncEventQueue.scala:130)\n\tat org.apache.spark.scheduler.AsyncEventQueue.$anonfun$dispatch$1(AsyncEventQueue.scala:130)\n\tat scala.runtime.java8.JFunction0$mcJ$sp.apply(JFunction0$mcJ$sp.scala:17)\n\tat scala.util.DynamicVariable.withValue(DynamicVariable.scala:59)\n\tat org.apache.spark.scheduler.AsyncEventQueue.org$apache$spark$scheduler$AsyncEventQueue$$dispatch(AsyncEventQueue.scala:116)\n\tat org.apache.spark.scheduler.AsyncEventQueue$$anon$2.$anonfun$run$1(AsyncEventQueue.scala:112)\n\tat org.apache.spark.util.Utils$.tryOrStopSparkContext(Utils.scala:1575)\n\tat org.apache.spark.scheduler.AsyncEventQueue$$anon$2.run(AsyncEventQueue.scala:112)"
       ],
       "type": "baseError"
      }
     },
     "output_type": "display_data"
    }
   ],
   "source": [
    "%sql\n",
    "ALTER TABLE sesion1_2.layer30_silver_quarantine.fact_engine_sensor_quarantine\n",
    "ADD COLUMNS (\n",
    "  fixed BOOLEAN,\n",
    "  type_fix STRING,\n",
    "  date_fix TIMESTAMP,\n",
    "  fix_version INT\n",
    ");"
   ]
  },
  {
   "cell_type": "markdown",
   "metadata": {
    "application/vnd.databricks.v1+cell": {
     "cellMetadata": {},
     "inputWidgets": {},
     "nuid": "9b5d8f2b-3185-49cd-97fb-8dbd41dd9926",
     "showTitle": false,
     "tableResultSettingsMap": {},
     "title": ""
    }
   },
   "source": [
    "### 1.2.1 Caso de corrección: altitudes anómalas\n",
    "\n",
    "Se han identificado registros con valores de **altitud superiores a 50.000 pies**, considerados atípicos para operaciones estándar.  \n",
    "Sin embargo, ciertos modelos específicos de aeronaves sí pueden alcanzar dichas altitudes, por lo que **estos casos se consideran válidos**.\n",
    "\n",
    "Por tanto, la regla de corrección consiste en:\n",
    "- **Marcar como erróneos** los registros con `altitude > 50000`,  \n",
    "- **Exceptuando** aquellos cuyo `model` pertenezca al grupo de aeronaves `737-800`.\n",
    "\n",
    "Esta validación permite mantener la integridad de los datos sin penalizar los comportamientos esperables en modelos concretos.\n"
   ]
  },
  {
   "cell_type": "code",
   "execution_count": 0,
   "metadata": {
    "application/vnd.databricks.v1+cell": {
     "cellMetadata": {
      "byteLimit": 2048000,
      "implicitDf": true,
      "rowLimit": 10000
     },
     "inputWidgets": {},
     "nuid": "ae06a506-aa44-4f91-9f84-e897d6685cbc",
     "showTitle": false,
     "tableResultSettingsMap": {},
     "title": ""
    }
   },
   "outputs": [
    {
     "output_type": "display_data",
     "data": {
      "text/html": [
       "<style scoped>\n",
       "  .table-result-container {\n",
       "    max-height: 300px;\n",
       "    overflow: auto;\n",
       "  }\n",
       "  table, th, td {\n",
       "    border: 1px solid black;\n",
       "    border-collapse: collapse;\n",
       "  }\n",
       "  th, td {\n",
       "    padding: 5px;\n",
       "  }\n",
       "  th {\n",
       "    text-align: left;\n",
       "  }\n",
       "</style><div class='table-result-container'><table class='table-result'><thead style='background-color: white'><tr><th>num_affected_rows</th><th>num_updated_rows</th><th>num_deleted_rows</th><th>num_inserted_rows</th></tr></thead><tbody><tr><td>6</td><td>6</td><td>0</td><td>0</td></tr></tbody></table></div>"
      ]
     },
     "metadata": {
      "application/vnd.databricks.v1+output": {
       "addedWidgets": {},
       "aggData": [],
       "aggError": "",
       "aggOverflow": false,
       "aggSchema": [],
       "aggSeriesLimitReached": false,
       "aggType": "",
       "arguments": {},
       "columnCustomDisplayInfos": {},
       "data": [
        [
         6,
         6,
         0,
         0
        ]
       ],
       "datasetInfos": [
        {
         "name": "_sqldf",
         "schema": {
          "fields": [
           {
            "metadata": {},
            "name": "num_affected_rows",
            "nullable": true,
            "type": "long"
           },
           {
            "metadata": {},
            "name": "num_updated_rows",
            "nullable": true,
            "type": "long"
           },
           {
            "metadata": {},
            "name": "num_deleted_rows",
            "nullable": true,
            "type": "long"
           },
           {
            "metadata": {},
            "name": "num_inserted_rows",
            "nullable": true,
            "type": "long"
           }
          ],
          "type": "struct"
         },
         "tableIdentifier": null,
         "typeStr": "pyspark.sql.connect.dataframe.DataFrame"
        }
       ],
       "dbfsResultPath": null,
       "isJsonSchema": true,
       "metadata": {
        "createTempViewForImplicitDf": true,
        "dataframeName": "_sqldf",
        "executionCount": 13
       },
       "overflow": false,
       "plotOptions": {
        "customPlotOptions": {},
        "displayType": "table",
        "pivotAggregation": null,
        "pivotColumns": null,
        "xColumns": null,
        "yColumns": null
       },
       "removedWidgets": [],
       "schema": [
        {
         "metadata": "{}",
         "name": "num_affected_rows",
         "type": "\"long\""
        },
        {
         "metadata": "{}",
         "name": "num_updated_rows",
         "type": "\"long\""
        },
        {
         "metadata": "{}",
         "name": "num_deleted_rows",
         "type": "\"long\""
        },
        {
         "metadata": "{}",
         "name": "num_inserted_rows",
         "type": "\"long\""
        }
       ],
       "type": "table"
      }
     },
     "output_type": "display_data"
    }
   ],
   "source": [
    "%sql\n",
    "MERGE INTO sesion1_2.layer30_silver_quarantine.fact_engine_sensor_quarantine AS tgt\n",
    "USING sesion1_2.layer30_silver.dim_aircraft AS src\n",
    "ON tgt.aircraft_id = src.aircraft_id\n",
    "\n",
    "WHEN MATCHED\n",
    "  AND src.model = '737-800'\n",
    "  AND tgt.altitude_ft > 50000\n",
    "THEN UPDATE SET\n",
    "  tgt.fixed       = TRUE,\n",
    "  tgt.type_fix    = 'altitude_flag_over_50000_for_b737',\n",
    "  tgt.date_fix    = current_timestamp(),\n",
    "  tgt.fix_version = 1\n",
    ";\n"
   ]
  },
  {
   "cell_type": "markdown",
   "metadata": {
    "application/vnd.databricks.v1+cell": {
     "cellMetadata": {},
     "inputWidgets": {},
     "nuid": "8d9bf5db-3bae-48d7-b315-5b6225077776",
     "showTitle": false,
     "tableResultSettingsMap": {},
     "title": ""
    }
   },
   "source": [
    "### 1.2.2 Caso de corrección: validación de velocidad indicada (*IAS_KTS*)\n",
    "\n",
    "La columna `ias_kts` representa la **velocidad indicada en nudos** (*Indicated Air Speed*).  \n",
    "En nuestro pipeline, el rango operativo definido se encuentra entre **0 y 600 nudos**, considerándose cualquier valor fuera de ese intervalo como anómalo.\n",
    "\n",
    "No obstante, se han identificado **excepciones operativas** en las que ciertas combinaciones de *fase de vuelo* y *modelo de aeronave* pueden justificar valores fuera de rango.  \n",
    "\n",
    "Por tanto, la regla de corrección es la siguiente:\n",
    "- **Exceptuar** aquellos casos en los que la columna `flight_phase` sea `\"CLIMB\"` o `\"DESCENT\"`\n",
    "\n",
    "De esta manera, se preserva la coherencia del dataset sin penalizar comportamientos técnicamente válidos bajo condiciones específicas.\n"
   ]
  },
  {
   "cell_type": "code",
   "execution_count": 0,
   "metadata": {
    "application/vnd.databricks.v1+cell": {
     "cellMetadata": {
      "byteLimit": 2048000,
      "implicitDf": true,
      "rowLimit": 10000
     },
     "inputWidgets": {},
     "nuid": "f81f8ab6-abf2-4e4d-acec-b52353f9c3bf",
     "showTitle": false,
     "tableResultSettingsMap": {},
     "title": ""
    }
   },
   "outputs": [
    {
     "output_type": "display_data",
     "data": {
      "text/html": [
       "<style scoped>\n",
       "  .table-result-container {\n",
       "    max-height: 300px;\n",
       "    overflow: auto;\n",
       "  }\n",
       "  table, th, td {\n",
       "    border: 1px solid black;\n",
       "    border-collapse: collapse;\n",
       "  }\n",
       "  th, td {\n",
       "    padding: 5px;\n",
       "  }\n",
       "  th {\n",
       "    text-align: left;\n",
       "  }\n",
       "</style><div class='table-result-container'><table class='table-result'><thead style='background-color: white'><tr><th>num_affected_rows</th><th>num_updated_rows</th><th>num_deleted_rows</th><th>num_inserted_rows</th></tr></thead><tbody><tr><td>0</td><td>0</td><td>0</td><td>0</td></tr></tbody></table></div>"
      ]
     },
     "metadata": {
      "application/vnd.databricks.v1+output": {
       "addedWidgets": {},
       "aggData": [],
       "aggError": "",
       "aggOverflow": false,
       "aggSchema": [],
       "aggSeriesLimitReached": false,
       "aggType": "",
       "arguments": {},
       "columnCustomDisplayInfos": {},
       "data": [
        [
         0,
         0,
         0,
         0
        ]
       ],
       "datasetInfos": [
        {
         "name": "_sqldf",
         "schema": {
          "fields": [
           {
            "metadata": {},
            "name": "num_affected_rows",
            "nullable": true,
            "type": "long"
           },
           {
            "metadata": {},
            "name": "num_updated_rows",
            "nullable": true,
            "type": "long"
           },
           {
            "metadata": {},
            "name": "num_deleted_rows",
            "nullable": true,
            "type": "long"
           },
           {
            "metadata": {},
            "name": "num_inserted_rows",
            "nullable": true,
            "type": "long"
           }
          ],
          "type": "struct"
         },
         "tableIdentifier": null,
         "typeStr": "pyspark.sql.connect.dataframe.DataFrame"
        }
       ],
       "dbfsResultPath": null,
       "isJsonSchema": true,
       "metadata": {
        "createTempViewForImplicitDf": true,
        "dataframeName": "_sqldf",
        "executionCount": 11
       },
       "overflow": false,
       "plotOptions": {
        "customPlotOptions": {},
        "displayType": "table",
        "pivotAggregation": null,
        "pivotColumns": null,
        "xColumns": null,
        "yColumns": null
       },
       "removedWidgets": [],
       "schema": [
        {
         "metadata": "{}",
         "name": "num_affected_rows",
         "type": "\"long\""
        },
        {
         "metadata": "{}",
         "name": "num_updated_rows",
         "type": "\"long\""
        },
        {
         "metadata": "{}",
         "name": "num_deleted_rows",
         "type": "\"long\""
        },
        {
         "metadata": "{}",
         "name": "num_inserted_rows",
         "type": "\"long\""
        }
       ],
       "type": "table"
      }
     },
     "output_type": "display_data"
    }
   ],
   "source": [
    "%sql\n",
    "-- Corregir registros con ias_kts > 600 en fases de despegue o aterrizaje\n",
    "MERGE INTO sesion1_2.layer30_silver_quarantine.fact_engine_sensor_quarantine AS tgt\n",
    "USING (\n",
    "  SELECT reading_id\n",
    "  FROM sesion1_2.layer30_silver_quarantine.fact_engine_sensor_quarantine\n",
    "  WHERE ias_kts > 600\n",
    "    AND lower(phase_of_flight) IN ('CLIMB', 'DESCENT')\n",
    ") AS src\n",
    "ON tgt.reading_id = src.reading_id\n",
    "\n",
    "WHEN MATCHED THEN\n",
    "  UPDATE SET\n",
    "    tgt.fixed        = TRUE,\n",
    "    tgt.type_fix     = 'ias_overlimit_takeoff_landing',\n",
    "    tgt.date_fix     = current_timestamp(),\n",
    "    tgt.fix_version  = 1;\n"
   ]
  },
  {
   "cell_type": "markdown",
   "metadata": {
    "application/vnd.databricks.v1+cell": {
     "cellMetadata": {},
     "inputWidgets": {},
     "nuid": "c085a799-ba19-40eb-b33d-72b043f84a51",
     "showTitle": false,
     "tableResultSettingsMap": {},
     "title": ""
    }
   },
   "source": [
    "### 1.2.4 Join a Tabla Principal"
   ]
  },
  {
   "cell_type": "code",
   "execution_count": 0,
   "metadata": {
    "application/vnd.databricks.v1+cell": {
     "cellMetadata": {
      "byteLimit": 2048000,
      "implicitDf": true,
      "rowLimit": 10000
     },
     "inputWidgets": {},
     "nuid": "d5d51fbe-eab9-4cda-8150-e50353cecd51",
     "showTitle": false,
     "tableResultSettingsMap": {},
     "title": ""
    }
   },
   "outputs": [
    {
     "output_type": "display_data",
     "data": {
      "text/html": [
       "<style scoped>\n",
       "  .table-result-container {\n",
       "    max-height: 300px;\n",
       "    overflow: auto;\n",
       "  }\n",
       "  table, th, td {\n",
       "    border: 1px solid black;\n",
       "    border-collapse: collapse;\n",
       "  }\n",
       "  th, td {\n",
       "    padding: 5px;\n",
       "  }\n",
       "  th {\n",
       "    text-align: left;\n",
       "  }\n",
       "</style><div class='table-result-container'><table class='table-result'><thead style='background-color: white'><tr><th>num_affected_rows</th></tr></thead><tbody><tr><td>6</td></tr></tbody></table></div>"
      ]
     },
     "metadata": {
      "application/vnd.databricks.v1+output": {
       "addedWidgets": {},
       "aggData": [],
       "aggError": "",
       "aggOverflow": false,
       "aggSchema": [],
       "aggSeriesLimitReached": false,
       "aggType": "",
       "arguments": {},
       "columnCustomDisplayInfos": {},
       "data": [
        [
         6
        ]
       ],
       "datasetInfos": [
        {
         "name": "_sqldf",
         "schema": {
          "fields": [
           {
            "metadata": {},
            "name": "num_affected_rows",
            "nullable": true,
            "type": "long"
           }
          ],
          "type": "struct"
         },
         "tableIdentifier": null,
         "typeStr": "pyspark.sql.connect.dataframe.DataFrame"
        }
       ],
       "dbfsResultPath": null,
       "isJsonSchema": true,
       "metadata": {
        "createTempViewForImplicitDf": true,
        "dataframeName": "_sqldf",
        "executionCount": 14
       },
       "overflow": false,
       "plotOptions": {
        "customPlotOptions": {},
        "displayType": "table",
        "pivotAggregation": null,
        "pivotColumns": null,
        "xColumns": null,
        "yColumns": null
       },
       "removedWidgets": [],
       "schema": [
        {
         "metadata": "{}",
         "name": "num_affected_rows",
         "type": "\"long\""
        }
       ],
       "type": "table"
      }
     },
     "output_type": "display_data"
    }
   ],
   "source": [
    "%sql\n",
    "-- 1) Upsert de filas corregidas (fixed=TRUE) desde la cuarentena a silver\n",
    "MERGE INTO sesion1_2.layer30_silver.fact_engine_sensor AS tgt\n",
    "USING (\n",
    "  SELECT\n",
    "    reading_id,\n",
    "    aircraft_id,\n",
    "    event_ts,\n",
    "    event_date,\n",
    "    engine_pos,\n",
    "    phase_of_flight,\n",
    "    altitude_ft,\n",
    "    ias_kts,\n",
    "    egt_c,\n",
    "    n1_pct,\n",
    "    fuel_flow_kg_h,\n",
    "    vib_ips\n",
    "  FROM sesion1_2.layer30_silver_quarantine.fact_engine_sensor_quarantine\n",
    "  WHERE fixed = TRUE\n",
    ") AS src\n",
    "ON tgt.reading_id = src.reading_id\n",
    "\n",
    "WHEN MATCHED THEN UPDATE SET\n",
    "  tgt.aircraft_id     = src.aircraft_id,\n",
    "  tgt.event_ts        = src.event_ts,\n",
    "  tgt.event_date      = src.event_date,\n",
    "  tgt.engine_pos      = src.engine_pos,\n",
    "  tgt.phase_of_flight = src.phase_of_flight,\n",
    "  tgt.altitude_ft     = src.altitude_ft,\n",
    "  tgt.ias_kts         = src.ias_kts,\n",
    "  tgt.egt_c           = src.egt_c,\n",
    "  tgt.n1_pct          = src.n1_pct,\n",
    "  tgt.fuel_flow_kg_h  = src.fuel_flow_kg_h,\n",
    "  tgt.vib_ips         = src.vib_ips\n",
    "\n",
    "WHEN NOT MATCHED THEN INSERT (\n",
    "  reading_id, aircraft_id, event_ts, event_date, engine_pos, phase_of_flight,\n",
    "  altitude_ft, ias_kts, egt_c, n1_pct, fuel_flow_kg_h, vib_ips\n",
    ") VALUES (\n",
    "  src.reading_id, src.aircraft_id, src.event_ts, src.event_date, src.engine_pos, src.phase_of_flight,\n",
    "  src.altitude_ft, src.ias_kts, src.egt_c, src.n1_pct, src.fuel_flow_kg_h, src.vib_ips\n",
    ");\n",
    "\n",
    "-- 2) (Opcional) limpiar cuarentena de lo ya aplicado\n",
    "DELETE FROM sesion1_2.layer30_silver_quarantine.fact_engine_sensor_quarantine\n",
    "WHERE fixed = TRUE;\n"
   ]
  },
  {
   "cell_type": "markdown",
   "metadata": {
    "application/vnd.databricks.v1+cell": {
     "cellMetadata": {},
     "inputWidgets": {},
     "nuid": "58003f46-1ec1-4723-ac66-2a966322e9b3",
     "showTitle": false,
     "tableResultSettingsMap": {},
     "title": ""
    }
   },
   "source": [
    "## 1.3 facts_maintenance"
   ]
  },
  {
   "cell_type": "code",
   "execution_count": 0,
   "metadata": {
    "application/vnd.databricks.v1+cell": {
     "cellMetadata": {
      "byteLimit": 2048000,
      "implicitDf": true,
      "rowLimit": 10000
     },
     "inputWidgets": {},
     "nuid": "7977383c-0ac6-42ee-823b-9cd0dd2b6ed6",
     "showTitle": false,
     "tableResultSettingsMap": {},
     "title": ""
    }
   },
   "outputs": [
    {
     "output_type": "display_data",
     "data": {
      "text/html": [
       "<style scoped>\n",
       "  .table-result-container {\n",
       "    max-height: 300px;\n",
       "    overflow: auto;\n",
       "  }\n",
       "  table, th, td {\n",
       "    border: 1px solid black;\n",
       "    border-collapse: collapse;\n",
       "  }\n",
       "  th, td {\n",
       "    padding: 5px;\n",
       "  }\n",
       "  th {\n",
       "    text-align: left;\n",
       "  }\n",
       "</style><div class='table-result-container'><table class='table-result'><thead style='background-color: white'><tr><th>event_id</th><th>aircraft_id</th><th>event_ts</th><th>event_date</th><th>event_type</th><th>ata_chapter</th><th>defect_code</th><th>severity</th><th>grounded</th><th>workorder_id</th><th>duration_min</th><th>description</th><th>next_due_cycles</th><th>next_due_hours</th></tr></thead><tbody><tr><td>E0001</td><td>AC1000</td><td>2023-09-01T09:00:00.000Z</td><td>2023-09-01T09:00:00.000Z</td><td>A-Check</td><td>27</td><td>DC01</td><td>LOW</td><td>false</td><td>WO100</td><td>120</td><td>Routine check</td><td>500.0</td><td>1500.0</td></tr><tr><td>E0001</td><td>AC1000</td><td>2023-09-01T10:00:00.000Z</td><td>2023-09-01T10:00:00.000Z</td><td>A-Check</td><td>27</td><td>DC02</td><td>LOW</td><td>false</td><td>WO101</td><td>90</td><td>Follow-up</td><td>400.0</td><td>1200.0</td></tr><tr><td>null</td><td>AC2001</td><td>2023-10-10T12:00:00.000Z</td><td>2023-10-10T12:00:00.000Z</td><td>Unscheduled</td><td>32</td><td>DC10</td><td>MEDIUM</td><td>true</td><td>WO200</td><td>180</td><td>Hydraulic leak</td><td>300.0</td><td>800.0</td></tr><tr><td>   </td><td>AC2002</td><td>2023-10-11T14:00:00.000Z</td><td>2023-10-11T14:00:00.000Z</td><td>B-Check</td><td>28</td><td>DC20</td><td>HIGH</td><td>true</td><td>WO201</td><td>240</td><td>Fuel system</td><td>200.0</td><td>600.0</td></tr><tr><td>E0002</td><td>AC2003</td><td>2023-10-15T08:00:00.000Z</td><td>2023-10-15T08:00:00.000Z</td><td>C-Check</td><td>24</td><td>DC30</td><td>MEDIUM</td><td>false</td><td>WO300</td><td>5000</td><td>Electrical</td><td>150.0</td><td>500.0</td></tr><tr><td>E0003</td><td>AC2004</td><td>2023-10-16T08:30:00.000Z</td><td>2023-10-16T08:30:00.000Z</td><td>D-Check</td><td>21</td><td>DC40</td><td>HIGH</td><td>true</td><td>WO301</td><td>60</td><td>AC system</td><td>-10.0</td><td>400.0</td></tr><tr><td>E0004</td><td>AC2005</td><td>2023-10-17T09:00:00.000Z</td><td>2023-10-17T09:00:00.000Z</td><td>Inspection</td><td>22</td><td>DC50</td><td>LOW</td><td>false</td><td>WO302</td><td>45</td><td>Autopilot</td><td>100.0</td><td>60000.0</td></tr></tbody></table></div>"
      ]
     },
     "metadata": {
      "application/vnd.databricks.v1+output": {
       "addedWidgets": {},
       "aggData": [],
       "aggError": "",
       "aggOverflow": false,
       "aggSchema": [],
       "aggSeriesLimitReached": false,
       "aggType": "",
       "arguments": {},
       "columnCustomDisplayInfos": {},
       "data": [
        [
         "E0001",
         "AC1000",
         "2023-09-01T09:00:00.000Z",
         "2023-09-01T09:00:00.000Z",
         "A-Check",
         27,
         "DC01",
         "LOW",
         false,
         "WO100",
         120,
         "Routine check",
         500.0,
         1500.0
        ],
        [
         "E0001",
         "AC1000",
         "2023-09-01T10:00:00.000Z",
         "2023-09-01T10:00:00.000Z",
         "A-Check",
         27,
         "DC02",
         "LOW",
         false,
         "WO101",
         90,
         "Follow-up",
         400.0,
         1200.0
        ],
        [
         null,
         "AC2001",
         "2023-10-10T12:00:00.000Z",
         "2023-10-10T12:00:00.000Z",
         "Unscheduled",
         32,
         "DC10",
         "MEDIUM",
         true,
         "WO200",
         180,
         "Hydraulic leak",
         300.0,
         800.0
        ],
        [
         "   ",
         "AC2002",
         "2023-10-11T14:00:00.000Z",
         "2023-10-11T14:00:00.000Z",
         "B-Check",
         28,
         "DC20",
         "HIGH",
         true,
         "WO201",
         240,
         "Fuel system",
         200.0,
         600.0
        ],
        [
         "E0002",
         "AC2003",
         "2023-10-15T08:00:00.000Z",
         "2023-10-15T08:00:00.000Z",
         "C-Check",
         24,
         "DC30",
         "MEDIUM",
         false,
         "WO300",
         5000,
         "Electrical",
         150.0,
         500.0
        ],
        [
         "E0003",
         "AC2004",
         "2023-10-16T08:30:00.000Z",
         "2023-10-16T08:30:00.000Z",
         "D-Check",
         21,
         "DC40",
         "HIGH",
         true,
         "WO301",
         60,
         "AC system",
         -10.0,
         400.0
        ],
        [
         "E0004",
         "AC2005",
         "2023-10-17T09:00:00.000Z",
         "2023-10-17T09:00:00.000Z",
         "Inspection",
         22,
         "DC50",
         "LOW",
         false,
         "WO302",
         45,
         "Autopilot",
         100.0,
         60000.0
        ]
       ],
       "datasetInfos": [
        {
         "name": "_sqldf",
         "schema": {
          "fields": [
           {
            "metadata": {},
            "name": "event_id",
            "nullable": true,
            "type": "string"
           },
           {
            "metadata": {},
            "name": "aircraft_id",
            "nullable": true,
            "type": "string"
           },
           {
            "metadata": {},
            "name": "event_ts",
            "nullable": true,
            "type": "timestamp"
           },
           {
            "metadata": {},
            "name": "event_date",
            "nullable": true,
            "type": "timestamp"
           },
           {
            "metadata": {},
            "name": "event_type",
            "nullable": true,
            "type": "string"
           },
           {
            "metadata": {},
            "name": "ata_chapter",
            "nullable": true,
            "type": "integer"
           },
           {
            "metadata": {},
            "name": "defect_code",
            "nullable": true,
            "type": "string"
           },
           {
            "metadata": {},
            "name": "severity",
            "nullable": true,
            "type": "string"
           },
           {
            "metadata": {},
            "name": "grounded",
            "nullable": true,
            "type": "boolean"
           },
           {
            "metadata": {},
            "name": "workorder_id",
            "nullable": true,
            "type": "string"
           },
           {
            "metadata": {},
            "name": "duration_min",
            "nullable": true,
            "type": "integer"
           },
           {
            "metadata": {},
            "name": "description",
            "nullable": true,
            "type": "string"
           },
           {
            "metadata": {},
            "name": "next_due_cycles",
            "nullable": true,
            "type": "double"
           },
           {
            "metadata": {},
            "name": "next_due_hours",
            "nullable": true,
            "type": "double"
           }
          ],
          "type": "struct"
         },
         "tableIdentifier": null,
         "typeStr": "pyspark.sql.connect.dataframe.DataFrame"
        }
       ],
       "dbfsResultPath": null,
       "isJsonSchema": true,
       "metadata": {
        "createTempViewForImplicitDf": true,
        "dataframeName": "_sqldf",
        "executionCount": 2
       },
       "overflow": false,
       "plotOptions": {
        "customPlotOptions": {},
        "displayType": "table",
        "pivotAggregation": null,
        "pivotColumns": null,
        "xColumns": null,
        "yColumns": null
       },
       "removedWidgets": [],
       "schema": [
        {
         "metadata": "{}",
         "name": "event_id",
         "type": "\"string\""
        },
        {
         "metadata": "{}",
         "name": "aircraft_id",
         "type": "\"string\""
        },
        {
         "metadata": "{}",
         "name": "event_ts",
         "type": "\"timestamp\""
        },
        {
         "metadata": "{}",
         "name": "event_date",
         "type": "\"timestamp\""
        },
        {
         "metadata": "{}",
         "name": "event_type",
         "type": "\"string\""
        },
        {
         "metadata": "{}",
         "name": "ata_chapter",
         "type": "\"integer\""
        },
        {
         "metadata": "{}",
         "name": "defect_code",
         "type": "\"string\""
        },
        {
         "metadata": "{}",
         "name": "severity",
         "type": "\"string\""
        },
        {
         "metadata": "{}",
         "name": "grounded",
         "type": "\"boolean\""
        },
        {
         "metadata": "{}",
         "name": "workorder_id",
         "type": "\"string\""
        },
        {
         "metadata": "{}",
         "name": "duration_min",
         "type": "\"integer\""
        },
        {
         "metadata": "{}",
         "name": "description",
         "type": "\"string\""
        },
        {
         "metadata": "{}",
         "name": "next_due_cycles",
         "type": "\"double\""
        },
        {
         "metadata": "{}",
         "name": "next_due_hours",
         "type": "\"double\""
        }
       ],
       "type": "table"
      }
     },
     "output_type": "display_data"
    }
   ],
   "source": [
    "%sql\n",
    "select *\n",
    "from sesion1_2.layer30_silver_quarantine.fact_maintenance_event_quarantine"
   ]
  },
  {
   "cell_type": "code",
   "execution_count": 0,
   "metadata": {
    "application/vnd.databricks.v1+cell": {
     "cellMetadata": {},
     "inputWidgets": {},
     "nuid": "627a404b-d7f6-4c01-94f2-60c8dec4b59b",
     "showTitle": false,
     "tableResultSettingsMap": {},
     "title": ""
    }
   },
   "outputs": [],
   "source": []
  }
 ],
 "metadata": {
  "application/vnd.databricks.v1+notebook": {
   "computePreferences": null,
   "dashboards": [],
   "environmentMetadata": {
    "base_environment": "",
    "environment_version": "3"
   },
   "inputWidgetPreferences": null,
   "language": "python",
   "notebookMetadata": {
    "mostRecentlyExecutedCommandWithImplicitDF": {
     "commandId": 5898624100775090,
     "dataframes": [
      "_sqldf"
     ]
    },
    "pythonIndentUnit": 4
   },
   "notebookName": "03_cuarentena_recov",
   "widgets": {}
  },
  "language_info": {
   "name": "python"
  }
 },
 "nbformat": 4,
 "nbformat_minor": 0
}