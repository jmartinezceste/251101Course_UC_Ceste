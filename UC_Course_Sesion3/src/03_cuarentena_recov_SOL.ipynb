{
 "cells": [
  {
   "cell_type": "markdown",
   "metadata": {
    "application/vnd.databricks.v1+cell": {
     "cellMetadata": {
      "byteLimit": 2048000,
      "rowLimit": 10000
     },
     "inputWidgets": {},
     "nuid": "bd7d7557-3418-475e-a52d-10a181da87be",
     "showTitle": false,
     "tableResultSettingsMap": {},
     "title": ""
    }
   },
   "source": [
    "# 1 Quarantine Tables"
   ]
  },
  {
   "cell_type": "markdown",
   "metadata": {
    "application/vnd.databricks.v1+cell": {
     "cellMetadata": {
      "byteLimit": 2048000,
      "rowLimit": 10000
     },
     "inputWidgets": {},
     "nuid": "b6c2d4bd-debb-4551-a88a-e39b85cf6cd9",
     "showTitle": false,
     "tableResultSettingsMap": {},
     "title": ""
    }
   },
   "source": [
    "En este entorno aún **no estamos en producción**, por lo que vamos a trabajar de forma **iterativa y experimental** sobre los datos que han sido enviados a la tabla de **cuarentena**.\n",
    "\n",
    "El objetivo es **detectar los errores más frecuentes**, **probar correcciones paso a paso** y **evaluar sus efectos** antes de integrarlas definitivamente en el flujo de validación oficial.\n",
    "\n",
    "A lo largo de este notebook, iremos aplicando transformaciones que conviertan los registros en cuarentena en datos **limpios, consistentes y listos para su reintegración en la capa Silver**.\n"
   ]
  },
  {
   "cell_type": "markdown",
   "metadata": {
    "application/vnd.databricks.v1+cell": {
     "cellMetadata": {
      "byteLimit": 2048000,
      "rowLimit": 10000
     },
     "inputWidgets": {},
     "nuid": "c579c209-24b2-43f9-81a0-e2c97cca4bd8",
     "showTitle": false,
     "tableResultSettingsMap": {},
     "title": ""
    }
   },
   "source": [
    "## 1.1 Dim_Aircraft"
   ]
  },
  {
   "cell_type": "markdown",
   "metadata": {
    "application/vnd.databricks.v1+cell": {
     "cellMetadata": {
      "byteLimit": 2048000,
      "rowLimit": 10000
     },
     "inputWidgets": {},
     "nuid": "b6ecc1b9-1595-40b7-a6a0-df07a79f61a3",
     "showTitle": false,
     "tableResultSettingsMap": {},
     "title": ""
    }
   },
   "source": [
    "Empecemos mostrando los registros que tenemos actualmente en la tabla Dim_Aircraft de Cuarentena"
   ]
  },
  {
   "cell_type": "code",
   "execution_count": 0,
   "metadata": {
    "application/vnd.databricks.v1+cell": {
     "cellMetadata": {
      "byteLimit": 2048000,
      "implicitDf": true,
      "rowLimit": 10000
     },
     "inputWidgets": {},
     "nuid": "3942bbe2-95db-4cbf-bc3c-0b4235ba90ab",
     "showTitle": false,
     "tableResultSettingsMap": {},
     "title": ""
    }
   },
   "outputs": [],
   "source": [
    "%sql\n",
    "--drop table if exists sesion1_2.layer30_silver_quarantine.dim_aircraft_quarantine;"
   ]
  },
  {
   "cell_type": "code",
   "execution_count": 0,
   "metadata": {
    "application/vnd.databricks.v1+cell": {
     "cellMetadata": {
      "byteLimit": 2048000,
      "implicitDf": true,
      "rowLimit": 10000
     },
     "inputWidgets": {},
     "nuid": "2732f02d-22cd-461c-951a-036c583cda70",
     "showTitle": false,
     "tableResultSettingsMap": {},
     "title": ""
    }
   },
   "outputs": [
    {
     "output_type": "display_data",
     "data": {
      "text/html": [
       "<style scoped>\n",
       "  .table-result-container {\n",
       "    max-height: 300px;\n",
       "    overflow: auto;\n",
       "  }\n",
       "  table, th, td {\n",
       "    border: 1px solid black;\n",
       "    border-collapse: collapse;\n",
       "  }\n",
       "  th, td {\n",
       "    padding: 5px;\n",
       "  }\n",
       "  th {\n",
       "    text-align: left;\n",
       "  }\n",
       "</style><div class='table-result-container'><table class='table-result'><thead style='background-color: white'><tr><th>aircraft_id</th><th>tail_number</th><th>model</th><th>manufacturer</th><th>engine_model</th><th>first_service_dt</th><th>status</th><th>cycles_total</th><th>hours_total</th><th>fixed</th><th>type_fix</th><th>date_fix</th><th>fix_version</th></tr></thead><tbody><tr><td>AC1000</td><td>TN-1000B</td><td>A320</td><td>Airbus</td><td>CFM56</td><td>2018-06-01</td><td>ACTIVE</td><td>12100</td><td>23600.0</td><td>null</td><td>null</td><td>null</td><td>null</td></tr><tr><td>null</td><td>TN-NULL</td><td>A319</td><td>Airbus</td><td>CFM56</td><td>2017-03-10</td><td>INACTIVE</td><td>8000</td><td>15000.0</td><td>null</td><td>null</td><td>null</td><td>null</td></tr><tr><td>   </td><td>TN-BLANK</td><td>B737</td><td>Boeing</td><td>LEAP-1B</td><td>2019-09-09</td><td>ACTIVE</td><td>9000</td><td>17000.0</td><td>null</td><td>null</td><td>null</td><td>null</td></tr><tr><td>AC2001</td><td>TN-2001</td><td>A321</td><td>Airbus</td><td>LEAP-1A</td><td>2020-02-02</td><td>ACTIVE</td><td>-5</td><td>10000.0</td><td>null</td><td>null</td><td>null</td><td>null</td></tr><tr><td>AC2002</td><td>TN-2002</td><td>737-800</td><td>Boeing</td><td>GEnx</td><td>2021-11-20</td><td>ACTIVE</td><td>5000</td><td>250000.0</td><td>null</td><td>null</td><td>null</td><td>null</td></tr><tr><td>AC2004</td><td>TN-2004</td><td>A320neo</td><td>Airbus</td><td>LEAP-1A</td><td>2020-08-08</td><td>ACTIVE</td><td>110000</td><td>12000.0</td><td>null</td><td>null</td><td>null</td><td>null</td></tr><tr><td>AC1000</td><td>TN-1000B</td><td>A320</td><td>Airbus</td><td>CFM56</td><td>2018-06-01</td><td>ACTIVE</td><td>12100</td><td>23600.0</td><td>null</td><td>null</td><td>null</td><td>null</td></tr><tr><td>null</td><td>TN-NULL</td><td>A319</td><td>Airbus</td><td>CFM56</td><td>2017-03-10</td><td>INACTIVE</td><td>8000</td><td>15000.0</td><td>null</td><td>null</td><td>null</td><td>null</td></tr><tr><td>   </td><td>TN-BLANK</td><td>B737</td><td>Boeing</td><td>LEAP-1B</td><td>2019-09-09</td><td>ACTIVE</td><td>9000</td><td>17000.0</td><td>null</td><td>null</td><td>null</td><td>null</td></tr><tr><td>AC2001</td><td>TN-2001</td><td>A321</td><td>Airbus</td><td>LEAP-1A</td><td>2020-02-02</td><td>ACTIVE</td><td>-5</td><td>10000.0</td><td>null</td><td>null</td><td>null</td><td>null</td></tr><tr><td>AC2002</td><td>TN-2002</td><td>737-800</td><td>Boeing</td><td>GEnx</td><td>2021-11-20</td><td>ACTIVE</td><td>5000</td><td>250000.0</td><td>null</td><td>null</td><td>null</td><td>null</td></tr><tr><td>AC2004</td><td>TN-2004</td><td>A320neo</td><td>Airbus</td><td>LEAP-1A</td><td>2020-08-08</td><td>ACTIVE</td><td>110000</td><td>12000.0</td><td>null</td><td>null</td><td>null</td><td>null</td></tr><tr><td>AC1000</td><td>TN-1000</td><td>A320</td><td>Boeing</td><td> </td><td>2018-01-15</td><td>ACTIVE</td><td>12000</td><td>null</td><td>null</td><td>null</td><td>null</td><td>null</td></tr><tr><td>AC1000</td><td>TN-1000B</td><td>A320</td><td>Airbus</td><td>CFM56</td><td>2018-06-01</td><td>ACTIVE</td><td>12100</td><td>23600.0</td><td>null</td><td>null</td><td>null</td><td>null</td></tr><tr><td>null</td><td>TN-NULL</td><td>A319</td><td>Airbus</td><td>CFM56</td><td>2017-03-10</td><td>INACTIVE</td><td>8000</td><td>15000.0</td><td>null</td><td>null</td><td>null</td><td>null</td></tr><tr><td>   </td><td>TN-BLANK</td><td>B737</td><td>Boeing</td><td>LEAP-1B</td><td>2019-09-09</td><td>ACTIVE</td><td>9000</td><td>17000.0</td><td>null</td><td>null</td><td>null</td><td>null</td></tr><tr><td>AC2001</td><td>TN-2001</td><td>A321</td><td>Airbus</td><td>LEAP-1A</td><td>2020-02-02</td><td>ACTIVE</td><td>-5</td><td>10000.0</td><td>null</td><td>null</td><td>null</td><td>null</td></tr><tr><td>AC2002</td><td>TN-2002</td><td>737-800</td><td>Boeing</td><td>GEnx</td><td>2021-11-20</td><td>ACTIVE</td><td>5000</td><td>250000.0</td><td>null</td><td>null</td><td>null</td><td>null</td></tr><tr><td>AC2003</td><td>TN-2003</td><td>A220</td><td>Boeing</td><td>null</td><td>2022-05-05</td><td>ACTIVE</td><td>3000</td><td>null</td><td>null</td><td>null</td><td>null</td><td>null</td></tr><tr><td>AC2004</td><td>TN-2004</td><td>A320neo</td><td>Airbus</td><td>LEAP-1A</td><td>2020-08-08</td><td>ACTIVE</td><td>110000</td><td>12000.0</td><td>null</td><td>null</td><td>null</td><td>null</td></tr><tr><td>AC2005</td><td>TN-2005</td><td>B737 MAX</td><td>Boeing</td><td>LEAP-1B</td><td>2021-01-01</td><td>ACTIVE</td><td>2000</td><td>-1.0</td><td>null</td><td>null</td><td>null</td><td>null</td></tr><tr><td>AC2006</td><td>TN-2006</td><td>E190</td><td>Boeing</td><td>null</td><td>2016-04-14</td><td>RETIRED</td><td>39395</td><td>null</td><td>null</td><td>null</td><td>null</td><td>null</td></tr></tbody></table></div>"
      ]
     },
     "metadata": {
      "application/vnd.databricks.v1+output": {
       "addedWidgets": {},
       "aggData": [],
       "aggError": "",
       "aggOverflow": false,
       "aggSchema": [],
       "aggSeriesLimitReached": false,
       "aggType": "",
       "arguments": {},
       "columnCustomDisplayInfos": {},
       "data": [
        [
         "AC1000",
         "TN-1000B",
         "A320",
         "Airbus",
         "CFM56",
         "2018-06-01",
         "ACTIVE",
         12100,
         23600.0,
         null,
         null,
         null,
         null
        ],
        [
         null,
         "TN-NULL",
         "A319",
         "Airbus",
         "CFM56",
         "2017-03-10",
         "INACTIVE",
         8000,
         15000.0,
         null,
         null,
         null,
         null
        ],
        [
         "   ",
         "TN-BLANK",
         "B737",
         "Boeing",
         "LEAP-1B",
         "2019-09-09",
         "ACTIVE",
         9000,
         17000.0,
         null,
         null,
         null,
         null
        ],
        [
         "AC2001",
         "TN-2001",
         "A321",
         "Airbus",
         "LEAP-1A",
         "2020-02-02",
         "ACTIVE",
         -5,
         10000.0,
         null,
         null,
         null,
         null
        ],
        [
         "AC2002",
         "TN-2002",
         "737-800",
         "Boeing",
         "GEnx",
         "2021-11-20",
         "ACTIVE",
         5000,
         250000.0,
         null,
         null,
         null,
         null
        ],
        [
         "AC2004",
         "TN-2004",
         "A320neo",
         "Airbus",
         "LEAP-1A",
         "2020-08-08",
         "ACTIVE",
         110000,
         12000.0,
         null,
         null,
         null,
         null
        ],
        [
         "AC1000",
         "TN-1000B",
         "A320",
         "Airbus",
         "CFM56",
         "2018-06-01",
         "ACTIVE",
         12100,
         23600.0,
         null,
         null,
         null,
         null
        ],
        [
         null,
         "TN-NULL",
         "A319",
         "Airbus",
         "CFM56",
         "2017-03-10",
         "INACTIVE",
         8000,
         15000.0,
         null,
         null,
         null,
         null
        ],
        [
         "   ",
         "TN-BLANK",
         "B737",
         "Boeing",
         "LEAP-1B",
         "2019-09-09",
         "ACTIVE",
         9000,
         17000.0,
         null,
         null,
         null,
         null
        ],
        [
         "AC2001",
         "TN-2001",
         "A321",
         "Airbus",
         "LEAP-1A",
         "2020-02-02",
         "ACTIVE",
         -5,
         10000.0,
         null,
         null,
         null,
         null
        ],
        [
         "AC2002",
         "TN-2002",
         "737-800",
         "Boeing",
         "GEnx",
         "2021-11-20",
         "ACTIVE",
         5000,
         250000.0,
         null,
         null,
         null,
         null
        ],
        [
         "AC2004",
         "TN-2004",
         "A320neo",
         "Airbus",
         "LEAP-1A",
         "2020-08-08",
         "ACTIVE",
         110000,
         12000.0,
         null,
         null,
         null,
         null
        ],
        [
         "AC1000",
         "TN-1000",
         "A320",
         "Boeing",
         " ",
         "2018-01-15",
         "ACTIVE",
         12000,
         null,
         null,
         null,
         null,
         null
        ],
        [
         "AC1000",
         "TN-1000B",
         "A320",
         "Airbus",
         "CFM56",
         "2018-06-01",
         "ACTIVE",
         12100,
         23600.0,
         null,
         null,
         null,
         null
        ],
        [
         null,
         "TN-NULL",
         "A319",
         "Airbus",
         "CFM56",
         "2017-03-10",
         "INACTIVE",
         8000,
         15000.0,
         null,
         null,
         null,
         null
        ],
        [
         "   ",
         "TN-BLANK",
         "B737",
         "Boeing",
         "LEAP-1B",
         "2019-09-09",
         "ACTIVE",
         9000,
         17000.0,
         null,
         null,
         null,
         null
        ],
        [
         "AC2001",
         "TN-2001",
         "A321",
         "Airbus",
         "LEAP-1A",
         "2020-02-02",
         "ACTIVE",
         -5,
         10000.0,
         null,
         null,
         null,
         null
        ],
        [
         "AC2002",
         "TN-2002",
         "737-800",
         "Boeing",
         "GEnx",
         "2021-11-20",
         "ACTIVE",
         5000,
         250000.0,
         null,
         null,
         null,
         null
        ],
        [
         "AC2003",
         "TN-2003",
         "A220",
         "Boeing",
         null,
         "2022-05-05",
         "ACTIVE",
         3000,
         null,
         null,
         null,
         null,
         null
        ],
        [
         "AC2004",
         "TN-2004",
         "A320neo",
         "Airbus",
         "LEAP-1A",
         "2020-08-08",
         "ACTIVE",
         110000,
         12000.0,
         null,
         null,
         null,
         null
        ],
        [
         "AC2005",
         "TN-2005",
         "B737 MAX",
         "Boeing",
         "LEAP-1B",
         "2021-01-01",
         "ACTIVE",
         2000,
         -1.0,
         null,
         null,
         null,
         null
        ],
        [
         "AC2006",
         "TN-2006",
         "E190",
         "Boeing",
         null,
         "2016-04-14",
         "RETIRED",
         39395,
         null,
         null,
         null,
         null,
         null
        ]
       ],
       "datasetInfos": [
        {
         "name": "_sqldf",
         "schema": {
          "fields": [
           {
            "metadata": {},
            "name": "aircraft_id",
            "nullable": true,
            "type": "string"
           },
           {
            "metadata": {},
            "name": "tail_number",
            "nullable": true,
            "type": "string"
           },
           {
            "metadata": {},
            "name": "model",
            "nullable": true,
            "type": "string"
           },
           {
            "metadata": {},
            "name": "manufacturer",
            "nullable": true,
            "type": "string"
           },
           {
            "metadata": {},
            "name": "engine_model",
            "nullable": true,
            "type": "string"
           },
           {
            "metadata": {
             "__detected_date_formats": "yyyy-M-d"
            },
            "name": "first_service_dt",
            "nullable": true,
            "type": "date"
           },
           {
            "metadata": {},
            "name": "status",
            "nullable": true,
            "type": "string"
           },
           {
            "metadata": {},
            "name": "cycles_total",
            "nullable": true,
            "type": "integer"
           },
           {
            "metadata": {},
            "name": "hours_total",
            "nullable": true,
            "type": "double"
           },
           {
            "metadata": {},
            "name": "fixed",
            "nullable": true,
            "type": "boolean"
           },
           {
            "metadata": {},
            "name": "type_fix",
            "nullable": true,
            "type": "string"
           },
           {
            "metadata": {},
            "name": "date_fix",
            "nullable": true,
            "type": "timestamp"
           },
           {
            "metadata": {},
            "name": "fix_version",
            "nullable": true,
            "type": "integer"
           }
          ],
          "type": "struct"
         },
         "tableIdentifier": null,
         "typeStr": "pyspark.sql.connect.dataframe.DataFrame"
        }
       ],
       "dbfsResultPath": null,
       "isJsonSchema": true,
       "metadata": {
        "createTempViewForImplicitDf": true,
        "dataframeName": "_sqldf",
        "executionCount": 3
       },
       "overflow": false,
       "plotOptions": {
        "customPlotOptions": {},
        "displayType": "table",
        "pivotAggregation": null,
        "pivotColumns": null,
        "xColumns": null,
        "yColumns": null
       },
       "removedWidgets": [],
       "schema": [
        {
         "metadata": "{}",
         "name": "aircraft_id",
         "type": "\"string\""
        },
        {
         "metadata": "{}",
         "name": "tail_number",
         "type": "\"string\""
        },
        {
         "metadata": "{}",
         "name": "model",
         "type": "\"string\""
        },
        {
         "metadata": "{}",
         "name": "manufacturer",
         "type": "\"string\""
        },
        {
         "metadata": "{}",
         "name": "engine_model",
         "type": "\"string\""
        },
        {
         "metadata": "{\"__detected_date_formats\": \"yyyy-M-d\"}",
         "name": "first_service_dt",
         "type": "\"date\""
        },
        {
         "metadata": "{}",
         "name": "status",
         "type": "\"string\""
        },
        {
         "metadata": "{}",
         "name": "cycles_total",
         "type": "\"integer\""
        },
        {
         "metadata": "{}",
         "name": "hours_total",
         "type": "\"double\""
        },
        {
         "metadata": "{}",
         "name": "fixed",
         "type": "\"boolean\""
        },
        {
         "metadata": "{}",
         "name": "type_fix",
         "type": "\"string\""
        },
        {
         "metadata": "{}",
         "name": "date_fix",
         "type": "\"timestamp\""
        },
        {
         "metadata": "{}",
         "name": "fix_version",
         "type": "\"integer\""
        }
       ],
       "type": "table"
      }
     },
     "output_type": "display_data"
    }
   ],
   "source": [
    "%sql\n",
    "select *\n",
    "from sesion1_2.layer30_silver_quarantine.dim_aircraft_quarantine"
   ]
  },
  {
   "cell_type": "markdown",
   "metadata": {
    "application/vnd.databricks.v1+cell": {
     "cellMetadata": {
      "byteLimit": 2048000,
      "rowLimit": 10000
     },
     "inputWidgets": {},
     "nuid": "162e5ada-3e7a-4729-a982-5d44cf8079b0",
     "showTitle": false,
     "tableResultSettingsMap": {},
     "title": ""
    }
   },
   "source": [
    "### 1.1.0 Creamos columnas de arreglos"
   ]
  },
  {
   "cell_type": "markdown",
   "metadata": {
    "application/vnd.databricks.v1+cell": {
     "cellMetadata": {
      "byteLimit": 2048000,
      "rowLimit": 10000
     },
     "inputWidgets": {},
     "nuid": "76ae3aca-75f5-40de-aaa7-9617c0ebdce0",
     "showTitle": false,
     "tableResultSettingsMap": {},
     "title": ""
    }
   },
   "source": [
    "%md\n",
    "Para poder **gestionar de forma trazable** los errores y sus correcciones, añadiremos una serie de columnas a la tabla de **cuarentena**.  \n",
    "Estas columnas nos permitirán registrar tanto el estado de cada registro como la evolución de las correcciones aplicadas a lo largo del tiempo.\n",
    "\n",
    "A continuación, añadimos las siguientes columnas:\n",
    "\n",
    "| Columna | Tipo | Descripción |\n",
    "|----------|------|-------------|\n",
    "| **fixed** | `BOOLEAN` | Indica si el registro ya ha sido corregido (`TRUE`) o sigue pendiente (`FALSE`). |\n",
    "| **type_fix** | `STRING` | Describe el tipo de corrección aplicada (por ejemplo: *null_filled*, *format_adjusted*, *id_relinked*, etc.). |\n",
    "| **date_fix** | `TIMESTAMP` | Fecha y hora en la que se realizó la corrección. Permite hacer seguimiento temporal de los cambios. |\n",
    "| **fix_version** | `INT` | Número de versión o iteración de la corrección, útil si un mismo registro ha sido corregido más de una vez. |\n",
    "\n",
    "Con esto, la tabla de cuarentena no solo almacena los registros problemáticos, sino también **su historial de resolución**, lo que facilita el **análisis de calidad de datos** y la **auditoría del proceso de validación**.\n"
   ]
  },
  {
   "cell_type": "code",
   "execution_count": 0,
   "metadata": {
    "application/vnd.databricks.v1+cell": {
     "cellMetadata": {
      "byteLimit": 2048000,
      "implicitDf": true,
      "rowLimit": 10000
     },
     "inputWidgets": {},
     "nuid": "07a2e2ce-197b-47d2-ba53-f09efef648e2",
     "showTitle": false,
     "tableResultSettingsMap": {},
     "title": ""
    }
   },
   "outputs": [],
   "source": [
    "%sql\n",
    "--drop catalog if exists layer20_bronze cascade;\n",
    "--drop catalog if exists layer30_silver cascade;\n",
    "--drop catalog if exists layer30_silver_quarantine cascade;\n"
   ]
  },
  {
   "cell_type": "markdown",
   "metadata": {
    "application/vnd.databricks.v1+cell": {
     "cellMetadata": {},
     "inputWidgets": {},
     "nuid": "061f70c2-aca8-49fa-b55d-a4a4fa7aa3d0",
     "showTitle": false,
     "tableResultSettingsMap": {},
     "title": ""
    }
   },
   "source": [
    "``/!\\ EJERCICIO``"
   ]
  },
  {
   "cell_type": "code",
   "execution_count": 0,
   "metadata": {
    "application/vnd.databricks.v1+cell": {
     "cellMetadata": {
      "byteLimit": 2048000,
      "implicitDf": true,
      "rowLimit": 10000
     },
     "inputWidgets": {},
     "nuid": "5ba1ff7c-fe9c-45d6-beb3-81041252341b",
     "showTitle": false,
     "tableResultSettingsMap": {},
     "title": ""
    }
   },
   "outputs": [],
   "source": [
    "table = \"sesion1_2.layer30_silver_quarantine.dim_aircraft_quarantine\"\n",
    "existing = {f.name.lower() for f in spark.table(table).schema}\n",
    "\n",
    "to_add = []\n",
    "if \"fixed\" not in existing:        to_add.append(\"fixed BOOLEAN\")\n",
    "if \"type_fix\" not in existing:     to_add.append(\"type_fix STRING\")\n",
    "if \"date_fix\" not in existing:     to_add.append(\"date_fix TIMESTAMP\")\n",
    "if \"fix_version\" not in existing:  to_add.append(\"fix_version INT\")\n",
    "\n",
    "if to_add:\n",
    "    spark.sql(f\"ALTER TABLE {table} ADD COLUMNS ({', '.join(to_add)})\")\n",
    "\n"
   ]
  },
  {
   "cell_type": "markdown",
   "metadata": {
    "application/vnd.databricks.v1+cell": {
     "cellMetadata": {
      "byteLimit": 2048000,
      "rowLimit": 10000
     },
     "inputWidgets": {},
     "nuid": "583fb0eb-bec8-4ea5-a691-c0723eeef27f",
     "showTitle": false,
     "tableResultSettingsMap": {},
     "title": ""
    }
   },
   "source": [
    "### 1.1.1 Caso de corrección: incoherencia entre horas y ciclos de vuelo\n",
    "\n",
    "Los registros correspondientes a aeronaves del fabricante **Boeing** representan vuelos **nacionales**, caracterizados por un ciclo medio de duración comprendido entre **1 hora y 30 minutos y 2 horas y 15 minutos**.\n",
    "\n",
    "Durante la validación se ha detectado que, en algunos casos, la columna `cycles_total` contiene valores registrados, mientras que la columna `hours_total` aparece vacía.  \n",
    "Dado que existe un consenso técnico sobre la relación aproximada entre ciclos y horas de vuelo, se acordó **corregir estos registros asignando a `hours_total` el valor `2000 * 2`**.\n",
    "\n",
    "Esta corrección permite mantener la coherencia interna de los datos y asegurar la consistencia entre ambas métricas operativas.\n"
   ]
  },
  {
   "cell_type": "markdown",
   "metadata": {
    "application/vnd.databricks.v1+cell": {
     "cellMetadata": {},
     "inputWidgets": {},
     "nuid": "9d17c0d1-a713-4d13-801e-391fbda712e2",
     "showTitle": false,
     "tableResultSettingsMap": {},
     "title": ""
    }
   },
   "source": [
    "``/!\\ EJERCICIO``"
   ]
  },
  {
   "cell_type": "code",
   "execution_count": 0,
   "metadata": {
    "application/vnd.databricks.v1+cell": {
     "cellMetadata": {
      "byteLimit": 2048000,
      "implicitDf": true,
      "rowLimit": 10000
     },
     "inputWidgets": {},
     "nuid": "04ef1b0b-84b8-4258-8e33-0d1d543cc9f6",
     "showTitle": false,
     "tableResultSettingsMap": {},
     "title": ""
    }
   },
   "outputs": [
    {
     "output_type": "display_data",
     "data": {
      "text/plain": [
       ""
      ]
     },
     "metadata": {
      "application/vnd.databricks.v1+output": {
       "addedWidgets": {},
       "arguments": {},
       "datasetInfos": [],
       "jupyterProps": null,
       "metadata": {
        "errorSummary": "Command skipped"
       },
       "removedWidgets": [],
       "sqlProps": null,
       "stackFrames": [],
       "type": "baseError"
      }
     },
     "output_type": "display_data"
    }
   ],
   "source": [
    "%sql\n",
    "UPDATE sesion1_2.layer30_silver_quarantine.dim_aircraft_quarantine\n",
    "SET \n",
    "    hours_total = cycles_total * 2,           -- regla de corrección\n",
    "    fixed = true,                             -- marcamos como corregido\n",
    "    type_fix = 'fix_hours_from_cycles',       -- tipo de arreglo aplicado\n",
    "    date_fix = current_timestamp(),           -- timestamp del arreglo\n",
    "    fix_version = 1                           -- versión de la regla\n",
    "WHERE manufacturer = 'Boeing'\n",
    "  AND (hours_total IS NULL OR hours_total < 0)\n",
    "  AND cycles_total IS NOT NULL;\n",
    "\n"
   ]
  },
  {
   "cell_type": "code",
   "execution_count": 0,
   "metadata": {
    "application/vnd.databricks.v1+cell": {
     "cellMetadata": {
      "byteLimit": 2048000,
      "implicitDf": true,
      "rowLimit": 10000
     },
     "inputWidgets": {},
     "nuid": "efd0f7ce-cd56-4a0b-8d3d-0fc702d7bff4",
     "showTitle": false,
     "tableResultSettingsMap": {},
     "title": ""
    }
   },
   "outputs": [
    {
     "output_type": "display_data",
     "data": {
      "text/plain": [
       ""
      ]
     },
     "metadata": {
      "application/vnd.databricks.v1+output": {
       "addedWidgets": {},
       "arguments": {},
       "datasetInfos": [],
       "jupyterProps": null,
       "metadata": {
        "errorSummary": "Command skipped"
       },
       "removedWidgets": [],
       "sqlProps": null,
       "stackFrames": [],
       "type": "baseError"
      }
     },
     "output_type": "display_data"
    }
   ],
   "source": [
    "%sql\n",
    "select *\n",
    "from sesion1_2.layer30_silver_quarantine.dim_aircraft_quarantine\n"
   ]
  },
  {
   "cell_type": "markdown",
   "metadata": {
    "application/vnd.databricks.v1+cell": {
     "cellMetadata": {
      "byteLimit": 2048000,
      "rowLimit": 10000
     },
     "inputWidgets": {},
     "nuid": "03fa779e-a7e4-4da7-b8ba-dcdc575fde1a",
     "showTitle": false,
     "tableResultSettingsMap": {},
     "title": ""
    }
   },
   "source": [
    "###  1.1.2 Caso de corrección: valores nulos en *Engine Model*\n",
    "\n",
    "Se han identificado registros en la tabla de cuarentena con la columna `engine_model` vacía.  \n",
    "Para estos casos, se deberá **consultar la tabla Silver** correspondiente y **asignar el valor de `engine_model` utilizado para el mismo modelo de aeronave**.\n"
   ]
  },
  {
   "cell_type": "code",
   "execution_count": 0,
   "metadata": {
    "application/vnd.databricks.v1+cell": {
     "cellMetadata": {
      "byteLimit": 2048000,
      "implicitDf": true,
      "rowLimit": 10000
     },
     "inputWidgets": {},
     "nuid": "a653ec9b-f695-4d1f-8a5c-7d4e07e2c702",
     "showTitle": false,
     "tableResultSettingsMap": {
      "0": {
       "dataGridStateBlob": "{\"version\":1,\"tableState\":{\"columnPinning\":{\"left\":[\"#row_number#\"],\"right\":[]},\"columnSizing\":{},\"columnVisibility\":{}},\"settings\":{\"columns\":{}},\"syncTimestamp\":1760023948100}",
       "filterBlob": null,
       "queryPlanFiltersBlob": null,
       "tableResultIndex": 0
      }
     },
     "title": ""
    }
   },
   "outputs": [
    {
     "output_type": "display_data",
     "data": {
      "text/plain": [
       ""
      ]
     },
     "metadata": {
      "application/vnd.databricks.v1+output": {
       "addedWidgets": {},
       "arguments": {},
       "datasetInfos": [],
       "jupyterProps": null,
       "metadata": {
        "errorSummary": "Command skipped"
       },
       "removedWidgets": [],
       "sqlProps": null,
       "stackFrames": [],
       "type": "baseError"
      }
     },
     "output_type": "display_data"
    }
   ],
   "source": [
    "%sql\n",
    "select *\n",
    "from sesion1_2.layer30_silver_quarantine.dim_aircraft_quarantine\n",
    "where engine_model is null\n",
    "or trim(engine_model) = ''\n"
   ]
  },
  {
   "cell_type": "markdown",
   "metadata": {
    "application/vnd.databricks.v1+cell": {
     "cellMetadata": {
      "byteLimit": 2048000,
      "rowLimit": 10000
     },
     "inputWidgets": {},
     "nuid": "8bd7fc08-d44c-4144-a53d-ec0b0f2a5063",
     "showTitle": false,
     "tableResultSettingsMap": {},
     "title": ""
    }
   },
   "source": [
    "- Creamos una vista con las valores unicos de modelo y su engine_model asociado "
   ]
  },
  {
   "cell_type": "markdown",
   "metadata": {
    "application/vnd.databricks.v1+cell": {
     "cellMetadata": {},
     "inputWidgets": {},
     "nuid": "717d2055-cd31-4ce6-b3bd-78cd3846a410",
     "showTitle": false,
     "tableResultSettingsMap": {},
     "title": ""
    }
   },
   "source": [
    "``/!\\ EJERCICIO``"
   ]
  },
  {
   "cell_type": "code",
   "execution_count": 0,
   "metadata": {
    "application/vnd.databricks.v1+cell": {
     "cellMetadata": {
      "byteLimit": 2048000,
      "implicitDf": true,
      "rowLimit": 10000
     },
     "inputWidgets": {},
     "nuid": "264ab11a-b560-4866-80b1-a88e62e8f10c",
     "showTitle": false,
     "tableResultSettingsMap": {},
     "title": ""
    }
   },
   "outputs": [
    {
     "output_type": "display_data",
     "data": {
      "text/plain": [
       ""
      ]
     },
     "metadata": {
      "application/vnd.databricks.v1+output": {
       "addedWidgets": {},
       "arguments": {},
       "datasetInfos": [],
       "jupyterProps": null,
       "metadata": {
        "errorSummary": "Command skipped"
       },
       "removedWidgets": [],
       "sqlProps": null,
       "stackFrames": [],
       "type": "baseError"
      }
     },
     "output_type": "display_data"
    }
   ],
   "source": [
    "%sql\n",
    "CREATE OR REPLACE VIEW sesion1_2.layer30_silver.dim_aircraft_models AS\n",
    "SELECT \n",
    "  model,\n",
    "  first(engine_model, TRUE) AS engine_model\n",
    "FROM sesion1_2.layer30_silver.dim_aircraft\n",
    "WHERE engine_model IS NOT NULL\n",
    "  AND trim(engine_model) <> ''\n",
    "GROUP BY model;\n",
    "\n"
   ]
  },
  {
   "cell_type": "markdown",
   "metadata": {
    "application/vnd.databricks.v1+cell": {
     "cellMetadata": {
      "byteLimit": 2048000,
      "rowLimit": 10000
     },
     "inputWidgets": {},
     "nuid": "f5f9faa5-72e7-4a45-96e2-00db5b60daae",
     "showTitle": false,
     "tableResultSettingsMap": {},
     "title": ""
    }
   },
   "source": [
    "- Veamos la vista que hemos creado"
   ]
  },
  {
   "cell_type": "code",
   "execution_count": 0,
   "metadata": {
    "application/vnd.databricks.v1+cell": {
     "cellMetadata": {
      "byteLimit": 2048000,
      "implicitDf": true,
      "rowLimit": 10000
     },
     "inputWidgets": {},
     "nuid": "4017935d-f7bf-4c0b-b007-a8b128edeebf",
     "showTitle": false,
     "tableResultSettingsMap": {},
     "title": ""
    }
   },
   "outputs": [
    {
     "output_type": "display_data",
     "data": {
      "text/plain": [
       ""
      ]
     },
     "metadata": {
      "application/vnd.databricks.v1+output": {
       "addedWidgets": {},
       "arguments": {},
       "datasetInfos": [],
       "jupyterProps": null,
       "metadata": {
        "errorSummary": "Command skipped"
       },
       "removedWidgets": [],
       "sqlProps": null,
       "stackFrames": [],
       "type": "baseError"
      }
     },
     "output_type": "display_data"
    }
   ],
   "source": [
    "%sql\n",
    "SELECT * \n",
    "FROM sesion1_2.layer30_silver.dim_aircraft_models\n",
    "ORDER BY model\n",
    "LIMIT 50;\n"
   ]
  },
  {
   "cell_type": "markdown",
   "metadata": {
    "application/vnd.databricks.v1+cell": {
     "cellMetadata": {
      "byteLimit": 2048000,
      "rowLimit": 10000
     },
     "inputWidgets": {},
     "nuid": "7d95fee5-bf82-44a0-9f18-f70a1c660cfd",
     "showTitle": false,
     "tableResultSettingsMap": {},
     "title": ""
    }
   },
   "source": [
    "- Por ultimo hagamos el merge trayendo a nuestra tabla ``dim_aircraft_quarantine`` los engine_model correspondientes desde la vista creada"
   ]
  },
  {
   "cell_type": "markdown",
   "metadata": {
    "application/vnd.databricks.v1+cell": {
     "cellMetadata": {},
     "inputWidgets": {},
     "nuid": "42fa22bc-4b56-48f8-8049-68909b14542f",
     "showTitle": false,
     "tableResultSettingsMap": {},
     "title": ""
    }
   },
   "source": [
    "``/!\\ EJERCICIO``"
   ]
  },
  {
   "cell_type": "code",
   "execution_count": 0,
   "metadata": {
    "application/vnd.databricks.v1+cell": {
     "cellMetadata": {
      "byteLimit": 2048000,
      "implicitDf": true,
      "rowLimit": 10000
     },
     "inputWidgets": {},
     "nuid": "e6ade7fa-6d69-497d-a00d-783b94a23c79",
     "showTitle": false,
     "tableResultSettingsMap": {},
     "title": ""
    }
   },
   "outputs": [
    {
     "output_type": "display_data",
     "data": {
      "text/plain": [
       ""
      ]
     },
     "metadata": {
      "application/vnd.databricks.v1+output": {
       "addedWidgets": {},
       "arguments": {},
       "datasetInfos": [],
       "jupyterProps": null,
       "metadata": {
        "errorSummary": "Command skipped"
       },
       "removedWidgets": [],
       "sqlProps": null,
       "stackFrames": [],
       "type": "baseError"
      }
     },
     "output_type": "display_data"
    }
   ],
   "source": [
    "%sql\n",
    "-- Rellenar engine_model en cuarentena a partir de la vista de referencia por model\n",
    "MERGE INTO sesion1_2.layer30_silver_quarantine.dim_aircraft_quarantine AS tgt\n",
    "USING sesion1_2.layer30_silver.dim_aircraft_models                         AS src\n",
    "ON  tgt.model = src.model\n",
    "\n",
    "WHEN MATCHED\n",
    "  AND (tgt.engine_model IS NULL OR trim(tgt.engine_model) = '')\n",
    "  AND src.engine_model IS NOT NULL\n",
    "THEN UPDATE SET\n",
    "  tgt.engine_model = src.engine_model,\n",
    "  tgt.fixed        = TRUE,\n",
    "  tgt.type_fix     = 'engine_model_from_lookup_by_model',\n",
    "  tgt.date_fix     = current_timestamp(),\n",
    "  tgt.fix_version  = coalesce(tgt.fix_version, 0) + 1\n",
    ";\n"
   ]
  },
  {
   "cell_type": "code",
   "execution_count": 0,
   "metadata": {
    "application/vnd.databricks.v1+cell": {
     "cellMetadata": {
      "byteLimit": 2048000,
      "implicitDf": true,
      "rowLimit": 10000
     },
     "inputWidgets": {},
     "nuid": "9ab64b4d-55e3-4792-82d9-55eb20523766",
     "showTitle": false,
     "tableResultSettingsMap": {},
     "title": ""
    }
   },
   "outputs": [
    {
     "output_type": "display_data",
     "data": {
      "text/plain": [
       ""
      ]
     },
     "metadata": {
      "application/vnd.databricks.v1+output": {
       "addedWidgets": {},
       "arguments": {},
       "datasetInfos": [],
       "jupyterProps": null,
       "metadata": {
        "errorSummary": "Command skipped"
       },
       "removedWidgets": [],
       "sqlProps": null,
       "stackFrames": [],
       "type": "baseError"
      }
     },
     "output_type": "display_data"
    }
   ],
   "source": [
    "%sql\n",
    "select *\n",
    "from sesion1_2.layer30_silver_quarantine.dim_aircraft_quarantine"
   ]
  },
  {
   "cell_type": "markdown",
   "metadata": {
    "application/vnd.databricks.v1+cell": {
     "cellMetadata": {
      "byteLimit": 2048000,
      "rowLimit": 10000
     },
     "inputWidgets": {},
     "nuid": "723db557-8bb6-4dc5-89cc-1a8a87d00e7a",
     "showTitle": false,
     "tableResultSettingsMap": {},
     "title": ""
    }
   },
   "source": [
    "### 1.1.3 Join a Tabla Principal"
   ]
  },
  {
   "cell_type": "markdown",
   "metadata": {
    "application/vnd.databricks.v1+cell": {
     "cellMetadata": {
      "byteLimit": 2048000,
      "rowLimit": 10000
     },
     "inputWidgets": {},
     "nuid": "73edc4aa-b494-4555-8a34-afc3450c35fc",
     "showTitle": false,
     "tableResultSettingsMap": {},
     "title": ""
    }
   },
   "source": [
    "%md\n",
    "### \uD83D\uDD04 Reintegración de registros corregidos en la capa Silver\n",
    "\n",
    "Una vez completadas las correcciones en la tabla de **cuarentena**, los registros marcados como `fixed = TRUE` pueden ser **reincorporados** a la tabla principal de la capa **Silver**.  \n",
    "\n",
    "Para ello, se realiza una operación de tipo **MERGE**, que compara ambas tablas (`Silver` y `Quarantine`) en base a la clave primaria `aircraft_id`.  \n",
    "Este proceso actualiza los registros ya existentes y añade aquellos que aún no estaban presentes en la tabla destino.\n",
    "\n",
    "El flujo resultante es:\n",
    "\n",
    "1. **Seleccionar** los registros corregidos en cuarentena (`fixed = TRUE`).  \n",
    "2. **Actualizar** en la tabla Silver los campos modificados.  \n",
    "3. **Insertar** los nuevos registros que aún no existían.  \n",
    "\n",
    "De esta forma, los datos recuperados pasan a formar parte de la tabla **`dim_aircraft`** validada, garantizando trazabilidad, control de versiones y consistencia con el proceso de validación general.\n"
   ]
  },
  {
   "cell_type": "code",
   "execution_count": 0,
   "metadata": {
    "application/vnd.databricks.v1+cell": {
     "cellMetadata": {
      "byteLimit": 2048000,
      "implicitDf": true,
      "rowLimit": 10000
     },
     "inputWidgets": {},
     "nuid": "04d9d9ed-9408-4905-8175-426c74045b71",
     "showTitle": false,
     "tableResultSettingsMap": {},
     "title": ""
    }
   },
   "outputs": [
    {
     "output_type": "display_data",
     "data": {
      "text/plain": [
       ""
      ]
     },
     "metadata": {
      "application/vnd.databricks.v1+output": {
       "addedWidgets": {},
       "arguments": {},
       "datasetInfos": [],
       "jupyterProps": null,
       "metadata": {
        "errorSummary": "Command skipped"
       },
       "removedWidgets": [],
       "sqlProps": null,
       "stackFrames": [],
       "type": "baseError"
      }
     },
     "output_type": "display_data"
    }
   ],
   "source": [
    "%sql\n",
    "MERGE INTO sesion1_2.layer30_silver.dim_aircraft AS tgt\n",
    "USING (\n",
    "  SELECT\n",
    "    aircraft_id, tail_number, model, manufacturer,\n",
    "    engine_model, first_service_dt, status,\n",
    "    cycles_total, hours_total\n",
    "  FROM sesion1_2.layer30_silver_quarantine.dim_aircraft_quarantine\n",
    "  WHERE fixed = TRUE\n",
    ") AS src\n",
    "ON tgt.aircraft_id = src.aircraft_id\n",
    "\n",
    "WHEN MATCHED THEN UPDATE SET\n",
    "  tgt.tail_number      = src.tail_number,\n",
    "  tgt.model            = src.model,\n",
    "  tgt.manufacturer     = src.manufacturer,\n",
    "  tgt.engine_model     = src.engine_model,\n",
    "  tgt.first_service_dt = src.first_service_dt,\n",
    "  tgt.status           = src.status,\n",
    "  tgt.cycles_total     = src.cycles_total,\n",
    "  tgt.hours_total      = src.hours_total\n",
    "\n",
    "WHEN NOT MATCHED THEN INSERT (\n",
    "  aircraft_id, tail_number, model, manufacturer,\n",
    "  engine_model, first_service_dt, status,\n",
    "  cycles_total, hours_total\n",
    ") VALUES (\n",
    "  src.aircraft_id, src.tail_number, src.model, src.manufacturer,\n",
    "  src.engine_model, src.first_service_dt, src.status,\n",
    "  src.cycles_total, src.hours_total\n",
    ");\n"
   ]
  },
  {
   "cell_type": "code",
   "execution_count": 0,
   "metadata": {
    "application/vnd.databricks.v1+cell": {
     "cellMetadata": {
      "byteLimit": 2048000,
      "implicitDf": true,
      "rowLimit": 10000
     },
     "inputWidgets": {},
     "nuid": "4b5a0c27-d586-47f7-8806-3e3b8aa8d7e6",
     "showTitle": false,
     "tableResultSettingsMap": {},
     "title": ""
    }
   },
   "outputs": [
    {
     "output_type": "display_data",
     "data": {
      "text/plain": [
       ""
      ]
     },
     "metadata": {
      "application/vnd.databricks.v1+output": {
       "addedWidgets": {},
       "arguments": {},
       "datasetInfos": [],
       "jupyterProps": null,
       "metadata": {
        "errorSummary": "Command skipped"
       },
       "removedWidgets": [],
       "sqlProps": null,
       "stackFrames": [],
       "type": "baseError"
      }
     },
     "output_type": "display_data"
    }
   ],
   "source": [
    "%sql\n",
    "DELETE FROM sesion1_2.layer30_silver_quarantine.dim_aircraft_quarantine\n",
    "WHERE fixed = TRUE;"
   ]
  },
  {
   "cell_type": "markdown",
   "metadata": {
    "application/vnd.databricks.v1+cell": {
     "cellMetadata": {
      "byteLimit": 2048000,
      "rowLimit": 10000
     },
     "inputWidgets": {},
     "nuid": "06d93d5f-ef85-4710-bbbd-7ab80de4bc15",
     "showTitle": false,
     "tableResultSettingsMap": {},
     "title": ""
    }
   },
   "source": [
    "## 1.2 facts_sensors"
   ]
  },
  {
   "cell_type": "markdown",
   "metadata": {
    "application/vnd.databricks.v1+cell": {
     "cellMetadata": {
      "byteLimit": 2048000,
      "rowLimit": 10000
     },
     "inputWidgets": {},
     "nuid": "a75f7f35-0528-4625-b128-26e0704e14f0",
     "showTitle": false,
     "tableResultSettingsMap": {},
     "title": ""
    }
   },
   "source": [
    "\n",
    "Tras haber completado la recuperación y actualización de los registros en **`dim_aircraft`**, continuaremos con la revisión de la siguiente tabla del flujo.  \n",
    "El objetivo es **aplicar la misma lógica de análisis, corrección y reintegración**, adaptándola a las particularidades de cada dataset.\n",
    "\n",
    "En esta nueva sección, identificaremos los principales errores detectados, propondremos las reglas de corrección y prepararemos los datos para su posterior promoción a la capa **Silver**.\n"
   ]
  },
  {
   "cell_type": "code",
   "execution_count": 0,
   "metadata": {
    "application/vnd.databricks.v1+cell": {
     "cellMetadata": {
      "byteLimit": 2048000,
      "implicitDf": true,
      "rowLimit": 10000
     },
     "inputWidgets": {},
     "nuid": "ebd03c4a-8386-41e4-b2c1-e4b9773b3330",
     "showTitle": false,
     "tableResultSettingsMap": {},
     "title": ""
    }
   },
   "outputs": [
    {
     "output_type": "display_data",
     "data": {
      "text/plain": [
       ""
      ]
     },
     "metadata": {
      "application/vnd.databricks.v1+output": {
       "addedWidgets": {},
       "arguments": {},
       "datasetInfos": [],
       "jupyterProps": null,
       "metadata": {
        "errorSummary": "Command skipped"
       },
       "removedWidgets": [],
       "sqlProps": null,
       "stackFrames": [],
       "type": "baseError"
      }
     },
     "output_type": "display_data"
    }
   ],
   "source": [
    "%sql\n",
    "select *\n",
    "from sesion1_2.layer30_silver_quarantine.fact_engine_sensor_quarantine"
   ]
  },
  {
   "cell_type": "markdown",
   "metadata": {
    "application/vnd.databricks.v1+cell": {
     "cellMetadata": {
      "byteLimit": 2048000,
      "rowLimit": 10000
     },
     "inputWidgets": {},
     "nuid": "b15a7d78-1b79-4099-8081-ebafe7b30e03",
     "showTitle": false,
     "tableResultSettingsMap": {},
     "title": ""
    }
   },
   "source": [
    "### 1.2.0 Creamos columnas de trazabilidad de fallos"
   ]
  },
  {
   "cell_type": "markdown",
   "metadata": {
    "application/vnd.databricks.v1+cell": {
     "cellMetadata": {
      "byteLimit": 2048000,
      "rowLimit": 10000
     },
     "inputWidgets": {},
     "nuid": "33501071-64dc-4892-a53a-75205c9311ab",
     "showTitle": false,
     "tableResultSettingsMap": {},
     "title": ""
    }
   },
   "source": [
    "de la misma manera creamos las mismas columnas que nos ayuden con la trazabilidad de errores"
   ]
  },
  {
   "cell_type": "code",
   "execution_count": 0,
   "metadata": {
    "application/vnd.databricks.v1+cell": {
     "cellMetadata": {
      "byteLimit": 2048000,
      "implicitDf": true,
      "rowLimit": 10000
     },
     "inputWidgets": {},
     "nuid": "f761179a-c8f2-48b0-9d3d-0e623a1a3392",
     "showTitle": false,
     "tableResultSettingsMap": {},
     "title": ""
    }
   },
   "outputs": [
    {
     "output_type": "display_data",
     "data": {
      "text/plain": [
       ""
      ]
     },
     "metadata": {
      "application/vnd.databricks.v1+output": {
       "addedWidgets": {},
       "arguments": {},
       "datasetInfos": [],
       "jupyterProps": null,
       "metadata": {
        "errorSummary": "Command skipped"
       },
       "removedWidgets": [],
       "sqlProps": null,
       "stackFrames": [],
       "type": "baseError"
      }
     },
     "output_type": "display_data"
    }
   ],
   "source": [
    "table = \"sesion1_2.layer30_silver_quarantine.fact_engine_sensor_quarantine\"\n",
    "existing = {f.name.lower() for f in spark.table(table).schema}\n",
    "\n",
    "to_add = []\n",
    "if \"fixed\" not in existing:        to_add.append(\"fixed BOOLEAN\")\n",
    "if \"type_fix\" not in existing:     to_add.append(\"type_fix STRING\")\n",
    "if \"date_fix\" not in existing:     to_add.append(\"date_fix TIMESTAMP\")\n",
    "if \"fix_version\" not in existing:  to_add.append(\"fix_version INT\")\n",
    "\n",
    "if to_add:\n",
    "    spark.sql(f\"ALTER TABLE {table} ADD COLUMNS ({', '.join(to_add)})\")"
   ]
  },
  {
   "cell_type": "markdown",
   "metadata": {
    "application/vnd.databricks.v1+cell": {
     "cellMetadata": {
      "byteLimit": 2048000,
      "rowLimit": 10000
     },
     "inputWidgets": {},
     "nuid": "9b5d8f2b-3185-49cd-97fb-8dbd41dd9926",
     "showTitle": false,
     "tableResultSettingsMap": {},
     "title": ""
    }
   },
   "source": [
    "### 1.2.1 Caso de corrección: altitudes anómalas\n",
    "\n",
    "Se han identificado registros con valores de **altitud superiores a 50.000 pies**, considerados atípicos para operaciones estándar.  \n",
    "Sin embargo, ciertos modelos específicos de aeronaves sí pueden alcanzar dichas altitudes, por lo que **estos casos se consideran válidos**.\n",
    "\n",
    "Por tanto, la regla de corrección consiste en:\n",
    "- **Marcar como erróneos** los registros con `altitude > 50000`,  \n",
    "- **Exceptuando** aquellos cuyo `model` pertenezca al grupo de aeronaves `737-800`.\n",
    "\n",
    "Esta validación permite mantener la integridad de los datos sin penalizar los comportamientos esperables en modelos concretos.\n"
   ]
  },
  {
   "cell_type": "markdown",
   "metadata": {
    "application/vnd.databricks.v1+cell": {
     "cellMetadata": {},
     "inputWidgets": {},
     "nuid": "481e5239-5c86-49e5-a37a-8b6337207f82",
     "showTitle": false,
     "tableResultSettingsMap": {},
     "title": ""
    }
   },
   "source": [
    "``/!\\ EJERCICIO``"
   ]
  },
  {
   "cell_type": "code",
   "execution_count": 0,
   "metadata": {
    "application/vnd.databricks.v1+cell": {
     "cellMetadata": {
      "byteLimit": 2048000,
      "implicitDf": true,
      "rowLimit": 10000
     },
     "inputWidgets": {},
     "nuid": "ae06a506-aa44-4f91-9f84-e897d6685cbc",
     "showTitle": false,
     "tableResultSettingsMap": {},
     "title": ""
    }
   },
   "outputs": [
    {
     "output_type": "display_data",
     "data": {
      "text/plain": [
       ""
      ]
     },
     "metadata": {
      "application/vnd.databricks.v1+output": {
       "addedWidgets": {},
       "arguments": {},
       "datasetInfos": [],
       "jupyterProps": null,
       "metadata": {
        "errorSummary": "Command skipped"
       },
       "removedWidgets": [],
       "sqlProps": null,
       "stackFrames": [],
       "type": "baseError"
      }
     },
     "output_type": "display_data"
    }
   ],
   "source": [
    "%sql\n",
    "MERGE INTO sesion1_2.layer30_silver_quarantine.fact_engine_sensor_quarantine AS tgt\n",
    "USING sesion1_2.layer30_silver.dim_aircraft AS src\n",
    "ON tgt.aircraft_id = src.aircraft_id\n",
    "\n",
    "WHEN MATCHED\n",
    "  AND src.model = '737-800'\n",
    "  AND tgt.altitude_ft > 50000\n",
    "THEN UPDATE SET\n",
    "  tgt.fixed       = TRUE,\n",
    "  tgt.type_fix    = 'altitude_flag_over_50000_for_b737',\n",
    "  tgt.date_fix    = current_timestamp(),\n",
    "  tgt.fix_version = 1\n",
    ";\n"
   ]
  },
  {
   "cell_type": "markdown",
   "metadata": {
    "application/vnd.databricks.v1+cell": {
     "cellMetadata": {
      "byteLimit": 2048000,
      "rowLimit": 10000
     },
     "inputWidgets": {},
     "nuid": "8d9bf5db-3bae-48d7-b315-5b6225077776",
     "showTitle": false,
     "tableResultSettingsMap": {},
     "title": ""
    }
   },
   "source": [
    "### 1.2.2 Caso de corrección: validación de velocidad indicada (*IAS_KTS*)\n",
    "\n",
    "La columna `ias_kts` representa la **velocidad indicada en nudos** (*Indicated Air Speed*).  \n",
    "En nuestro pipeline, el rango operativo definido se encuentra entre **0 y 600 nudos**, considerándose cualquier valor fuera de ese intervalo como anómalo.\n",
    "\n",
    "No obstante, se han identificado **excepciones operativas** en las que ciertas combinaciones de *fase de vuelo* y *modelo de aeronave* pueden justificar valores fuera de rango.  \n",
    "\n",
    "Por tanto, la regla de corrección es la siguiente:\n",
    "- **Exceptuar** aquellos casos en los que la columna `flight_phase` sea `\"CLIMB\"` o `\"DESCENT\"`\n",
    "\n",
    "De esta manera, se preserva la coherencia del dataset sin penalizar comportamientos técnicamente válidos bajo condiciones específicas.\n"
   ]
  },
  {
   "cell_type": "markdown",
   "metadata": {
    "application/vnd.databricks.v1+cell": {
     "cellMetadata": {},
     "inputWidgets": {},
     "nuid": "d2db623c-5966-4104-be09-15dcbbce6c60",
     "showTitle": false,
     "tableResultSettingsMap": {},
     "title": ""
    }
   },
   "source": [
    "``/!\\ EJERCICIO``"
   ]
  },
  {
   "cell_type": "code",
   "execution_count": 0,
   "metadata": {
    "application/vnd.databricks.v1+cell": {
     "cellMetadata": {
      "byteLimit": 2048000,
      "implicitDf": true,
      "rowLimit": 10000
     },
     "inputWidgets": {},
     "nuid": "f81f8ab6-abf2-4e4d-acec-b52353f9c3bf",
     "showTitle": false,
     "tableResultSettingsMap": {},
     "title": ""
    }
   },
   "outputs": [
    {
     "output_type": "display_data",
     "data": {
      "text/plain": [
       ""
      ]
     },
     "metadata": {
      "application/vnd.databricks.v1+output": {
       "addedWidgets": {},
       "arguments": {},
       "datasetInfos": [],
       "jupyterProps": null,
       "metadata": {
        "errorSummary": "Command skipped"
       },
       "removedWidgets": [],
       "sqlProps": null,
       "stackFrames": [],
       "type": "baseError"
      }
     },
     "output_type": "display_data"
    }
   ],
   "source": [
    "%sql\n",
    "-- Corregir registros con ias_kts > 600 en fases de despegue o aterrizaje\n",
    "MERGE INTO sesion1_2.layer30_silver_quarantine.fact_engine_sensor_quarantine AS tgt\n",
    "USING (\n",
    "  SELECT reading_id\n",
    "  FROM sesion1_2.layer30_silver_quarantine.fact_engine_sensor_quarantine\n",
    "  WHERE ias_kts > 600\n",
    "    AND lower(phase_of_flight) IN ('CLIMB', 'DESCENT')\n",
    ") AS src\n",
    "ON tgt.reading_id = src.reading_id\n",
    "\n",
    "WHEN MATCHED THEN\n",
    "  UPDATE SET\n",
    "    tgt.fixed        = TRUE,\n",
    "    tgt.type_fix     = 'ias_overlimit_takeoff_landing',\n",
    "    tgt.date_fix     = current_timestamp(),\n",
    "    tgt.fix_version  = 1;\n"
   ]
  },
  {
   "cell_type": "markdown",
   "metadata": {
    "application/vnd.databricks.v1+cell": {
     "cellMetadata": {
      "byteLimit": 2048000,
      "rowLimit": 10000
     },
     "inputWidgets": {},
     "nuid": "c085a799-ba19-40eb-b33d-72b043f84a51",
     "showTitle": false,
     "tableResultSettingsMap": {},
     "title": ""
    }
   },
   "source": [
    "### 1.2.3 Join a Tabla Principal"
   ]
  },
  {
   "cell_type": "code",
   "execution_count": 0,
   "metadata": {
    "application/vnd.databricks.v1+cell": {
     "cellMetadata": {
      "byteLimit": 2048000,
      "implicitDf": true,
      "rowLimit": 10000
     },
     "inputWidgets": {},
     "nuid": "d5d51fbe-eab9-4cda-8150-e50353cecd51",
     "showTitle": false,
     "tableResultSettingsMap": {},
     "title": ""
    }
   },
   "outputs": [
    {
     "output_type": "display_data",
     "data": {
      "text/plain": [
       ""
      ]
     },
     "metadata": {
      "application/vnd.databricks.v1+output": {
       "addedWidgets": {},
       "arguments": {},
       "datasetInfos": [],
       "jupyterProps": null,
       "metadata": {
        "errorSummary": "Command skipped"
       },
       "removedWidgets": [],
       "sqlProps": null,
       "stackFrames": [],
       "type": "baseError"
      }
     },
     "output_type": "display_data"
    }
   ],
   "source": [
    "%sql\n",
    "-- 1) Upsert de filas corregidas (fixed=TRUE) desde la cuarentena a silver\n",
    "MERGE INTO sesion1_2.layer30_silver.fact_engine_sensor AS tgt\n",
    "USING (\n",
    "  SELECT\n",
    "    reading_id,\n",
    "    aircraft_id,\n",
    "    event_ts,\n",
    "    event_date,\n",
    "    engine_pos,\n",
    "    phase_of_flight,\n",
    "    altitude_ft,\n",
    "    ias_kts,\n",
    "    egt_c,\n",
    "    n1_pct,\n",
    "    fuel_flow_kg_h,\n",
    "    vib_ips\n",
    "  FROM sesion1_2.layer30_silver_quarantine.fact_engine_sensor_quarantine\n",
    "  WHERE fixed = TRUE\n",
    ") AS src\n",
    "ON tgt.reading_id = src.reading_id\n",
    "\n",
    "WHEN MATCHED THEN UPDATE SET\n",
    "  tgt.aircraft_id     = src.aircraft_id,\n",
    "  tgt.event_ts        = src.event_ts,\n",
    "  tgt.event_date      = src.event_date,\n",
    "  tgt.engine_pos      = src.engine_pos,\n",
    "  tgt.phase_of_flight = src.phase_of_flight,\n",
    "  tgt.altitude_ft     = src.altitude_ft,\n",
    "  tgt.ias_kts         = src.ias_kts,\n",
    "  tgt.egt_c           = src.egt_c,\n",
    "  tgt.n1_pct          = src.n1_pct,\n",
    "  tgt.fuel_flow_kg_h  = src.fuel_flow_kg_h,\n",
    "  tgt.vib_ips         = src.vib_ips\n",
    "\n",
    "WHEN NOT MATCHED THEN INSERT (\n",
    "  reading_id, aircraft_id, event_ts, event_date, engine_pos, phase_of_flight,\n",
    "  altitude_ft, ias_kts, egt_c, n1_pct, fuel_flow_kg_h, vib_ips\n",
    ") VALUES (\n",
    "  src.reading_id, src.aircraft_id, src.event_ts, src.event_date, src.engine_pos, src.phase_of_flight,\n",
    "  src.altitude_ft, src.ias_kts, src.egt_c, src.n1_pct, src.fuel_flow_kg_h, src.vib_ips\n",
    ");\n",
    "\n",
    "-- 2) (Opcional) limpiar cuarentena de lo ya aplicado\n",
    "DELETE FROM sesion1_2.layer30_silver_quarantine.fact_engine_sensor_quarantine\n",
    "WHERE fixed = TRUE;\n"
   ]
  },
  {
   "cell_type": "markdown",
   "metadata": {
    "application/vnd.databricks.v1+cell": {
     "cellMetadata": {
      "byteLimit": 2048000,
      "rowLimit": 10000
     },
     "inputWidgets": {},
     "nuid": "58003f46-1ec1-4723-ac66-2a966322e9b3",
     "showTitle": false,
     "tableResultSettingsMap": {},
     "title": ""
    }
   },
   "source": [
    "## 1.3 facts_maintenance"
   ]
  },
  {
   "cell_type": "code",
   "execution_count": 0,
   "metadata": {
    "application/vnd.databricks.v1+cell": {
     "cellMetadata": {
      "byteLimit": 2048000,
      "implicitDf": true,
      "rowLimit": 10000
     },
     "inputWidgets": {},
     "nuid": "7977383c-0ac6-42ee-823b-9cd0dd2b6ed6",
     "showTitle": false,
     "tableResultSettingsMap": {},
     "title": ""
    }
   },
   "outputs": [
    {
     "output_type": "display_data",
     "data": {
      "text/plain": [
       ""
      ]
     },
     "metadata": {
      "application/vnd.databricks.v1+output": {
       "addedWidgets": {},
       "arguments": {},
       "datasetInfos": [],
       "jupyterProps": null,
       "metadata": {
        "errorSummary": "Command skipped"
       },
       "removedWidgets": [],
       "sqlProps": null,
       "stackFrames": [],
       "type": "baseError"
      }
     },
     "output_type": "display_data"
    }
   ],
   "source": [
    "%sql\n",
    "select *\n",
    "from sesion1_2.layer30_silver_quarantine.fact_maintenance_event_quarantine"
   ]
  },
  {
   "cell_type": "code",
   "execution_count": 0,
   "metadata": {
    "application/vnd.databricks.v1+cell": {
     "cellMetadata": {
      "byteLimit": 2048000,
      "rowLimit": 10000
     },
     "inputWidgets": {},
     "nuid": "627a404b-d7f6-4c01-94f2-60c8dec4b59b",
     "showTitle": false,
     "tableResultSettingsMap": {},
     "title": ""
    }
   },
   "outputs": [],
   "source": []
  }
 ],
 "metadata": {
  "application/vnd.databricks.v1+notebook": {
   "computePreferences": null,
   "dashboards": [],
   "environmentMetadata": {
    "base_environment": "",
    "environment_version": "3"
   },
   "inputWidgetPreferences": null,
   "language": "python",
   "notebookMetadata": {
    "mostRecentlyExecutedCommandWithImplicitDF": {
     "commandId": 4527465178801034,
     "dataframes": [
      "_sqldf"
     ]
    },
    "pythonIndentUnit": 4
   },
   "notebookName": "03_cuarentena_recov_SOL",
   "widgets": {}
  },
  "language_info": {
   "name": "python"
  }
 },
 "nbformat": 4,
 "nbformat_minor": 0
}